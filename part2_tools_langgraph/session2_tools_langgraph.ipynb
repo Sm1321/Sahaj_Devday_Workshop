{
 "cells": [
  {
   "cell_type": "markdown",
   "id": "47e109e9",
   "metadata": {},
   "source": [
    "## Loading the environments"
   ]
  },
  {
   "cell_type": "code",
   "execution_count": 64,
   "id": "38a9f50a",
   "metadata": {},
   "outputs": [
    {
     "data": {
      "text/plain": [
       "True"
      ]
     },
     "execution_count": 64,
     "metadata": {},
     "output_type": "execute_result"
    }
   ],
   "source": [
    "import os\n",
    "from dotenv import load_dotenv\n",
    "load_dotenv()"
   ]
  },
  {
   "cell_type": "markdown",
   "id": "9af5fd44",
   "metadata": {},
   "source": [
    "## Importing the packages"
   ]
  },
  {
   "cell_type": "code",
   "execution_count": 65,
   "id": "ba934554",
   "metadata": {},
   "outputs": [],
   "source": [
    "from dotenv import load_dotenv\n",
    "from langchain.prompts import ChatPromptTemplate\n",
    "from langchain_openai import ChatOpenAI\n",
    "from IPython.display import Image, display\n",
    "from langgraph.graph import StateGraph , START , END , MessageGraph \n",
    "from langchain_core.messages import HumanMessage , AIMessage , SystemMessage\n",
    "from typing import TypedDict\n",
    "from typing import Annotated\n",
    "from langgraph.graph.message import add_messages\n",
    "\n",
    "import datetime"
   ]
  },
  {
   "cell_type": "code",
   "execution_count": 66,
   "id": "53f584a4",
   "metadata": {},
   "outputs": [],
   "source": [
    "# model = ChatOpenAI(model=\"gpt-4.1-mini\", temperature=0)"
   ]
  },
  {
   "cell_type": "code",
   "execution_count": 67,
   "id": "4f61f7cc",
   "metadata": {},
   "outputs": [],
   "source": [
    "from langchain_google_genai import ChatGoogleGenerativeAI\n",
    "model = ChatGoogleGenerativeAI(model=\"gemini-2.5-pro\", temperature=0)"
   ]
  },
  {
   "cell_type": "markdown",
   "id": "df486102",
   "metadata": {},
   "source": [
    "## Some utility functions"
   ]
  },
  {
   "cell_type": "code",
   "execution_count": 68,
   "id": "836b6c01",
   "metadata": {},
   "outputs": [],
   "source": [
    "# to display the graph\n",
    "def display_graph(app):\n",
    "    # this function will display the graph of the app\n",
    "    try:\n",
    "        display(Image(app.get_graph().draw_mermaid_png()))\n",
    "    except Exception as e:\n",
    "        # This requires some extra dependencies and is optional\n",
    "        print(e)\n",
    "\n",
    "\n",
    "\n",
    "# To stream the output of the app\n",
    "def stream_output(app, input):\n",
    "    for output in app.stream(input):\n",
    "        for key,value in output.items():\n",
    "            print(f\"here is output from {key}\")\n",
    "            print(\"_______\")\n",
    "            print(value)\n",
    "            print(\"\\n\")"
   ]
  },
  {
   "cell_type": "code",
   "execution_count": 69,
   "id": "bd4be307",
   "metadata": {},
   "outputs": [],
   "source": [
    "#defining the state\n",
    "class State(TypedDict):\n",
    "    messages:Annotated[list,add_messages]"
   ]
  },
  {
   "cell_type": "code",
   "execution_count": 70,
   "id": "81abfb71",
   "metadata": {},
   "outputs": [
    {
     "data": {
      "text/plain": [
       "AIMessage(content=\"Of course! Here is the current weather and forecast for **Hyderabad, Telangana, India**.\\n\\nAs of **Friday, 7:30 PM IST**:\\n\\n### **Currently: 27°C (81°F)**\\n*   **Condition:** Clear skies\\n*   **Feels Like:** 28°C (83°F)\\n*   **Wind:** 9 km/h from the East\\n*   **Humidity:** 68%\\n\\n---\\n\\n### **Today's Forecast**\\n\\n*   **Tonight's Low:** 23°C (73°F)\\n*   **Overall:** Expect a clear and comfortable evening.\\n\\n---\\n\\n### **Upcoming Forecast**\\n\\n*   **Saturday:** **33°C / 23°C** - Mostly sunny and hot.\\n*   **Sunday:** **33°C / 23°C** - Sunny with some passing clouds.\\n*   **Monday:** **34°C / 24°C** - Hazy sunshine and warm.\\n\\nHave a pleasant evening\", additional_kwargs={}, response_metadata={'prompt_feedback': {'block_reason': 0, 'safety_ratings': []}, 'finish_reason': 'STOP', 'model_name': 'gemini-2.5-pro', 'safety_ratings': []}, id='run--7e8130aa-d70e-4899-84ae-f844c707bcd5-0', usage_metadata={'input_tokens': 9, 'output_tokens': 1699, 'total_tokens': 1708, 'input_token_details': {'cache_read': 0}, 'output_token_details': {'reasoning': 1471}})"
      ]
     },
     "execution_count": 70,
     "metadata": {},
     "output_type": "execute_result"
    }
   ],
   "source": [
    "model.invoke(\"What is the weather in hyderabad?\")"
   ]
  },
  {
   "cell_type": "markdown",
   "id": "89f6a860",
   "metadata": {},
   "source": [
    "## Part 1: Access to tools"
   ]
  },
  {
   "cell_type": "code",
   "execution_count": 71,
   "id": "931877b8",
   "metadata": {},
   "outputs": [
    {
     "data": {
      "text/plain": [
       "{'query': 'What is langgraph',\n",
       " 'follow_up_questions': None,\n",
       " 'answer': None,\n",
       " 'images': [],\n",
       " 'results': [{'url': 'https://www.datacamp.com/tutorial/langgraph-tutorial',\n",
       "   'title': 'LangGraph Tutorial: What Is LangGraph and How to Use It?',\n",
       "   'content': 'LangGraph is a library within the LangChain ecosystem that provides a framework for defining, coordinating, and executing multiple LLM agents (or chains) in a structured and efficient manner. By managing the flow of data and the sequence of operations, LangGraph allows developers to focus on the high-level logic of their applications rather than the intricacies of agent coordination. Whether you need a chatbot that can handle various types of user requests or a multi-agent system that performs complex tasks, LangGraph provides the tools to build exactly what you need. LangGraph significantly simplifies the development of complex LLM applications by providing a structured framework for managing state and coordinating agent interactions.',\n",
       "   'score': 0.9502313,\n",
       "   'raw_content': None},\n",
       "  {'url': 'https://www.ibm.com/think/topics/langgraph',\n",
       "   'title': 'What is LangGraph? - IBM',\n",
       "   'content': 'LangGraph, created by LangChain, is an open source AI agent framework designed to build, deploy and manage complex generative AI agent workflows. At its core, LangGraph uses the power of graph-based architectures to model and manage the intricate relationships between various components of an AI agent workflow. LangGraph illuminates the processes within an AI workflow, allowing full transparency of the agent’s state. By combining these technologies with a set of APIs and tools, LangGraph provides users with a versatile platform for developing AI solutions and workflows including chatbots, state graphs and other agent-based systems. Nodes: In LangGraph, nodes represent individual components or agents within an AI workflow. LangGraph uses enhanced decision-making by modeling complex relationships between nodes, which means it uses AI agents to analyze their past actions and feedback.',\n",
       "   'score': 0.94401723,\n",
       "   'raw_content': None}],\n",
       " 'response_time': 1.36}"
      ]
     },
     "execution_count": 71,
     "metadata": {},
     "output_type": "execute_result"
    }
   ],
   "source": [
    "# tavily seaarch tool ---> for api go to https://app.tavily.com/home and generate an api key\n",
    "from langchain_tavily import TavilySearch\n",
    "\n",
    "search_tool = TavilySearch(max_results=2)\n",
    "search_tool.invoke(\"What is langgraph\")\n"
   ]
  },
  {
   "cell_type": "code",
   "execution_count": 72,
   "id": "eab20b7b",
   "metadata": {},
   "outputs": [
    {
     "data": {
      "text/plain": [
       "{'query': 'What is the weather in hyderabad?',\n",
       " 'follow_up_questions': None,\n",
       " 'answer': None,\n",
       " 'images': [],\n",
       " 'results': [{'title': 'Weather in Hyderabad',\n",
       "   'url': 'https://www.weatherapi.com/',\n",
       "   'content': \"{'location': {'name': 'Hyderabad', 'region': 'Telangana', 'country': 'India', 'lat': 17.3753, 'lon': 78.4744, 'tz_id': 'Asia/Kolkata', 'localtime_epoch': 1754117728, 'localtime': '2025-08-02 12:25'}, 'current': {'last_updated_epoch': 1754117100, 'last_updated': '2025-08-02 12:15', 'temp_c': 30.1, 'temp_f': 86.2, 'is_day': 1, 'condition': {'text': 'Partly cloudy', 'icon': '//cdn.weatherapi.com/weather/64x64/day/116.png', 'code': 1003}, 'wind_mph': 9.6, 'wind_kph': 15.5, 'wind_degree': 299, 'wind_dir': 'WNW', 'pressure_mb': 1009.0, 'pressure_in': 29.8, 'precip_mm': 0.0, 'precip_in': 0.0, 'humidity': 59, 'cloud': 50, 'feelslike_c': 31.0, 'feelslike_f': 87.9, 'windchill_c': 31.7, 'windchill_f': 89.1, 'heatindex_c': 33.5, 'heatindex_f': 92.4, 'dewpoint_c': 18.6, 'dewpoint_f': 65.6, 'vis_km': 6.0, 'vis_miles': 3.0, 'uv': 11.2, 'gust_mph': 11.1, 'gust_kph': 17.8}}\",\n",
       "   'score': 0.975633,\n",
       "   'raw_content': None},\n",
       "  {'url': 'https://www.indiatoday.in/weather/hyderabad-weather-forecast-today',\n",
       "   'title': 'Hyderabad Weather Today (Saturday, Aug 02, 2025) - India Today',\n",
       "   'content': 'The minimum temperature in Hyderabad today is likely to hover around 26 degrees Celsius, while the maximum temperature might reach 32 degrees Celsius.',\n",
       "   'score': 0.93554133,\n",
       "   'raw_content': None}],\n",
       " 'response_time': 1.38}"
      ]
     },
     "execution_count": 72,
     "metadata": {},
     "output_type": "execute_result"
    }
   ],
   "source": [
    "search_tool.invoke(\"What is the weather in hyderabad?\")"
   ]
  },
  {
   "cell_type": "markdown",
   "id": "58a4e018",
   "metadata": {},
   "source": [
    "## lets create 6 tools"
   ]
  },
  {
   "cell_type": "code",
   "execution_count": 73,
   "id": "9a8f613a",
   "metadata": {},
   "outputs": [],
   "source": [
    "#defining search tool\n",
    "search_tool = TavilySearch(max_results  = 2)\n",
    "\n",
    "\n",
    "def search_web(user_question):\n",
    "    \"\"\"\n",
    "    This function will search a web search for the user question\n",
    "    Args:\n",
    "        user_question (str): The question to search\n",
    "    Returns:\n",
    "        search_results (list): The search results\n",
    "    \"\"\"\n",
    "    search_results = search_tool.invoke(user_question)[\"results\"]\n",
    "    return search_results\n",
    "\n",
    "#mathematical tool - addition\n",
    "def add_numbers(a,b):\n",
    "    \"\"\"\n",
    "    This function will add two numbers\n",
    "    Args:\n",
    "        a (int): The first number\n",
    "        b (int): The second number\n",
    "    Returns:\n",
    "        result (int): The sum of the two numbers\n",
    "    \"\"\"\n",
    "    return a+b\n",
    "\n",
    "#mathematical tool - subtraction\n",
    "def subtract_numbers(a,b):\n",
    "    \"\"\"\n",
    "    This function will subtract two numbers\n",
    "    Args:\n",
    "        a (int): The first number\n",
    "        b (int): The second number\n",
    "    Returns:\n",
    "        result (int): The difference of the two numbers\n",
    "    \"\"\"\n",
    "    return a-b\n",
    "\n",
    "#mathematical tool - multiplication\n",
    "def multiply_numbers(a,b):\n",
    "    \"\"\"\n",
    "    This function will multiply two numbers\n",
    "    Args:\n",
    "        a (int): The first number\n",
    "        b (int): The second number\n",
    "    Returns:\n",
    "        result (int): The product of the two numbers\n",
    "    \"\"\"\n",
    "    return a*b\n",
    "\n",
    "#mathematical tool - division\n",
    "def divide_numbers(a,b):\n",
    "    \"\"\"\n",
    "    This function will divide two numbers\n",
    "    Args:\n",
    "        a (int): The first number\n",
    "        b (int): The second number\n",
    "    Returns:\n",
    "        result (int): The quotient of the two numbers\n",
    "    \"\"\"\n",
    "    return a/b\n",
    "\n",
    "\n",
    "# tooll to get the current time\n",
    "def get_current_time():\n",
    "    \"\"\"\n",
    "    This function will get the current time\n",
    "    Returns:\n",
    "        result (str): The current time\n",
    "    \"\"\"\n",
    "    return datetime.now().strftime(\"%H:%M:%S\")\n"
   ]
  },
  {
   "cell_type": "code",
   "execution_count": 74,
   "id": "02680dd5",
   "metadata": {},
   "outputs": [],
   "source": [
    "tools_list = [search_web, add_numbers, subtract_numbers, multiply_numbers, divide_numbers, get_current_time]"
   ]
  },
  {
   "cell_type": "code",
   "execution_count": 75,
   "id": "200101e7",
   "metadata": {},
   "outputs": [],
   "source": [
    "#bind the tools with llm\n",
    "llm_with_tool = model.bind_tools(tools_list)"
   ]
  },
  {
   "cell_type": "code",
   "execution_count": 76,
   "id": "8b03131d",
   "metadata": {},
   "outputs": [
    {
     "data": {
      "text/plain": [
       "RunnableBinding(bound=ChatGoogleGenerativeAI(model='models/gemini-2.5-pro', google_api_key=SecretStr('**********'), temperature=0.0, client=<google.ai.generativelanguage_v1beta.services.generative_service.client.GenerativeServiceClient object at 0x0000017276D66FD0>, default_metadata=(), model_kwargs={}), kwargs={'tools': [{'type': 'function', 'function': {'name': 'search_web', 'description': 'This function will search a web search for the user question\\nArgs:\\n    user_question (str): The question to search\\nReturns:\\n    search_results (list): The search results', 'parameters': {'properties': {'user_question': {}}, 'required': ['user_question'], 'type': 'object'}}}, {'type': 'function', 'function': {'name': 'add_numbers', 'description': 'This function will add two numbers\\nArgs:\\n    a (int): The first number\\n    b (int): The second number\\nReturns:\\n    result (int): The sum of the two numbers', 'parameters': {'properties': {'a': {}, 'b': {}}, 'required': ['a', 'b'], 'type': 'object'}}}, {'type': 'function', 'function': {'name': 'subtract_numbers', 'description': 'This function will subtract two numbers\\nArgs:\\n    a (int): The first number\\n    b (int): The second number\\nReturns:\\n    result (int): The difference of the two numbers', 'parameters': {'properties': {'a': {}, 'b': {}}, 'required': ['a', 'b'], 'type': 'object'}}}, {'type': 'function', 'function': {'name': 'multiply_numbers', 'description': 'This function will multiply two numbers\\nArgs:\\n    a (int): The first number\\n    b (int): The second number\\nReturns:\\n    result (int): The product of the two numbers', 'parameters': {'properties': {'a': {}, 'b': {}}, 'required': ['a', 'b'], 'type': 'object'}}}, {'type': 'function', 'function': {'name': 'divide_numbers', 'description': 'This function will divide two numbers\\nArgs:\\n    a (int): The first number\\n    b (int): The second number\\nReturns:\\n    result (int): The quotient of the two numbers', 'parameters': {'properties': {'a': {}, 'b': {}}, 'required': ['a', 'b'], 'type': 'object'}}}, {'type': 'function', 'function': {'name': 'get_current_time', 'description': 'This function will get the current time\\nReturns:\\n    result (str): The current time', 'parameters': {'properties': {}, 'type': 'object'}}}]}, config={}, config_factories=[])"
      ]
     },
     "execution_count": 76,
     "metadata": {},
     "output_type": "execute_result"
    }
   ],
   "source": [
    "llm_with_tool"
   ]
  },
  {
   "cell_type": "code",
   "execution_count": 77,
   "id": "309a809f",
   "metadata": {},
   "outputs": [],
   "source": [
    "#defining the nodes \n",
    "def tool_calling_llm(state:State):\n",
    "    return {\"messages\": [llm_with_tool.invoke(state[\"messages\"])]}"
   ]
  },
  {
   "cell_type": "code",
   "execution_count": 78,
   "id": "c70ab36c",
   "metadata": {},
   "outputs": [],
   "source": [
    "# define the workflow\n",
    "from langgraph.graph import StateGraph,START,END\n",
    "from langgraph.prebuilt import ToolNode\n",
    "from langgraph.prebuilt import tools_condition\n",
    "\n",
    "workflow = StateGraph(State)\n",
    "\n",
    "workflow.add_node(\"llm_with_tools\", tool_calling_llm)\n",
    "workflow.add_node(\"tools\" , ToolNode(tools_list))\n",
    "\n",
    "workflow.add_edge(START, \"llm_with_tools\")\n",
    "workflow.add_conditional_edges(\n",
    "    \"llm_with_tools\",\n",
    "    tools_condition\n",
    ")\n",
    "workflow.add_edge(\"tools\", END)\n",
    "\n",
    "app = workflow.compile()"
   ]
  },
  {
   "cell_type": "code",
   "execution_count": 79,
   "id": "b41301ce",
   "metadata": {},
   "outputs": [
    {
     "data": {
      "image/png": "[encoded data removed]",
      "text/plain": [
       "<IPython.core.display.Image object>"
      ]
     },
     "metadata": {},
     "output_type": "display_data"
    }
   ],
   "source": [
    "display_graph(app)"
   ]
  },
  {
   "cell_type": "code",
   "execution_count": 80,
   "id": "c4f40ded",
   "metadata": {},
   "outputs": [],
   "source": [
    "response = app.invoke({\"messages\": \"What is the current tariff put by USA on india?\"})"
   ]
  },
  {
   "cell_type": "code",
   "execution_count": 81,
   "id": "dd4e04cc",
   "metadata": {},
   "outputs": [
    {
     "data": {
      "text/plain": [
       "{'messages': [HumanMessage(content='What is the current tariff put by USA on india?', additional_kwargs={}, response_metadata={}, id='c94f0e35-d4d7-4f0d-a372-12f0eb9371bc'),\n",
       "  AIMessage(content='', additional_kwargs={'function_call': {'name': 'search_web', 'arguments': '{\"user_question\": \"current tariff put by USA on India\"}'}}, response_metadata={'prompt_feedback': {'block_reason': 0, 'safety_ratings': []}, 'finish_reason': 'STOP', 'model_name': 'gemini-2.5-pro', 'safety_ratings': []}, id='run--0c7ed8be-e337-453a-8a50-d40fd4ed106e-0', tool_calls=[{'name': 'search_web', 'args': {'user_question': 'current tariff put by USA on India'}, 'id': 'ebb9a800-ceb1-4f92-ba69-6e65a7e5bba6', 'type': 'tool_call'}], usage_metadata={'input_tokens': 472, 'output_tokens': 157, 'total_tokens': 629, 'input_token_details': {'cache_read': 0}, 'output_token_details': {'reasoning': 134}}),\n",
       "  ToolMessage(content='[{\"url\": \"https://apnews.com/article/trump-tariffs-russia-india-9e388a55583e7007149819c52f0fd71b\", \"title\": \"Trump announces 25% tariff on India starting Aug. 1 - AP News\", \"content\": \"WASHINGTON (AP) — The United States will impose a 25% tariff on goods from India, plus an additional import tax because of India\\'s purchasing\", \"score\": 0.76512027, \"raw_content\": null}, {\"url\": \"https://www.bbc.com/news/articles/c0j91p8w20vo\", \"title\": \"Trump\\'s tariffs could deal a blow to India\\'s growth and exports - BBC\", \"content\": \"US President Donald Trump\\'s decision to impose 25% tariffs on goods imported from India could hit the country\\'s growth prospects, experts say.\", \"score\": 0.6546525, \"raw_content\": null}]', name='search_web', id='137a0903-ea46-431a-8a9e-f1564055c7c0', tool_call_id='ebb9a800-ceb1-4f92-ba69-6e65a7e5bba6')]}"
      ]
     },
     "execution_count": 81,
     "metadata": {},
     "output_type": "execute_result"
    }
   ],
   "source": [
    "response"
   ]
  },
  {
   "cell_type": "code",
   "execution_count": 82,
   "id": "1aede4c8",
   "metadata": {},
   "outputs": [
    {
     "name": "stdout",
     "output_type": "stream",
     "text": [
      "================================\u001b[1m Human Message \u001b[0m=================================\n",
      "\n",
      "What is the current tariff put by USA on india?\n",
      "==================================\u001b[1m Ai Message \u001b[0m==================================\n",
      "Tool Calls:\n",
      "  search_web (ebb9a800-ceb1-4f92-ba69-6e65a7e5bba6)\n",
      " Call ID: ebb9a800-ceb1-4f92-ba69-6e65a7e5bba6\n",
      "  Args:\n",
      "    user_question: current tariff put by USA on India\n",
      "=================================\u001b[1m Tool Message \u001b[0m=================================\n",
      "Name: search_web\n",
      "\n",
      "[{\"url\": \"https://apnews.com/article/trump-tariffs-russia-india-9e388a55583e7007149819c52f0fd71b\", \"title\": \"Trump announces 25% tariff on India starting Aug. 1 - AP News\", \"content\": \"WASHINGTON (AP) — The United States will impose a 25% tariff on goods from India, plus an additional import tax because of India's purchasing\", \"score\": 0.76512027, \"raw_content\": null}, {\"url\": \"https://www.bbc.com/news/articles/c0j91p8w20vo\", \"title\": \"Trump's tariffs could deal a blow to India's growth and exports - BBC\", \"content\": \"US President Donald Trump's decision to impose 25% tariffs on goods imported from India could hit the country's growth prospects, experts say.\", \"score\": 0.6546525, \"raw_content\": null}]\n"
     ]
    }
   ],
   "source": [
    "for m in response['messages']:\n",
    "    m.pretty_print()"
   ]
  },
  {
   "cell_type": "code",
   "execution_count": 83,
   "id": "82f09611",
   "metadata": {},
   "outputs": [
    {
     "name": "stdout",
     "output_type": "stream",
     "text": [
      "================================\u001b[1m Human Message \u001b[0m=================================\n",
      "\n",
      "What is 5 multiplied by 4\n",
      "==================================\u001b[1m Ai Message \u001b[0m==================================\n",
      "Tool Calls:\n",
      "  multiply_numbers (63418a56-cafe-4c50-9381-711d64d0ddb2)\n",
      " Call ID: 63418a56-cafe-4c50-9381-711d64d0ddb2\n",
      "  Args:\n",
      "    b: 4.0\n",
      "    a: 5.0\n",
      "=================================\u001b[1m Tool Message \u001b[0m=================================\n",
      "Name: multiply_numbers\n",
      "\n",
      "20.0\n"
     ]
    }
   ],
   "source": [
    "response = app.invoke({\"messages\":\"What is 5 multiplied by 4\"})\n",
    "for m in response['messages']:\n",
    "    m.pretty_print()"
   ]
  },
  {
   "cell_type": "code",
   "execution_count": 84,
   "id": "674ce697",
   "metadata": {},
   "outputs": [
    {
     "name": "stdout",
     "output_type": "stream",
     "text": [
      "================================\u001b[1m Human Message \u001b[0m=================================\n",
      "\n",
      "What is 5 multiplied by 4 and where is taj mahal\n",
      "==================================\u001b[1m Ai Message \u001b[0m==================================\n",
      "Tool Calls:\n",
      "  multiply_numbers (1c60a546-36f7-4ce3-ac76-903388331d6b)\n",
      " Call ID: 1c60a546-36f7-4ce3-ac76-903388331d6b\n",
      "  Args:\n",
      "    b: 4.0\n",
      "    a: 5.0\n",
      "  search_web (ec5db8ff-0ed8-4741-b2ea-d9bd698838e7)\n",
      " Call ID: ec5db8ff-0ed8-4741-b2ea-d9bd698838e7\n",
      "  Args:\n",
      "    user_question: where is taj mahal\n",
      "=================================\u001b[1m Tool Message \u001b[0m=================================\n",
      "Name: multiply_numbers\n",
      "\n",
      "20.0\n",
      "=================================\u001b[1m Tool Message \u001b[0m=================================\n",
      "Name: search_web\n",
      "\n",
      "[{\"url\": \"https://maps.apple.com/place?auid=14589998842081006790\", \"title\": \"Taj Mahal in Agra, Uttar Pradesh, India - Apple Maps\", \"content\": \"The Taj Mahal is an ivory-white marble mausoleum on the right bank of the river Yamuna in Agra, Uttar Pradesh, India. It was commissioned in 1631 by the fifth\", \"score\": 0.87113565, \"raw_content\": null}, {\"url\": \"https://whc.unesco.org/en/list/252/\", \"title\": \"Taj Mahal - UNESCO World Heritage Centre\", \"content\": \"It was built by Mughal Emperor Shah Jahan in memory of his wife Mumtaz Mahal with construction starting in 1632 AD and completed in 1648 AD, with the mosque, the guest house and the main gateway on the south, the outer courtyard and its cloisters were added subsequently and completed in 1653 AD. The Taj Mahal is considered to be the greatest architectural achievement in the whole range of Indo-Islamic architecture. Its recognised architectonic beauty has a rhythmic combination of solids and voids, concave and convex and light shadow; such as arches and domes further increases the aesthetic aspect. Criterion (i): Taj Mahal represents the finest architectural and artistic achievement through perfect harmony and excellent craftsmanship in a whole range of Indo-Islamic sepulchral architecture. It is a masterpiece of architectural style in conception, treatment and execution and has unique aesthetic qualities in balance, symmetry and harmonious blending of various elements.\", \"score\": 0.61363083, \"raw_content\": null}]\n"
     ]
    }
   ],
   "source": [
    "## this is something to note about \n",
    "response=app.invoke({\"messages\":\"What is 5 multiplied by 4 and where is taj mahal\"})\n",
    "for m in response['messages']:\n",
    "    m.pretty_print()"
   ]
  },
  {
   "cell_type": "code",
   "execution_count": 85,
   "id": "29aa6405",
   "metadata": {},
   "outputs": [
    {
     "name": "stdout",
     "output_type": "stream",
     "text": [
      "================================\u001b[1m Human Message \u001b[0m=================================\n",
      "\n",
      "What is (5 * 2 + 12 /6) multiplied by 4 and where is Golconda Fort in India \n",
      "==================================\u001b[1m Ai Message \u001b[0m==================================\n",
      "Tool Calls:\n",
      "  multiply_numbers (d793df45-7724-4917-b440-f870f9e0ad84)\n",
      " Call ID: d793df45-7724-4917-b440-f870f9e0ad84\n",
      "  Args:\n",
      "    b: 2.0\n",
      "    a: 5.0\n",
      "  divide_numbers (0315047f-aa98-4338-a9fd-e8d45e288c84)\n",
      " Call ID: 0315047f-aa98-4338-a9fd-e8d45e288c84\n",
      "  Args:\n",
      "    b: 6.0\n",
      "    a: 12.0\n",
      "  search_web (90ca7b54-4f85-4f89-94d6-5923b9cb1b81)\n",
      " Call ID: 90ca7b54-4f85-4f89-94d6-5923b9cb1b81\n",
      "  Args:\n",
      "    user_question: where is Golconda Fort in India\n",
      "=================================\u001b[1m Tool Message \u001b[0m=================================\n",
      "Name: multiply_numbers\n",
      "\n",
      "10.0\n",
      "=================================\u001b[1m Tool Message \u001b[0m=================================\n",
      "Name: divide_numbers\n",
      "\n",
      "2.0\n",
      "=================================\u001b[1m Tool Message \u001b[0m=================================\n",
      "Name: search_web\n",
      "\n",
      "[{\"url\": \"https://hyderabad.telangana.gov.in/tourist-place/golconda-fort/\", \"title\": \"Golconda Fort | Hyderabad District, Government of Telangana | India\", \"content\": \"Golconda Fort is located in the western part of Hyderabad city and is about 9 km from the Hussain Sagar Lake. The outer fort occupies an area of three\", \"score\": 0.94174546, \"raw_content\": null}, {\"url\": \"https://en.wikipedia.org/wiki/Golconda\", \"title\": \"Golconda - Wikipedia\", \"content\": \"Golconda is a fortified citadel and ruined city located on the western outskirts of Hyderabad, Telangana, India.[1][2] The fort was originally built by Kakatiya ruler Pratāparudra in the 11th century out of mud walls.[3] It was ceded to the Bahmani Kings from Musunuri Nayakas during the reign of the Bahmani Sultan Mohammed Shah I, during the first Bahmani-Vijayanagar War. Following the death of Sultan Mahmood Shah, the Sultanate disintegrated and Sultan Quli, who had been appointed as the Governor of Hyderabad by the Bahmani Kings, fortified the city and made it the capital of the Golconda Sultanate. The Golconda fort and other Qutb Shahi dynasty Monuments of Hyderabad (the Charminar, and the Qutb Shahi Tombs) were submitted by the Permanent Delegation of India to UNESCO in 2010 for consideration as World Heritage Sites.\", \"score\": 0.9396537, \"raw_content\": null}]\n"
     ]
    }
   ],
   "source": [
    "## this is something to note about \n",
    "response=app.invoke({\"messages\":\"What is (5 * 2 + 12 /6) multiplied by 4 and where is Golconda Fort in India \"})\n",
    "for m in response['messages']:\n",
    "    m.pretty_print()"
   ]
  },
  {
   "cell_type": "markdown",
   "id": "fb05d75b",
   "metadata": {},
   "source": [
    "## Part 2: Improving the workflow by passing the tools output back to llm - ReACT agent"
   ]
  },
  {
   "cell_type": "code",
   "execution_count": 86,
   "id": "6c57ea64",
   "metadata": {},
   "outputs": [],
   "source": [
    "# define the workflow\n",
    "from langgraph.graph import StateGraph,START,END\n",
    "from langgraph.prebuilt import ToolNode\n",
    "from langgraph.prebuilt import tools_condition\n",
    "\n",
    "workflow = StateGraph(State)\n",
    "\n",
    "workflow.add_node(\"llm_with_tools\", tool_calling_llm)\n",
    "workflow.add_node(\"tools\" , ToolNode(tools_list))\n",
    "\n",
    "workflow.add_edge(START, \"llm_with_tools\")\n",
    "workflow.add_conditional_edges(\n",
    "    \"llm_with_tools\",\n",
    "    tools_condition\n",
    ")\n",
    "workflow.add_edge(\"tools\", \"llm_with_tools\")\n",
    "\n",
    "app2 = workflow.compile()"
   ]
  },
  {
   "cell_type": "code",
   "execution_count": 87,
   "id": "2eb85231",
   "metadata": {},
   "outputs": [
    {
     "data": {
      "image/png": "[encoded data removed]",
      "text/plain": [
       "<IPython.core.display.Image object>"
      ]
     },
     "metadata": {},
     "output_type": "display_data"
    }
   ],
   "source": [
    "display_graph(app2)"
   ]
  },
  {
   "cell_type": "code",
   "execution_count": 88,
   "id": "7fdf6834",
   "metadata": {},
   "outputs": [
    {
     "name": "stdout",
     "output_type": "stream",
     "text": [
      "================================\u001b[1m Human Message \u001b[0m=================================\n",
      "\n",
      "What is 5 multiplied by 4 and where is taj mahal\n",
      "==================================\u001b[1m Ai Message \u001b[0m==================================\n",
      "Tool Calls:\n",
      "  multiply_numbers (78091878-db5e-414c-952d-cd827f19fd45)\n",
      " Call ID: 78091878-db5e-414c-952d-cd827f19fd45\n",
      "  Args:\n",
      "    b: 4.0\n",
      "    a: 5.0\n",
      "  search_web (bfb5b22b-681d-4fab-8ee9-9e6b01453654)\n",
      " Call ID: bfb5b22b-681d-4fab-8ee9-9e6b01453654\n",
      "  Args:\n",
      "    user_question: where is taj mahal\n",
      "=================================\u001b[1m Tool Message \u001b[0m=================================\n",
      "Name: multiply_numbers\n",
      "\n",
      "20.0\n",
      "=================================\u001b[1m Tool Message \u001b[0m=================================\n",
      "Name: search_web\n",
      "\n",
      "[{\"url\": \"https://maps.apple.com/place?auid=14589998842081006790\", \"title\": \"Taj Mahal in Agra, Uttar Pradesh, India - Apple Maps\", \"content\": \"The Taj Mahal is an ivory-white marble mausoleum on the right bank of the river Yamuna in Agra, Uttar Pradesh, India. It was commissioned in 1631 by the fifth\", \"score\": 0.87113565, \"raw_content\": null}, {\"url\": \"https://whc.unesco.org/en/list/252/\", \"title\": \"Taj Mahal - UNESCO World Heritage Centre\", \"content\": \"It was built by Mughal Emperor Shah Jahan in memory of his wife Mumtaz Mahal with construction starting in 1632 AD and completed in 1648 AD, with the mosque, the guest house and the main gateway on the south, the outer courtyard and its cloisters were added subsequently and completed in 1653 AD. The Taj Mahal is considered to be the greatest architectural achievement in the whole range of Indo-Islamic architecture. Its recognised architectonic beauty has a rhythmic combination of solids and voids, concave and convex and light shadow; such as arches and domes further increases the aesthetic aspect. Criterion (i): Taj Mahal represents the finest architectural and artistic achievement through perfect harmony and excellent craftsmanship in a whole range of Indo-Islamic sepulchral architecture. It is a masterpiece of architectural style in conception, treatment and execution and has unique aesthetic qualities in balance, symmetry and harmonious blending of various elements.\", \"score\": 0.61363083, \"raw_content\": null}]\n",
      "==================================\u001b[1m Ai Message \u001b[0m==================================\n",
      "\n",
      "5 multiplied by 4 is 20 and the Taj Mahal is located in Agra, Uttar Pradesh, India.\n"
     ]
    }
   ],
   "source": [
    "response=app2.invoke({\"messages\":\"What is 5 multiplied by 4 and where is taj mahal\"})\n",
    "for m in response['messages']:\n",
    "    m.pretty_print()"
   ]
  },
  {
   "cell_type": "code",
   "execution_count": 89,
   "id": "bfbf4e09",
   "metadata": {},
   "outputs": [
    {
     "data": {
      "text/plain": [
       "{'messages': [HumanMessage(content='What is 5 multiplied by 4 and where is taj mahal', additional_kwargs={}, response_metadata={}, id='e4574e94-91c1-442d-b1de-4b065cd1b119'),\n",
       "  AIMessage(content='', additional_kwargs={'function_call': {'name': 'search_web', 'arguments': '{\"user_question\": \"where is taj mahal\"}'}}, response_metadata={'prompt_feedback': {'block_reason': 0, 'safety_ratings': []}, 'finish_reason': 'STOP', 'model_name': 'gemini-2.5-pro', 'safety_ratings': []}, id='run--a0f38d0e-36ff-4ab8-9a76-ccd35e6584cd-0', tool_calls=[{'name': 'multiply_numbers', 'args': {'b': 4.0, 'a': 5.0}, 'id': '0ed66972-66b9-4eb5-bfd8-0793da08fbfa', 'type': 'tool_call'}, {'name': 'search_web', 'args': {'user_question': 'where is taj mahal'}, 'id': '58dfd573-ffb9-4eb8-80c7-49f43278277f', 'type': 'tool_call'}], usage_metadata={'input_tokens': 474, 'output_tokens': 379, 'total_tokens': 853, 'input_token_details': {'cache_read': 0}, 'output_token_details': {'reasoning': 339}}),\n",
       "  ToolMessage(content='20.0', name='multiply_numbers', id='8afd3b8b-2954-49c7-8826-173850d42941', tool_call_id='0ed66972-66b9-4eb5-bfd8-0793da08fbfa'),\n",
       "  ToolMessage(content='[{\"url\": \"https://maps.apple.com/place?auid=14589998842081006790\", \"title\": \"Taj Mahal in Agra, Uttar Pradesh, India - Apple Maps\", \"content\": \"The Taj Mahal is an ivory-white marble mausoleum on the right bank of the river Yamuna in Agra, Uttar Pradesh, India. It was commissioned in 1631 by the fifth\", \"score\": 0.87113565, \"raw_content\": null}, {\"url\": \"https://whc.unesco.org/en/list/252/\", \"title\": \"Taj Mahal - UNESCO World Heritage Centre\", \"content\": \"It was built by Mughal Emperor Shah Jahan in memory of his wife Mumtaz Mahal with construction starting in 1632 AD and completed in 1648 AD, with the mosque, the guest house and the main gateway on the south, the outer courtyard and its cloisters were added subsequently and completed in 1653 AD. The Taj Mahal is considered to be the greatest architectural achievement in the whole range of Indo-Islamic architecture. Its recognised architectonic beauty has a rhythmic combination of solids and voids, concave and convex and light shadow; such as arches and domes further increases the aesthetic aspect. Criterion (i): Taj Mahal represents the finest architectural and artistic achievement through perfect harmony and excellent craftsmanship in a whole range of Indo-Islamic sepulchral architecture. It is a masterpiece of architectural style in conception, treatment and execution and has unique aesthetic qualities in balance, symmetry and harmonious blending of various elements.\", \"score\": 0.61363083, \"raw_content\": null}]', name='search_web', id='0fa78b3a-1626-4926-a21c-c92efe799c92', tool_call_id='58dfd573-ffb9-4eb8-80c7-49f43278277f'),\n",
       "  AIMessage(content='5 multiplied by 4 is 20 and the Taj Mahal is located in Agra, Uttar Pradesh, India. ', additional_kwargs={}, response_metadata={'prompt_feedback': {'block_reason': 0, 'safety_ratings': []}, 'finish_reason': 'STOP', 'model_name': 'gemini-2.5-pro', 'safety_ratings': []}, id='run--483e8d63-8a31-4d4c-a39c-6b878d7ce47e-0', usage_metadata={'input_tokens': 912, 'output_tokens': 23, 'total_tokens': 935, 'input_token_details': {'cache_read': 0}})]}"
      ]
     },
     "execution_count": 89,
     "metadata": {},
     "output_type": "execute_result"
    }
   ],
   "source": [
    "app2.invoke({\"messages\":\"What is 5 multiplied by 4 and where is taj mahal\"})"
   ]
  },
  {
   "cell_type": "code",
   "execution_count": 90,
   "id": "28d27b7d",
   "metadata": {},
   "outputs": [
    {
     "data": {
      "text/plain": [
       "{'messages': [HumanMessage(content='What is 5 multiplied by 4 and add 15 to it', additional_kwargs={}, response_metadata={}, id='6894b962-26ae-4fa8-9a95-1e987162d7a5'),\n",
       "  AIMessage(content='', additional_kwargs={'function_call': {'name': 'multiply_numbers', 'arguments': '{\"b\": 4.0, \"a\": 5.0}'}}, response_metadata={'prompt_feedback': {'block_reason': 0, 'safety_ratings': []}, 'finish_reason': 'STOP', 'model_name': 'gemini-2.5-pro', 'safety_ratings': []}, id='run--4a2e5412-d3b2-4932-91fa-40f9f12f2457-0', tool_calls=[{'name': 'print', 'args': {'message': 'I will first multiply 5 by 4.'}, 'id': 'e08cf920-88c7-4900-ac2b-5f82037d8ca3', 'type': 'tool_call'}, {'name': 'multiply_numbers', 'args': {'b': 4.0, 'a': 5.0}, 'id': '8acc61e5-1da3-447c-8992-3ea6ba01be34', 'type': 'tool_call'}], usage_metadata={'input_tokens': 476, 'output_tokens': 714, 'total_tokens': 1190, 'input_token_details': {'cache_read': 0}, 'output_token_details': {'reasoning': 673}}),\n",
       "  ToolMessage(content='Error: print is not a valid tool, try one of [search_web, add_numbers, subtract_numbers, multiply_numbers, divide_numbers, get_current_time].', name='print', id='a94aa48e-4609-491c-95ac-c2f4398776ca', tool_call_id='e08cf920-88c7-4900-ac2b-5f82037d8ca3', status='error'),\n",
       "  ToolMessage(content='20.0', name='multiply_numbers', id='ea4702a9-a513-4072-8296-8f9897a8ae98', tool_call_id='8acc61e5-1da3-447c-8992-3ea6ba01be34'),\n",
       "  AIMessage(content='', additional_kwargs={'function_call': {'name': 'add_numbers', 'arguments': '{\"b\": 15.0, \"a\": 20.0}'}}, response_metadata={'prompt_feedback': {'block_reason': 0, 'safety_ratings': []}, 'finish_reason': 'STOP', 'model_name': 'gemini-2.5-pro', 'safety_ratings': []}, id='run--1e39178d-3841-44b0-bfa5-ac69d8fa5b48-0', tool_calls=[{'name': 'add_numbers', 'args': {'b': 15.0, 'a': 20.0}, 'id': 'dbc2171e-974c-4ebc-aeac-2e7af7de0505', 'type': 'tool_call'}], usage_metadata={'input_tokens': 582, 'output_tokens': 278, 'total_tokens': 860, 'input_token_details': {'cache_read': 0}, 'output_token_details': {'reasoning': 256}}),\n",
       "  ToolMessage(content='35.0', name='add_numbers', id='3c4fb47b-d2f5-4e36-bf74-03e9f4d263a7', tool_call_id='dbc2171e-974c-4ebc-aeac-2e7af7de0505'),\n",
       "  AIMessage(content='5 multiplied by 4 is 20, and adding 15 to that gives 35.', additional_kwargs={}, response_metadata={'prompt_feedback': {'block_reason': 0, 'safety_ratings': []}, 'finish_reason': 'STOP', 'model_name': 'gemini-2.5-pro', 'safety_ratings': []}, id='run--71474c43-f791-4465-b3d8-b6befa09a0a9-0', usage_metadata={'input_tokens': 620, 'output_tokens': 441, 'total_tokens': 1061, 'input_token_details': {'cache_read': 0}, 'output_token_details': {'reasoning': 419}})]}"
      ]
     },
     "execution_count": 90,
     "metadata": {},
     "output_type": "execute_result"
    }
   ],
   "source": [
    "app2.invoke({\"messages\":\"What is 5 multiplied by 4 and add 15 to it\"})"
   ]
  },
  {
   "cell_type": "code",
   "execution_count": 92,
   "id": "13291aeb",
   "metadata": {},
   "outputs": [
    {
     "name": "stdout",
     "output_type": "stream",
     "text": [
      "================================\u001b[1m Human Message \u001b[0m=================================\n",
      "\n",
      "What is (5 * 2 + 12 /6) multiplied by 4 and where is Golconda Fort in India \n",
      "==================================\u001b[1m Ai Message \u001b[0m==================================\n",
      "Tool Calls:\n",
      "  multiply_numbers (177474de-060b-4b76-9096-5106267eb988)\n",
      " Call ID: 177474de-060b-4b76-9096-5106267eb988\n",
      "  Args:\n",
      "    b: 2.0\n",
      "    a: 5.0\n",
      "  divide_numbers (e4a33780-cfef-44d0-8af3-2831813ee8dc)\n",
      " Call ID: e4a33780-cfef-44d0-8af3-2831813ee8dc\n",
      "  Args:\n",
      "    b: 6.0\n",
      "    a: 12.0\n",
      "  search_web (ce21c75e-a27d-454e-8e22-7e2d18a7542b)\n",
      " Call ID: ce21c75e-a27d-454e-8e22-7e2d18a7542b\n",
      "  Args:\n",
      "    user_question: where is Golconda Fort in India\n",
      "=================================\u001b[1m Tool Message \u001b[0m=================================\n",
      "Name: multiply_numbers\n",
      "\n",
      "10.0\n",
      "=================================\u001b[1m Tool Message \u001b[0m=================================\n",
      "Name: divide_numbers\n",
      "\n",
      "2.0\n",
      "=================================\u001b[1m Tool Message \u001b[0m=================================\n",
      "Name: search_web\n",
      "\n",
      "[{\"url\": \"https://hyderabad.telangana.gov.in/tourist-place/golconda-fort/\", \"title\": \"Golconda Fort | Hyderabad District, Government of Telangana | India\", \"content\": \"Golconda Fort is located in the western part of Hyderabad city and is about 9 km from the Hussain Sagar Lake. The outer fort occupies an area of three\", \"score\": 0.94174546, \"raw_content\": null}, {\"url\": \"https://en.wikipedia.org/wiki/Golconda\", \"title\": \"Golconda - Wikipedia\", \"content\": \"Golconda is a fortified citadel and ruined city located on the western outskirts of Hyderabad, Telangana, India.[1][2] The fort was originally built by Kakatiya ruler Pratāparudra in the 11th century out of mud walls.[3] It was ceded to the Bahmani Kings from Musunuri Nayakas during the reign of the Bahmani Sultan Mohammed Shah I, during the first Bahmani-Vijayanagar War. Following the death of Sultan Mahmood Shah, the Sultanate disintegrated and Sultan Quli, who had been appointed as the Governor of Hyderabad by the Bahmani Kings, fortified the city and made it the capital of the Golconda Sultanate. The Golconda fort and other Qutb Shahi dynasty Monuments of Hyderabad (the Charminar, and the Qutb Shahi Tombs) were submitted by the Permanent Delegation of India to UNESCO in 2010 for consideration as World Heritage Sites.\", \"score\": 0.9396537, \"raw_content\": null}]\n"
     ]
    }
   ],
   "source": [
    "## this is something to note about \n",
    "response = app.invoke({\"messages\":\"What is (5 * 2 + 12 /6) multiplied by 4 and where is Golconda Fort in India \"})\n",
    "for m in response['messages']:\n",
    "    m.pretty_print()"
   ]
  },
  {
   "cell_type": "markdown",
   "id": "cbbb3d60",
   "metadata": {},
   "source": [
    "## Part 3: Inbuilt ReACT agent by langgraph"
   ]
  },
  {
   "cell_type": "code",
   "execution_count": 93,
   "id": "4078633e",
   "metadata": {},
   "outputs": [],
   "source": [
    "from langgraph.prebuilt import create_react_agent"
   ]
  },
  {
   "cell_type": "code",
   "execution_count": 94,
   "id": "165812b6",
   "metadata": {},
   "outputs": [],
   "source": [
    "react_agent = create_react_agent(\n",
    "    model=model,\n",
    "    tools=tools_list\n",
    ")\n"
   ]
  },
  {
   "cell_type": "code",
   "execution_count": 95,
   "id": "b67da8d9",
   "metadata": {},
   "outputs": [
    {
     "data": {
      "text/plain": [
       "{'messages': [HumanMessage(content='What is 5 multiplied by 4 and where is taj mahal', additional_kwargs={}, response_metadata={}, id='d7db0187-79e9-486d-a169-9c9c73bbf20d'),\n",
       "  AIMessage(content='', additional_kwargs={'function_call': {'name': 'search_web', 'arguments': '{\"user_question\": \"where is taj mahal\"}'}}, response_metadata={'prompt_feedback': {'block_reason': 0, 'safety_ratings': []}, 'finish_reason': 'STOP', 'model_name': 'gemini-2.5-pro', 'safety_ratings': []}, id='run--10bf6a23-3dbf-4497-bba5-06ddfd59abff-0', tool_calls=[{'name': 'multiply_numbers', 'args': {'b': 4.0, 'a': 5.0}, 'id': 'f3a90774-b3ff-471b-bbeb-45043b438a4d', 'type': 'tool_call'}, {'name': 'search_web', 'args': {'user_question': 'where is taj mahal'}, 'id': '9eb798ab-b76d-44c0-9162-da23e08cd3a5', 'type': 'tool_call'}], usage_metadata={'input_tokens': 474, 'output_tokens': 343, 'total_tokens': 817, 'input_token_details': {'cache_read': 0}, 'output_token_details': {'reasoning': 303}}),\n",
       "  ToolMessage(content='20.0', name='multiply_numbers', id='565ed983-7245-4a34-b518-1e108a503fb4', tool_call_id='f3a90774-b3ff-471b-bbeb-45043b438a4d'),\n",
       "  ToolMessage(content='[{\"url\": \"https://maps.apple.com/place?auid=14589998842081006790\", \"title\": \"Taj Mahal in Agra, Uttar Pradesh, India - Apple Maps\", \"content\": \"The Taj Mahal is an ivory-white marble mausoleum on the right bank of the river Yamuna in Agra, Uttar Pradesh, India. It was commissioned in 1631 by the fifth\", \"score\": 0.87113565, \"raw_content\": null}, {\"url\": \"https://whc.unesco.org/en/list/252/\", \"title\": \"Taj Mahal - UNESCO World Heritage Centre\", \"content\": \"It was built by Mughal Emperor Shah Jahan in memory of his wife Mumtaz Mahal with construction starting in 1632 AD and completed in 1648 AD, with the mosque, the guest house and the main gateway on the south, the outer courtyard and its cloisters were added subsequently and completed in 1653 AD. The Taj Mahal is considered to be the greatest architectural achievement in the whole range of Indo-Islamic architecture. Its recognised architectonic beauty has a rhythmic combination of solids and voids, concave and convex and light shadow; such as arches and domes further increases the aesthetic aspect. Criterion (i): Taj Mahal represents the finest architectural and artistic achievement through perfect harmony and excellent craftsmanship in a whole range of Indo-Islamic sepulchral architecture. It is a masterpiece of architectural style in conception, treatment and execution and has unique aesthetic qualities in balance, symmetry and harmonious blending of various elements.\", \"score\": 0.61363083, \"raw_content\": null}]', name='search_web', id='19e75a3e-35e7-4291-8771-361310b6749f', tool_call_id='9eb798ab-b76d-44c0-9162-da23e08cd3a5'),\n",
       "  AIMessage(content='5 multiplied by 4 is 20 and the Taj Mahal is located in Agra, Uttar Pradesh, India. ', additional_kwargs={}, response_metadata={'prompt_feedback': {'block_reason': 0, 'safety_ratings': []}, 'finish_reason': 'STOP', 'model_name': 'gemini-2.5-pro', 'safety_ratings': []}, id='run--1404a678-f776-43bf-8a58-f2a911fb40b8-0', usage_metadata={'input_tokens': 912, 'output_tokens': 23, 'total_tokens': 935, 'input_token_details': {'cache_read': 0}})]}"
      ]
     },
     "execution_count": 95,
     "metadata": {},
     "output_type": "execute_result"
    }
   ],
   "source": [
    "react_agent.invoke({\"messages\":\"What is 5 multiplied by 4 and where is taj mahal\"})"
   ]
  },
  {
   "cell_type": "markdown",
   "id": "69b0aee6",
   "metadata": {},
   "source": [
    "## Part 4 : Memory in langgraphs"
   ]
  },
  {
   "cell_type": "code",
   "execution_count": 96,
   "id": "0317aec0",
   "metadata": {},
   "outputs": [
    {
     "data": {
      "text/plain": [
       "{'messages': [HumanMessage(content='Hey my name is Suman', additional_kwargs={}, response_metadata={}, id='80ece217-858f-4268-aa2c-1ece309db799'),\n",
       "  AIMessage(content='Hello Suman! How can I help you today? ', additional_kwargs={}, response_metadata={'prompt_feedback': {'block_reason': 0, 'safety_ratings': []}, 'finish_reason': 'STOP', 'model_name': 'gemini-2.5-pro', 'safety_ratings': []}, id='run--27de996a-feee-4b89-8329-0b18c238bada-0', usage_metadata={'input_tokens': 467, 'output_tokens': 11, 'total_tokens': 478, 'input_token_details': {'cache_read': 0}})]}"
      ]
     },
     "execution_count": 96,
     "metadata": {},
     "output_type": "execute_result"
    }
   ],
   "source": [
    "app2.invoke({\"messages\":\"Hey my name is Suman\"})"
   ]
  },
  {
   "cell_type": "code",
   "execution_count": 97,
   "id": "3e1ed92e",
   "metadata": {},
   "outputs": [
    {
     "data": {
      "text/plain": [
       "{'messages': [HumanMessage(content='Hey what is my name', additional_kwargs={}, response_metadata={}, id='5be12040-aba3-468f-969d-12630bd18699'),\n",
       "  AIMessage(content='I am sorry, but I do not have access to your name. I am a large language model, and I do not have access to any of your personal information.', additional_kwargs={}, response_metadata={'prompt_feedback': {'block_reason': 0, 'safety_ratings': []}, 'finish_reason': 'STOP', 'model_name': 'gemini-2.5-pro', 'safety_ratings': []}, id='run--59680b06-ee80-491a-8dc0-7934a8255a15-0', usage_metadata={'input_tokens': 466, 'output_tokens': 189, 'total_tokens': 655, 'input_token_details': {'cache_read': 0}, 'output_token_details': {'reasoning': 155}})]}"
      ]
     },
     "execution_count": 97,
     "metadata": {},
     "output_type": "execute_result"
    }
   ],
   "source": [
    "app2.invoke({\"messages\":\"Hey what is my name\"})"
   ]
  },
  {
   "cell_type": "code",
   "execution_count": 98,
   "id": "8a43375c",
   "metadata": {},
   "outputs": [],
   "source": [
    "# define the workflow\n",
    "from langgraph.graph import StateGraph,START,END\n",
    "from langgraph.prebuilt import ToolNode\n",
    "from langgraph.prebuilt import tools_condition\n",
    "from langgraph.checkpoint.memory import MemorySaver\n",
    "\n",
    "memory = MemorySaver()\n",
    "\n",
    "workflow = StateGraph(State)\n",
    "\n",
    "workflow.add_node(\"llm_with_tools\", tool_calling_llm)\n",
    "workflow.add_node(\"tools\" , ToolNode(tools_list))\n",
    "\n",
    "workflow.add_edge(START, \"llm_with_tools\")\n",
    "workflow.add_conditional_edges(\n",
    "    \"llm_with_tools\",\n",
    "    tools_condition\n",
    ")\n",
    "workflow.add_edge(\"tools\", \"llm_with_tools\")\n",
    "\n",
    "app3 = workflow.compile(checkpointer = memory)"
   ]
  },
  {
   "cell_type": "code",
   "execution_count": 99,
   "id": "26445e59",
   "metadata": {},
   "outputs": [
    {
     "name": "stdout",
     "output_type": "stream",
     "text": [
      "Hello Suman! How can I help you today?\n"
     ]
    }
   ],
   "source": [
    "config = {\"configurable\":{\"thread_id\":\"1\"}}\n",
    "response = app3.invoke({\"messages\":\"Hi my name is Suman\"},config = config)\n",
    "print(response[\"messages\"][-1].content)"
   ]
  },
  {
   "cell_type": "code",
   "execution_count": 100,
   "id": "2a6d8b4f",
   "metadata": {},
   "outputs": [
    {
     "name": "stdout",
     "output_type": "stream",
     "text": [
      "You told me your name is Suman.\n"
     ]
    }
   ],
   "source": [
    "response=app3.invoke({\"messages\":\"hey what is my name\"},config=config)\n",
    "print(response[\"messages\"][-1].content)"
   ]
  },
  {
   "cell_type": "markdown",
   "id": "6c826ba6",
   "metadata": {},
   "source": [
    "## Part 5 : Streaming in Langgraph"
   ]
  },
  {
   "cell_type": "markdown",
   "id": "6804d346",
   "metadata": {},
   "source": [
    "Methods: .stream() and astream()\n",
    "\n",
    "These methods are sync and async methods for streaming back results.\n",
    "Additional parameters in streaming modes for graph state\n",
    "\n",
    "values : This streams the full state of the graph after each node is called. \\\n",
    "updates : This streams updates to the state of the graph after each node is called.\n"
   ]
  },
  {
   "cell_type": "code",
   "execution_count": 102,
   "id": "1d3ef1b4",
   "metadata": {},
   "outputs": [
    {
     "name": "stdout",
     "output_type": "stream",
     "text": [
      "{'messages': [HumanMessage(content='Hi,My name is Suman And I like cricket', additional_kwargs={}, response_metadata={}, id='1e8bc779-90fa-4f95-b00b-bc3145d28cbb'), HumanMessage(content='Hi,My name is Suman And I like cricket', additional_kwargs={}, response_metadata={}, id='b2dd1c2f-442f-43c4-b82a-4a7d39093574')]}\n",
      "{'messages': [HumanMessage(content='Hi,My name is Suman And I like cricket', additional_kwargs={}, response_metadata={}, id='1e8bc779-90fa-4f95-b00b-bc3145d28cbb'), HumanMessage(content='Hi,My name is Suman And I like cricket', additional_kwargs={}, response_metadata={}, id='b2dd1c2f-442f-43c4-b82a-4a7d39093574'), AIMessage(content=\"Hello Suman, it's nice to meet you. I'm a large language model, trained by Google. It\", additional_kwargs={}, response_metadata={'prompt_feedback': {'block_reason': 0, 'safety_ratings': []}, 'finish_reason': 'STOP', 'model_name': 'gemini-2.5-pro', 'safety_ratings': []}, id='run--cc97e93e-ea9d-4f3d-bce9-d993017384be-0', usage_metadata={'input_tokens': 484, 'output_tokens': 78, 'total_tokens': 562, 'input_token_details': {'cache_read': 0}, 'output_token_details': {'reasoning': 53}})]}\n"
     ]
    }
   ],
   "source": [
    "# Create a thread\n",
    "config = {\"configurable\": {\"thread_id\": \"2\"}}\n",
    "\n",
    "for chunk in app3.stream({'messages':\"Hi,My name is Suman And I like cricket\"},config,stream_mode=\"values\"):\n",
    "    print(chunk)"
   ]
  },
  {
   "cell_type": "code",
   "execution_count": null,
   "id": "3aa737b2",
   "metadata": {},
   "outputs": [
    {
     "name": "stdout",
     "output_type": "stream",
     "text": [
      "{'messages': [HumanMessage(content='Hi,My name is Suman And I like cricket', additional_kwargs={}, response_metadata={}, id='40c95168-3e4c-435c-9e3e-20ad7947bfd4'), AIMessage(content=\"Hi Suman, it's nice to meet you. I am a large language model, trained by Google. I hope you are having a great day.\", additional_kwargs={}, response_metadata={'prompt_feedback': {'block_reason': 0, 'safety_ratings': []}, 'finish_reason': 'STOP', 'model_name': 'gemini-2.5-pro', 'safety_ratings': []}, id='run--2d738db5-fcf4-4ac1-ac4a-1834a302fb54-0', usage_metadata={'input_tokens': 472, 'output_tokens': 85, 'total_tokens': 557, 'input_token_details': {'cache_read': 0}, 'output_token_details': {'reasoning': 53}}), HumanMessage(content='oh i love movies too', additional_kwargs={}, response_metadata={}, id='aa8b8981-8b6a-4645-85a9-1505b8ddcfec')]}\n",
      "{'messages': [HumanMessage(content='Hi,My name is Suman And I like cricket', additional_kwargs={}, response_metadata={}, id='40c95168-3e4c-435c-9e3e-20ad7947bfd4'), AIMessage(content=\"Hi Suman, it's nice to meet you. I am a large language model, trained by Google. I hope you are having a great day.\", additional_kwargs={}, response_metadata={'prompt_feedback': {'block_reason': 0, 'safety_ratings': []}, 'finish_reason': 'STOP', 'model_name': 'gemini-2.5-pro', 'safety_ratings': []}, id='run--2d738db5-fcf4-4ac1-ac4a-1834a302fb54-0', usage_metadata={'input_tokens': 472, 'output_tokens': 85, 'total_tokens': 557, 'input_token_details': {'cache_read': 0}, 'output_token_details': {'reasoning': 53}}), HumanMessage(content='oh i love movies too', additional_kwargs={}, response_metadata={}, id='aa8b8981-8b6a-4645-85a9-1505b8ddcfec'), AIMessage(content=\"That's great! I can tell you about movies, recommend movies, and even search for movies that are currently playing. What would you like to know? \", additional_kwargs={}, response_metadata={'prompt_feedback': {'block_reason': 0, 'safety_ratings': []}, 'finish_reason': 'STOP', 'model_name': 'gemini-2.5-pro', 'safety_ratings': []}, id='run--69d4ccf4-eb3e-4021-8615-cad13001efe7-0', usage_metadata={'input_tokens': 511, 'output_tokens': 32, 'total_tokens': 543, 'input_token_details': {'cache_read': 0}})]}\n"
     ]
    }
   ],
   "source": [
    "# Create a thread\n",
    "config = {\"configurable\": {\"thread_id\": \"2\"}}\n",
    "\n",
    "for chunk in app3.stream({'messages':\"oh i love movies too\"},config,stream_mode=\"values\"):\n",
    "    print(chunk)"
   ]
  },
  {
   "cell_type": "code",
   "execution_count": null,
   "id": "ef61f9ee",
   "metadata": {},
   "outputs": [
    {
     "name": "stdout",
     "output_type": "stream",
     "text": [
      "{'llm_with_tools': {'messages': [AIMessage(content=\"Hi Suman! It's great to meet you. Cricket is a fantastic sport. Do you have a favorite team or player? Or maybe you play cricket yourself?\", additional_kwargs={'refusal': None}, response_metadata={'token_usage': {'completion_tokens': 33, 'prompt_tokens': 350, 'total_tokens': 383, 'completion_tokens_details': {'accepted_prediction_tokens': 0, 'audio_tokens': 0, 'reasoning_tokens': 0, 'rejected_prediction_tokens': 0}, 'prompt_tokens_details': {'audio_tokens': 0, 'cached_tokens': 0}}, 'model_name': 'gpt-4.1-mini-2025-04-14', 'system_fingerprint': 'fp_6f2eabb9a5', 'id': 'chatcmpl-Bz5yTbGVyekkvQTs4euFjXVwk7aoy', 'service_tier': 'default', 'finish_reason': 'stop', 'logprobs': None}, id='run--594ace72-c162-41ee-91ac-ec45a9bc3c73-0', usage_metadata={'input_tokens': 350, 'output_tokens': 33, 'total_tokens': 383, 'input_token_details': {'audio': 0, 'cache_read': 0}, 'output_token_details': {'audio': 0, 'reasoning': 0}})]}}\n"
     ]
    }
   ],
   "source": [
    "# using updates method : only the recent values are reflected\n",
    "# Create a thread\n",
    "config = {\"configurable\": {\"thread_id\": \"3\"}}\n",
    "\n",
    "for chunk in app3.stream({'messages':\"Hi,My name is Suman And I like cricket\"},config,stream_mode=\"updates\"):\n",
    "    print(chunk)"
   ]
  },
  {
   "cell_type": "code",
   "execution_count": null,
   "id": "fcc00b68",
   "metadata": {},
   "outputs": [
    {
     "name": "stdout",
     "output_type": "stream",
     "text": [
      "{'llm_with_tools': {'messages': [AIMessage(content=\"That's great! What kind of movies do you enjoy the most? Any favorite genres or films?\", additional_kwargs={'refusal': None}, response_metadata={'token_usage': {'completion_tokens': 20, 'prompt_tokens': 344, 'total_tokens': 364, 'completion_tokens_details': {'accepted_prediction_tokens': 0, 'audio_tokens': 0, 'reasoning_tokens': 0, 'rejected_prediction_tokens': 0}, 'prompt_tokens_details': {'audio_tokens': 0, 'cached_tokens': 0}}, 'model_name': 'gpt-4.1-mini-2025-04-14', 'system_fingerprint': 'fp_6f2eabb9a5', 'id': 'chatcmpl-BzuHPO6u9pTGwiiCiJ7f8qLKsMAF2', 'service_tier': 'default', 'finish_reason': 'stop', 'logprobs': None}, id='run--5f6296c5-42a1-47e2-aa61-ab82b431bda3-0', usage_metadata={'input_tokens': 344, 'output_tokens': 20, 'total_tokens': 364, 'input_token_details': {'audio': 0, 'cache_read': 0}, 'output_token_details': {'audio': 0, 'reasoning': 0}})]}}\n"
     ]
    }
   ],
   "source": [
    "config = {\"configurable\": {\"thread_id\": \"3\"}}\n",
    "\n",
    "for chunk in app3.stream({'messages':\"oh i love movies too\"},config,stream_mode = \"updates\"):\n",
    "    print(chunk)"
   ]
  },
  {
   "cell_type": "code",
   "execution_count": null,
   "id": "ddfd1357",
   "metadata": {},
   "outputs": [
    {
     "name": "stdout",
     "output_type": "stream",
     "text": [
      "{'event': 'on_chain_start', 'data': {'input': {'messages': ['Hi My name is Suman and I like to play cricket']}}, 'name': 'LangGraph', 'tags': [], 'run_id': '3ed1fa8c-b8ed-45e1-9990-1908251da83a', 'metadata': {'thread_id': '4'}, 'parent_ids': []}\n",
      "{'event': 'on_chain_start', 'data': {'input': {'messages': [HumanMessage(content='Hi My name is Suman and I like to play cricket', additional_kwargs={}, response_metadata={}, id='7c205b60-58d9-417f-8b8f-d1d8a4a636ba')]}}, 'name': 'llm_with_tools', 'tags': ['graph:step:1'], 'run_id': 'cbecd6ea-f46d-4e02-91c6-f22499ac3a55', 'metadata': {'thread_id': '4', 'langgraph_step': 1, 'langgraph_node': 'llm_with_tools', 'langgraph_triggers': ('branch:to:llm_with_tools',), 'langgraph_path': ('__pregel_pull', 'llm_with_tools'), 'langgraph_checkpoint_ns': 'llm_with_tools:77ea0598-52ce-51b8-09b8-fb57999d651e'}, 'parent_ids': ['3ed1fa8c-b8ed-45e1-9990-1908251da83a']}\n",
      "{'event': 'on_chat_model_start', 'data': {'input': {'messages': [[HumanMessage(content='Hi My name is Suman and I like to play cricket', additional_kwargs={}, response_metadata={}, id='7c205b60-58d9-417f-8b8f-d1d8a4a636ba')]]}}, 'name': 'ChatOpenAI', 'tags': ['seq:step:1'], 'run_id': '88f6c76a-f8a4-4a3c-ade5-4691ba75912a', 'metadata': {'thread_id': '4', 'langgraph_step': 1, 'langgraph_node': 'llm_with_tools', 'langgraph_triggers': ('branch:to:llm_with_tools',), 'langgraph_path': ('__pregel_pull', 'llm_with_tools'), 'langgraph_checkpoint_ns': 'llm_with_tools:77ea0598-52ce-51b8-09b8-fb57999d651e', 'checkpoint_ns': 'llm_with_tools:77ea0598-52ce-51b8-09b8-fb57999d651e', 'ls_provider': 'openai', 'ls_model_name': 'gpt-4.1-mini', 'ls_model_type': 'chat', 'ls_temperature': 0.0}, 'parent_ids': ['3ed1fa8c-b8ed-45e1-9990-1908251da83a', 'cbecd6ea-f46d-4e02-91c6-f22499ac3a55']}\n",
      "{'event': 'on_chat_model_stream', 'data': {'chunk': AIMessageChunk(content='', additional_kwargs={}, response_metadata={}, id='run--88f6c76a-f8a4-4a3c-ade5-4691ba75912a')}, 'run_id': '88f6c76a-f8a4-4a3c-ade5-4691ba75912a', 'name': 'ChatOpenAI', 'tags': ['seq:step:1'], 'metadata': {'thread_id': '4', 'langgraph_step': 1, 'langgraph_node': 'llm_with_tools', 'langgraph_triggers': ('branch:to:llm_with_tools',), 'langgraph_path': ('__pregel_pull', 'llm_with_tools'), 'langgraph_checkpoint_ns': 'llm_with_tools:77ea0598-52ce-51b8-09b8-fb57999d651e', 'checkpoint_ns': 'llm_with_tools:77ea0598-52ce-51b8-09b8-fb57999d651e', 'ls_provider': 'openai', 'ls_model_name': 'gpt-4.1-mini', 'ls_model_type': 'chat', 'ls_temperature': 0.0}, 'parent_ids': ['3ed1fa8c-b8ed-45e1-9990-1908251da83a', 'cbecd6ea-f46d-4e02-91c6-f22499ac3a55']}\n",
      "{'event': 'on_chat_model_stream', 'data': {'chunk': AIMessageChunk(content='Hi', additional_kwargs={}, response_metadata={}, id='run--88f6c76a-f8a4-4a3c-ade5-4691ba75912a')}, 'run_id': '88f6c76a-f8a4-4a3c-ade5-4691ba75912a', 'name': 'ChatOpenAI', 'tags': ['seq:step:1'], 'metadata': {'thread_id': '4', 'langgraph_step': 1, 'langgraph_node': 'llm_with_tools', 'langgraph_triggers': ('branch:to:llm_with_tools',), 'langgraph_path': ('__pregel_pull', 'llm_with_tools'), 'langgraph_checkpoint_ns': 'llm_with_tools:77ea0598-52ce-51b8-09b8-fb57999d651e', 'checkpoint_ns': 'llm_with_tools:77ea0598-52ce-51b8-09b8-fb57999d651e', 'ls_provider': 'openai', 'ls_model_name': 'gpt-4.1-mini', 'ls_model_type': 'chat', 'ls_temperature': 0.0}, 'parent_ids': ['3ed1fa8c-b8ed-45e1-9990-1908251da83a', 'cbecd6ea-f46d-4e02-91c6-f22499ac3a55']}\n",
      "{'event': 'on_chat_model_stream', 'data': {'chunk': AIMessageChunk(content=' S', additional_kwargs={}, response_metadata={}, id='run--88f6c76a-f8a4-4a3c-ade5-4691ba75912a')}, 'run_id': '88f6c76a-f8a4-4a3c-ade5-4691ba75912a', 'name': 'ChatOpenAI', 'tags': ['seq:step:1'], 'metadata': {'thread_id': '4', 'langgraph_step': 1, 'langgraph_node': 'llm_with_tools', 'langgraph_triggers': ('branch:to:llm_with_tools',), 'langgraph_path': ('__pregel_pull', 'llm_with_tools'), 'langgraph_checkpoint_ns': 'llm_with_tools:77ea0598-52ce-51b8-09b8-fb57999d651e', 'checkpoint_ns': 'llm_with_tools:77ea0598-52ce-51b8-09b8-fb57999d651e', 'ls_provider': 'openai', 'ls_model_name': 'gpt-4.1-mini', 'ls_model_type': 'chat', 'ls_temperature': 0.0}, 'parent_ids': ['3ed1fa8c-b8ed-45e1-9990-1908251da83a', 'cbecd6ea-f46d-4e02-91c6-f22499ac3a55']}\n",
      "{'event': 'on_chat_model_stream', 'data': {'chunk': AIMessageChunk(content='uman', additional_kwargs={}, response_metadata={}, id='run--88f6c76a-f8a4-4a3c-ade5-4691ba75912a')}, 'run_id': '88f6c76a-f8a4-4a3c-ade5-4691ba75912a', 'name': 'ChatOpenAI', 'tags': ['seq:step:1'], 'metadata': {'thread_id': '4', 'langgraph_step': 1, 'langgraph_node': 'llm_with_tools', 'langgraph_triggers': ('branch:to:llm_with_tools',), 'langgraph_path': ('__pregel_pull', 'llm_with_tools'), 'langgraph_checkpoint_ns': 'llm_with_tools:77ea0598-52ce-51b8-09b8-fb57999d651e', 'checkpoint_ns': 'llm_with_tools:77ea0598-52ce-51b8-09b8-fb57999d651e', 'ls_provider': 'openai', 'ls_model_name': 'gpt-4.1-mini', 'ls_model_type': 'chat', 'ls_temperature': 0.0}, 'parent_ids': ['3ed1fa8c-b8ed-45e1-9990-1908251da83a', 'cbecd6ea-f46d-4e02-91c6-f22499ac3a55']}\n",
      "{'event': 'on_chat_model_stream', 'data': {'chunk': AIMessageChunk(content='!', additional_kwargs={}, response_metadata={}, id='run--88f6c76a-f8a4-4a3c-ade5-4691ba75912a')}, 'run_id': '88f6c76a-f8a4-4a3c-ade5-4691ba75912a', 'name': 'ChatOpenAI', 'tags': ['seq:step:1'], 'metadata': {'thread_id': '4', 'langgraph_step': 1, 'langgraph_node': 'llm_with_tools', 'langgraph_triggers': ('branch:to:llm_with_tools',), 'langgraph_path': ('__pregel_pull', 'llm_with_tools'), 'langgraph_checkpoint_ns': 'llm_with_tools:77ea0598-52ce-51b8-09b8-fb57999d651e', 'checkpoint_ns': 'llm_with_tools:77ea0598-52ce-51b8-09b8-fb57999d651e', 'ls_provider': 'openai', 'ls_model_name': 'gpt-4.1-mini', 'ls_model_type': 'chat', 'ls_temperature': 0.0}, 'parent_ids': ['3ed1fa8c-b8ed-45e1-9990-1908251da83a', 'cbecd6ea-f46d-4e02-91c6-f22499ac3a55']}\n",
      "{'event': 'on_chat_model_stream', 'data': {'chunk': AIMessageChunk(content=\" It's\", additional_kwargs={}, response_metadata={}, id='run--88f6c76a-f8a4-4a3c-ade5-4691ba75912a')}, 'run_id': '88f6c76a-f8a4-4a3c-ade5-4691ba75912a', 'name': 'ChatOpenAI', 'tags': ['seq:step:1'], 'metadata': {'thread_id': '4', 'langgraph_step': 1, 'langgraph_node': 'llm_with_tools', 'langgraph_triggers': ('branch:to:llm_with_tools',), 'langgraph_path': ('__pregel_pull', 'llm_with_tools'), 'langgraph_checkpoint_ns': 'llm_with_tools:77ea0598-52ce-51b8-09b8-fb57999d651e', 'checkpoint_ns': 'llm_with_tools:77ea0598-52ce-51b8-09b8-fb57999d651e', 'ls_provider': 'openai', 'ls_model_name': 'gpt-4.1-mini', 'ls_model_type': 'chat', 'ls_temperature': 0.0}, 'parent_ids': ['3ed1fa8c-b8ed-45e1-9990-1908251da83a', 'cbecd6ea-f46d-4e02-91c6-f22499ac3a55']}\n",
      "{'event': 'on_chat_model_stream', 'data': {'chunk': AIMessageChunk(content=' great', additional_kwargs={}, response_metadata={}, id='run--88f6c76a-f8a4-4a3c-ade5-4691ba75912a')}, 'run_id': '88f6c76a-f8a4-4a3c-ade5-4691ba75912a', 'name': 'ChatOpenAI', 'tags': ['seq:step:1'], 'metadata': {'thread_id': '4', 'langgraph_step': 1, 'langgraph_node': 'llm_with_tools', 'langgraph_triggers': ('branch:to:llm_with_tools',), 'langgraph_path': ('__pregel_pull', 'llm_with_tools'), 'langgraph_checkpoint_ns': 'llm_with_tools:77ea0598-52ce-51b8-09b8-fb57999d651e', 'checkpoint_ns': 'llm_with_tools:77ea0598-52ce-51b8-09b8-fb57999d651e', 'ls_provider': 'openai', 'ls_model_name': 'gpt-4.1-mini', 'ls_model_type': 'chat', 'ls_temperature': 0.0}, 'parent_ids': ['3ed1fa8c-b8ed-45e1-9990-1908251da83a', 'cbecd6ea-f46d-4e02-91c6-f22499ac3a55']}\n",
      "{'event': 'on_chat_model_stream', 'data': {'chunk': AIMessageChunk(content=' to', additional_kwargs={}, response_metadata={}, id='run--88f6c76a-f8a4-4a3c-ade5-4691ba75912a')}, 'run_id': '88f6c76a-f8a4-4a3c-ade5-4691ba75912a', 'name': 'ChatOpenAI', 'tags': ['seq:step:1'], 'metadata': {'thread_id': '4', 'langgraph_step': 1, 'langgraph_node': 'llm_with_tools', 'langgraph_triggers': ('branch:to:llm_with_tools',), 'langgraph_path': ('__pregel_pull', 'llm_with_tools'), 'langgraph_checkpoint_ns': 'llm_with_tools:77ea0598-52ce-51b8-09b8-fb57999d651e', 'checkpoint_ns': 'llm_with_tools:77ea0598-52ce-51b8-09b8-fb57999d651e', 'ls_provider': 'openai', 'ls_model_name': 'gpt-4.1-mini', 'ls_model_type': 'chat', 'ls_temperature': 0.0}, 'parent_ids': ['3ed1fa8c-b8ed-45e1-9990-1908251da83a', 'cbecd6ea-f46d-4e02-91c6-f22499ac3a55']}\n",
      "{'event': 'on_chat_model_stream', 'data': {'chunk': AIMessageChunk(content=' meet', additional_kwargs={}, response_metadata={}, id='run--88f6c76a-f8a4-4a3c-ade5-4691ba75912a')}, 'run_id': '88f6c76a-f8a4-4a3c-ade5-4691ba75912a', 'name': 'ChatOpenAI', 'tags': ['seq:step:1'], 'metadata': {'thread_id': '4', 'langgraph_step': 1, 'langgraph_node': 'llm_with_tools', 'langgraph_triggers': ('branch:to:llm_with_tools',), 'langgraph_path': ('__pregel_pull', 'llm_with_tools'), 'langgraph_checkpoint_ns': 'llm_with_tools:77ea0598-52ce-51b8-09b8-fb57999d651e', 'checkpoint_ns': 'llm_with_tools:77ea0598-52ce-51b8-09b8-fb57999d651e', 'ls_provider': 'openai', 'ls_model_name': 'gpt-4.1-mini', 'ls_model_type': 'chat', 'ls_temperature': 0.0}, 'parent_ids': ['3ed1fa8c-b8ed-45e1-9990-1908251da83a', 'cbecd6ea-f46d-4e02-91c6-f22499ac3a55']}\n",
      "{'event': 'on_chat_model_stream', 'data': {'chunk': AIMessageChunk(content=' you', additional_kwargs={}, response_metadata={}, id='run--88f6c76a-f8a4-4a3c-ade5-4691ba75912a')}, 'run_id': '88f6c76a-f8a4-4a3c-ade5-4691ba75912a', 'name': 'ChatOpenAI', 'tags': ['seq:step:1'], 'metadata': {'thread_id': '4', 'langgraph_step': 1, 'langgraph_node': 'llm_with_tools', 'langgraph_triggers': ('branch:to:llm_with_tools',), 'langgraph_path': ('__pregel_pull', 'llm_with_tools'), 'langgraph_checkpoint_ns': 'llm_with_tools:77ea0598-52ce-51b8-09b8-fb57999d651e', 'checkpoint_ns': 'llm_with_tools:77ea0598-52ce-51b8-09b8-fb57999d651e', 'ls_provider': 'openai', 'ls_model_name': 'gpt-4.1-mini', 'ls_model_type': 'chat', 'ls_temperature': 0.0}, 'parent_ids': ['3ed1fa8c-b8ed-45e1-9990-1908251da83a', 'cbecd6ea-f46d-4e02-91c6-f22499ac3a55']}\n",
      "{'event': 'on_chat_model_stream', 'data': {'chunk': AIMessageChunk(content='.', additional_kwargs={}, response_metadata={}, id='run--88f6c76a-f8a4-4a3c-ade5-4691ba75912a')}, 'run_id': '88f6c76a-f8a4-4a3c-ade5-4691ba75912a', 'name': 'ChatOpenAI', 'tags': ['seq:step:1'], 'metadata': {'thread_id': '4', 'langgraph_step': 1, 'langgraph_node': 'llm_with_tools', 'langgraph_triggers': ('branch:to:llm_with_tools',), 'langgraph_path': ('__pregel_pull', 'llm_with_tools'), 'langgraph_checkpoint_ns': 'llm_with_tools:77ea0598-52ce-51b8-09b8-fb57999d651e', 'checkpoint_ns': 'llm_with_tools:77ea0598-52ce-51b8-09b8-fb57999d651e', 'ls_provider': 'openai', 'ls_model_name': 'gpt-4.1-mini', 'ls_model_type': 'chat', 'ls_temperature': 0.0}, 'parent_ids': ['3ed1fa8c-b8ed-45e1-9990-1908251da83a', 'cbecd6ea-f46d-4e02-91c6-f22499ac3a55']}\n",
      "{'event': 'on_chat_model_stream', 'data': {'chunk': AIMessageChunk(content=' Cricket', additional_kwargs={}, response_metadata={}, id='run--88f6c76a-f8a4-4a3c-ade5-4691ba75912a')}, 'run_id': '88f6c76a-f8a4-4a3c-ade5-4691ba75912a', 'name': 'ChatOpenAI', 'tags': ['seq:step:1'], 'metadata': {'thread_id': '4', 'langgraph_step': 1, 'langgraph_node': 'llm_with_tools', 'langgraph_triggers': ('branch:to:llm_with_tools',), 'langgraph_path': ('__pregel_pull', 'llm_with_tools'), 'langgraph_checkpoint_ns': 'llm_with_tools:77ea0598-52ce-51b8-09b8-fb57999d651e', 'checkpoint_ns': 'llm_with_tools:77ea0598-52ce-51b8-09b8-fb57999d651e', 'ls_provider': 'openai', 'ls_model_name': 'gpt-4.1-mini', 'ls_model_type': 'chat', 'ls_temperature': 0.0}, 'parent_ids': ['3ed1fa8c-b8ed-45e1-9990-1908251da83a', 'cbecd6ea-f46d-4e02-91c6-f22499ac3a55']}\n",
      "{'event': 'on_chat_model_stream', 'data': {'chunk': AIMessageChunk(content=' is', additional_kwargs={}, response_metadata={}, id='run--88f6c76a-f8a4-4a3c-ade5-4691ba75912a')}, 'run_id': '88f6c76a-f8a4-4a3c-ade5-4691ba75912a', 'name': 'ChatOpenAI', 'tags': ['seq:step:1'], 'metadata': {'thread_id': '4', 'langgraph_step': 1, 'langgraph_node': 'llm_with_tools', 'langgraph_triggers': ('branch:to:llm_with_tools',), 'langgraph_path': ('__pregel_pull', 'llm_with_tools'), 'langgraph_checkpoint_ns': 'llm_with_tools:77ea0598-52ce-51b8-09b8-fb57999d651e', 'checkpoint_ns': 'llm_with_tools:77ea0598-52ce-51b8-09b8-fb57999d651e', 'ls_provider': 'openai', 'ls_model_name': 'gpt-4.1-mini', 'ls_model_type': 'chat', 'ls_temperature': 0.0}, 'parent_ids': ['3ed1fa8c-b8ed-45e1-9990-1908251da83a', 'cbecd6ea-f46d-4e02-91c6-f22499ac3a55']}\n",
      "{'event': 'on_chat_model_stream', 'data': {'chunk': AIMessageChunk(content=' a', additional_kwargs={}, response_metadata={}, id='run--88f6c76a-f8a4-4a3c-ade5-4691ba75912a')}, 'run_id': '88f6c76a-f8a4-4a3c-ade5-4691ba75912a', 'name': 'ChatOpenAI', 'tags': ['seq:step:1'], 'metadata': {'thread_id': '4', 'langgraph_step': 1, 'langgraph_node': 'llm_with_tools', 'langgraph_triggers': ('branch:to:llm_with_tools',), 'langgraph_path': ('__pregel_pull', 'llm_with_tools'), 'langgraph_checkpoint_ns': 'llm_with_tools:77ea0598-52ce-51b8-09b8-fb57999d651e', 'checkpoint_ns': 'llm_with_tools:77ea0598-52ce-51b8-09b8-fb57999d651e', 'ls_provider': 'openai', 'ls_model_name': 'gpt-4.1-mini', 'ls_model_type': 'chat', 'ls_temperature': 0.0}, 'parent_ids': ['3ed1fa8c-b8ed-45e1-9990-1908251da83a', 'cbecd6ea-f46d-4e02-91c6-f22499ac3a55']}\n",
      "{'event': 'on_chat_model_stream', 'data': {'chunk': AIMessageChunk(content=' fantastic', additional_kwargs={}, response_metadata={}, id='run--88f6c76a-f8a4-4a3c-ade5-4691ba75912a')}, 'run_id': '88f6c76a-f8a4-4a3c-ade5-4691ba75912a', 'name': 'ChatOpenAI', 'tags': ['seq:step:1'], 'metadata': {'thread_id': '4', 'langgraph_step': 1, 'langgraph_node': 'llm_with_tools', 'langgraph_triggers': ('branch:to:llm_with_tools',), 'langgraph_path': ('__pregel_pull', 'llm_with_tools'), 'langgraph_checkpoint_ns': 'llm_with_tools:77ea0598-52ce-51b8-09b8-fb57999d651e', 'checkpoint_ns': 'llm_with_tools:77ea0598-52ce-51b8-09b8-fb57999d651e', 'ls_provider': 'openai', 'ls_model_name': 'gpt-4.1-mini', 'ls_model_type': 'chat', 'ls_temperature': 0.0}, 'parent_ids': ['3ed1fa8c-b8ed-45e1-9990-1908251da83a', 'cbecd6ea-f46d-4e02-91c6-f22499ac3a55']}\n",
      "{'event': 'on_chat_model_stream', 'data': {'chunk': AIMessageChunk(content=' sport', additional_kwargs={}, response_metadata={}, id='run--88f6c76a-f8a4-4a3c-ade5-4691ba75912a')}, 'run_id': '88f6c76a-f8a4-4a3c-ade5-4691ba75912a', 'name': 'ChatOpenAI', 'tags': ['seq:step:1'], 'metadata': {'thread_id': '4', 'langgraph_step': 1, 'langgraph_node': 'llm_with_tools', 'langgraph_triggers': ('branch:to:llm_with_tools',), 'langgraph_path': ('__pregel_pull', 'llm_with_tools'), 'langgraph_checkpoint_ns': 'llm_with_tools:77ea0598-52ce-51b8-09b8-fb57999d651e', 'checkpoint_ns': 'llm_with_tools:77ea0598-52ce-51b8-09b8-fb57999d651e', 'ls_provider': 'openai', 'ls_model_name': 'gpt-4.1-mini', 'ls_model_type': 'chat', 'ls_temperature': 0.0}, 'parent_ids': ['3ed1fa8c-b8ed-45e1-9990-1908251da83a', 'cbecd6ea-f46d-4e02-91c6-f22499ac3a55']}\n",
      "{'event': 'on_chat_model_stream', 'data': {'chunk': AIMessageChunk(content='.', additional_kwargs={}, response_metadata={}, id='run--88f6c76a-f8a4-4a3c-ade5-4691ba75912a')}, 'run_id': '88f6c76a-f8a4-4a3c-ade5-4691ba75912a', 'name': 'ChatOpenAI', 'tags': ['seq:step:1'], 'metadata': {'thread_id': '4', 'langgraph_step': 1, 'langgraph_node': 'llm_with_tools', 'langgraph_triggers': ('branch:to:llm_with_tools',), 'langgraph_path': ('__pregel_pull', 'llm_with_tools'), 'langgraph_checkpoint_ns': 'llm_with_tools:77ea0598-52ce-51b8-09b8-fb57999d651e', 'checkpoint_ns': 'llm_with_tools:77ea0598-52ce-51b8-09b8-fb57999d651e', 'ls_provider': 'openai', 'ls_model_name': 'gpt-4.1-mini', 'ls_model_type': 'chat', 'ls_temperature': 0.0}, 'parent_ids': ['3ed1fa8c-b8ed-45e1-9990-1908251da83a', 'cbecd6ea-f46d-4e02-91c6-f22499ac3a55']}\n",
      "{'event': 'on_chat_model_stream', 'data': {'chunk': AIMessageChunk(content=' Do', additional_kwargs={}, response_metadata={}, id='run--88f6c76a-f8a4-4a3c-ade5-4691ba75912a')}, 'run_id': '88f6c76a-f8a4-4a3c-ade5-4691ba75912a', 'name': 'ChatOpenAI', 'tags': ['seq:step:1'], 'metadata': {'thread_id': '4', 'langgraph_step': 1, 'langgraph_node': 'llm_with_tools', 'langgraph_triggers': ('branch:to:llm_with_tools',), 'langgraph_path': ('__pregel_pull', 'llm_with_tools'), 'langgraph_checkpoint_ns': 'llm_with_tools:77ea0598-52ce-51b8-09b8-fb57999d651e', 'checkpoint_ns': 'llm_with_tools:77ea0598-52ce-51b8-09b8-fb57999d651e', 'ls_provider': 'openai', 'ls_model_name': 'gpt-4.1-mini', 'ls_model_type': 'chat', 'ls_temperature': 0.0}, 'parent_ids': ['3ed1fa8c-b8ed-45e1-9990-1908251da83a', 'cbecd6ea-f46d-4e02-91c6-f22499ac3a55']}\n",
      "{'event': 'on_chat_model_stream', 'data': {'chunk': AIMessageChunk(content=' you', additional_kwargs={}, response_metadata={}, id='run--88f6c76a-f8a4-4a3c-ade5-4691ba75912a')}, 'run_id': '88f6c76a-f8a4-4a3c-ade5-4691ba75912a', 'name': 'ChatOpenAI', 'tags': ['seq:step:1'], 'metadata': {'thread_id': '4', 'langgraph_step': 1, 'langgraph_node': 'llm_with_tools', 'langgraph_triggers': ('branch:to:llm_with_tools',), 'langgraph_path': ('__pregel_pull', 'llm_with_tools'), 'langgraph_checkpoint_ns': 'llm_with_tools:77ea0598-52ce-51b8-09b8-fb57999d651e', 'checkpoint_ns': 'llm_with_tools:77ea0598-52ce-51b8-09b8-fb57999d651e', 'ls_provider': 'openai', 'ls_model_name': 'gpt-4.1-mini', 'ls_model_type': 'chat', 'ls_temperature': 0.0}, 'parent_ids': ['3ed1fa8c-b8ed-45e1-9990-1908251da83a', 'cbecd6ea-f46d-4e02-91c6-f22499ac3a55']}\n",
      "{'event': 'on_chat_model_stream', 'data': {'chunk': AIMessageChunk(content=' have', additional_kwargs={}, response_metadata={}, id='run--88f6c76a-f8a4-4a3c-ade5-4691ba75912a')}, 'run_id': '88f6c76a-f8a4-4a3c-ade5-4691ba75912a', 'name': 'ChatOpenAI', 'tags': ['seq:step:1'], 'metadata': {'thread_id': '4', 'langgraph_step': 1, 'langgraph_node': 'llm_with_tools', 'langgraph_triggers': ('branch:to:llm_with_tools',), 'langgraph_path': ('__pregel_pull', 'llm_with_tools'), 'langgraph_checkpoint_ns': 'llm_with_tools:77ea0598-52ce-51b8-09b8-fb57999d651e', 'checkpoint_ns': 'llm_with_tools:77ea0598-52ce-51b8-09b8-fb57999d651e', 'ls_provider': 'openai', 'ls_model_name': 'gpt-4.1-mini', 'ls_model_type': 'chat', 'ls_temperature': 0.0}, 'parent_ids': ['3ed1fa8c-b8ed-45e1-9990-1908251da83a', 'cbecd6ea-f46d-4e02-91c6-f22499ac3a55']}\n",
      "{'event': 'on_chat_model_stream', 'data': {'chunk': AIMessageChunk(content=' a', additional_kwargs={}, response_metadata={}, id='run--88f6c76a-f8a4-4a3c-ade5-4691ba75912a')}, 'run_id': '88f6c76a-f8a4-4a3c-ade5-4691ba75912a', 'name': 'ChatOpenAI', 'tags': ['seq:step:1'], 'metadata': {'thread_id': '4', 'langgraph_step': 1, 'langgraph_node': 'llm_with_tools', 'langgraph_triggers': ('branch:to:llm_with_tools',), 'langgraph_path': ('__pregel_pull', 'llm_with_tools'), 'langgraph_checkpoint_ns': 'llm_with_tools:77ea0598-52ce-51b8-09b8-fb57999d651e', 'checkpoint_ns': 'llm_with_tools:77ea0598-52ce-51b8-09b8-fb57999d651e', 'ls_provider': 'openai', 'ls_model_name': 'gpt-4.1-mini', 'ls_model_type': 'chat', 'ls_temperature': 0.0}, 'parent_ids': ['3ed1fa8c-b8ed-45e1-9990-1908251da83a', 'cbecd6ea-f46d-4e02-91c6-f22499ac3a55']}\n",
      "{'event': 'on_chat_model_stream', 'data': {'chunk': AIMessageChunk(content=' favorite', additional_kwargs={}, response_metadata={}, id='run--88f6c76a-f8a4-4a3c-ade5-4691ba75912a')}, 'run_id': '88f6c76a-f8a4-4a3c-ade5-4691ba75912a', 'name': 'ChatOpenAI', 'tags': ['seq:step:1'], 'metadata': {'thread_id': '4', 'langgraph_step': 1, 'langgraph_node': 'llm_with_tools', 'langgraph_triggers': ('branch:to:llm_with_tools',), 'langgraph_path': ('__pregel_pull', 'llm_with_tools'), 'langgraph_checkpoint_ns': 'llm_with_tools:77ea0598-52ce-51b8-09b8-fb57999d651e', 'checkpoint_ns': 'llm_with_tools:77ea0598-52ce-51b8-09b8-fb57999d651e', 'ls_provider': 'openai', 'ls_model_name': 'gpt-4.1-mini', 'ls_model_type': 'chat', 'ls_temperature': 0.0}, 'parent_ids': ['3ed1fa8c-b8ed-45e1-9990-1908251da83a', 'cbecd6ea-f46d-4e02-91c6-f22499ac3a55']}\n",
      "{'event': 'on_chat_model_stream', 'data': {'chunk': AIMessageChunk(content=' cricket', additional_kwargs={}, response_metadata={}, id='run--88f6c76a-f8a4-4a3c-ade5-4691ba75912a')}, 'run_id': '88f6c76a-f8a4-4a3c-ade5-4691ba75912a', 'name': 'ChatOpenAI', 'tags': ['seq:step:1'], 'metadata': {'thread_id': '4', 'langgraph_step': 1, 'langgraph_node': 'llm_with_tools', 'langgraph_triggers': ('branch:to:llm_with_tools',), 'langgraph_path': ('__pregel_pull', 'llm_with_tools'), 'langgraph_checkpoint_ns': 'llm_with_tools:77ea0598-52ce-51b8-09b8-fb57999d651e', 'checkpoint_ns': 'llm_with_tools:77ea0598-52ce-51b8-09b8-fb57999d651e', 'ls_provider': 'openai', 'ls_model_name': 'gpt-4.1-mini', 'ls_model_type': 'chat', 'ls_temperature': 0.0}, 'parent_ids': ['3ed1fa8c-b8ed-45e1-9990-1908251da83a', 'cbecd6ea-f46d-4e02-91c6-f22499ac3a55']}\n",
      "{'event': 'on_chat_model_stream', 'data': {'chunk': AIMessageChunk(content=' team', additional_kwargs={}, response_metadata={}, id='run--88f6c76a-f8a4-4a3c-ade5-4691ba75912a')}, 'run_id': '88f6c76a-f8a4-4a3c-ade5-4691ba75912a', 'name': 'ChatOpenAI', 'tags': ['seq:step:1'], 'metadata': {'thread_id': '4', 'langgraph_step': 1, 'langgraph_node': 'llm_with_tools', 'langgraph_triggers': ('branch:to:llm_with_tools',), 'langgraph_path': ('__pregel_pull', 'llm_with_tools'), 'langgraph_checkpoint_ns': 'llm_with_tools:77ea0598-52ce-51b8-09b8-fb57999d651e', 'checkpoint_ns': 'llm_with_tools:77ea0598-52ce-51b8-09b8-fb57999d651e', 'ls_provider': 'openai', 'ls_model_name': 'gpt-4.1-mini', 'ls_model_type': 'chat', 'ls_temperature': 0.0}, 'parent_ids': ['3ed1fa8c-b8ed-45e1-9990-1908251da83a', 'cbecd6ea-f46d-4e02-91c6-f22499ac3a55']}\n",
      "{'event': 'on_chat_model_stream', 'data': {'chunk': AIMessageChunk(content=' or', additional_kwargs={}, response_metadata={}, id='run--88f6c76a-f8a4-4a3c-ade5-4691ba75912a')}, 'run_id': '88f6c76a-f8a4-4a3c-ade5-4691ba75912a', 'name': 'ChatOpenAI', 'tags': ['seq:step:1'], 'metadata': {'thread_id': '4', 'langgraph_step': 1, 'langgraph_node': 'llm_with_tools', 'langgraph_triggers': ('branch:to:llm_with_tools',), 'langgraph_path': ('__pregel_pull', 'llm_with_tools'), 'langgraph_checkpoint_ns': 'llm_with_tools:77ea0598-52ce-51b8-09b8-fb57999d651e', 'checkpoint_ns': 'llm_with_tools:77ea0598-52ce-51b8-09b8-fb57999d651e', 'ls_provider': 'openai', 'ls_model_name': 'gpt-4.1-mini', 'ls_model_type': 'chat', 'ls_temperature': 0.0}, 'parent_ids': ['3ed1fa8c-b8ed-45e1-9990-1908251da83a', 'cbecd6ea-f46d-4e02-91c6-f22499ac3a55']}\n",
      "{'event': 'on_chat_model_stream', 'data': {'chunk': AIMessageChunk(content=' player', additional_kwargs={}, response_metadata={}, id='run--88f6c76a-f8a4-4a3c-ade5-4691ba75912a')}, 'run_id': '88f6c76a-f8a4-4a3c-ade5-4691ba75912a', 'name': 'ChatOpenAI', 'tags': ['seq:step:1'], 'metadata': {'thread_id': '4', 'langgraph_step': 1, 'langgraph_node': 'llm_with_tools', 'langgraph_triggers': ('branch:to:llm_with_tools',), 'langgraph_path': ('__pregel_pull', 'llm_with_tools'), 'langgraph_checkpoint_ns': 'llm_with_tools:77ea0598-52ce-51b8-09b8-fb57999d651e', 'checkpoint_ns': 'llm_with_tools:77ea0598-52ce-51b8-09b8-fb57999d651e', 'ls_provider': 'openai', 'ls_model_name': 'gpt-4.1-mini', 'ls_model_type': 'chat', 'ls_temperature': 0.0}, 'parent_ids': ['3ed1fa8c-b8ed-45e1-9990-1908251da83a', 'cbecd6ea-f46d-4e02-91c6-f22499ac3a55']}\n",
      "{'event': 'on_chat_model_stream', 'data': {'chunk': AIMessageChunk(content='?', additional_kwargs={}, response_metadata={}, id='run--88f6c76a-f8a4-4a3c-ade5-4691ba75912a')}, 'run_id': '88f6c76a-f8a4-4a3c-ade5-4691ba75912a', 'name': 'ChatOpenAI', 'tags': ['seq:step:1'], 'metadata': {'thread_id': '4', 'langgraph_step': 1, 'langgraph_node': 'llm_with_tools', 'langgraph_triggers': ('branch:to:llm_with_tools',), 'langgraph_path': ('__pregel_pull', 'llm_with_tools'), 'langgraph_checkpoint_ns': 'llm_with_tools:77ea0598-52ce-51b8-09b8-fb57999d651e', 'checkpoint_ns': 'llm_with_tools:77ea0598-52ce-51b8-09b8-fb57999d651e', 'ls_provider': 'openai', 'ls_model_name': 'gpt-4.1-mini', 'ls_model_type': 'chat', 'ls_temperature': 0.0}, 'parent_ids': ['3ed1fa8c-b8ed-45e1-9990-1908251da83a', 'cbecd6ea-f46d-4e02-91c6-f22499ac3a55']}\n",
      "{'event': 'on_chat_model_stream', 'data': {'chunk': AIMessageChunk(content=' Or', additional_kwargs={}, response_metadata={}, id='run--88f6c76a-f8a4-4a3c-ade5-4691ba75912a')}, 'run_id': '88f6c76a-f8a4-4a3c-ade5-4691ba75912a', 'name': 'ChatOpenAI', 'tags': ['seq:step:1'], 'metadata': {'thread_id': '4', 'langgraph_step': 1, 'langgraph_node': 'llm_with_tools', 'langgraph_triggers': ('branch:to:llm_with_tools',), 'langgraph_path': ('__pregel_pull', 'llm_with_tools'), 'langgraph_checkpoint_ns': 'llm_with_tools:77ea0598-52ce-51b8-09b8-fb57999d651e', 'checkpoint_ns': 'llm_with_tools:77ea0598-52ce-51b8-09b8-fb57999d651e', 'ls_provider': 'openai', 'ls_model_name': 'gpt-4.1-mini', 'ls_model_type': 'chat', 'ls_temperature': 0.0}, 'parent_ids': ['3ed1fa8c-b8ed-45e1-9990-1908251da83a', 'cbecd6ea-f46d-4e02-91c6-f22499ac3a55']}\n",
      "{'event': 'on_chat_model_stream', 'data': {'chunk': AIMessageChunk(content=' maybe', additional_kwargs={}, response_metadata={}, id='run--88f6c76a-f8a4-4a3c-ade5-4691ba75912a')}, 'run_id': '88f6c76a-f8a4-4a3c-ade5-4691ba75912a', 'name': 'ChatOpenAI', 'tags': ['seq:step:1'], 'metadata': {'thread_id': '4', 'langgraph_step': 1, 'langgraph_node': 'llm_with_tools', 'langgraph_triggers': ('branch:to:llm_with_tools',), 'langgraph_path': ('__pregel_pull', 'llm_with_tools'), 'langgraph_checkpoint_ns': 'llm_with_tools:77ea0598-52ce-51b8-09b8-fb57999d651e', 'checkpoint_ns': 'llm_with_tools:77ea0598-52ce-51b8-09b8-fb57999d651e', 'ls_provider': 'openai', 'ls_model_name': 'gpt-4.1-mini', 'ls_model_type': 'chat', 'ls_temperature': 0.0}, 'parent_ids': ['3ed1fa8c-b8ed-45e1-9990-1908251da83a', 'cbecd6ea-f46d-4e02-91c6-f22499ac3a55']}\n",
      "{'event': 'on_chat_model_stream', 'data': {'chunk': AIMessageChunk(content=' you', additional_kwargs={}, response_metadata={}, id='run--88f6c76a-f8a4-4a3c-ade5-4691ba75912a')}, 'run_id': '88f6c76a-f8a4-4a3c-ade5-4691ba75912a', 'name': 'ChatOpenAI', 'tags': ['seq:step:1'], 'metadata': {'thread_id': '4', 'langgraph_step': 1, 'langgraph_node': 'llm_with_tools', 'langgraph_triggers': ('branch:to:llm_with_tools',), 'langgraph_path': ('__pregel_pull', 'llm_with_tools'), 'langgraph_checkpoint_ns': 'llm_with_tools:77ea0598-52ce-51b8-09b8-fb57999d651e', 'checkpoint_ns': 'llm_with_tools:77ea0598-52ce-51b8-09b8-fb57999d651e', 'ls_provider': 'openai', 'ls_model_name': 'gpt-4.1-mini', 'ls_model_type': 'chat', 'ls_temperature': 0.0}, 'parent_ids': ['3ed1fa8c-b8ed-45e1-9990-1908251da83a', 'cbecd6ea-f46d-4e02-91c6-f22499ac3a55']}\n",
      "{'event': 'on_chat_model_stream', 'data': {'chunk': AIMessageChunk(content=' like', additional_kwargs={}, response_metadata={}, id='run--88f6c76a-f8a4-4a3c-ade5-4691ba75912a')}, 'run_id': '88f6c76a-f8a4-4a3c-ade5-4691ba75912a', 'name': 'ChatOpenAI', 'tags': ['seq:step:1'], 'metadata': {'thread_id': '4', 'langgraph_step': 1, 'langgraph_node': 'llm_with_tools', 'langgraph_triggers': ('branch:to:llm_with_tools',), 'langgraph_path': ('__pregel_pull', 'llm_with_tools'), 'langgraph_checkpoint_ns': 'llm_with_tools:77ea0598-52ce-51b8-09b8-fb57999d651e', 'checkpoint_ns': 'llm_with_tools:77ea0598-52ce-51b8-09b8-fb57999d651e', 'ls_provider': 'openai', 'ls_model_name': 'gpt-4.1-mini', 'ls_model_type': 'chat', 'ls_temperature': 0.0}, 'parent_ids': ['3ed1fa8c-b8ed-45e1-9990-1908251da83a', 'cbecd6ea-f46d-4e02-91c6-f22499ac3a55']}\n",
      "{'event': 'on_chat_model_stream', 'data': {'chunk': AIMessageChunk(content=' a', additional_kwargs={}, response_metadata={}, id='run--88f6c76a-f8a4-4a3c-ade5-4691ba75912a')}, 'run_id': '88f6c76a-f8a4-4a3c-ade5-4691ba75912a', 'name': 'ChatOpenAI', 'tags': ['seq:step:1'], 'metadata': {'thread_id': '4', 'langgraph_step': 1, 'langgraph_node': 'llm_with_tools', 'langgraph_triggers': ('branch:to:llm_with_tools',), 'langgraph_path': ('__pregel_pull', 'llm_with_tools'), 'langgraph_checkpoint_ns': 'llm_with_tools:77ea0598-52ce-51b8-09b8-fb57999d651e', 'checkpoint_ns': 'llm_with_tools:77ea0598-52ce-51b8-09b8-fb57999d651e', 'ls_provider': 'openai', 'ls_model_name': 'gpt-4.1-mini', 'ls_model_type': 'chat', 'ls_temperature': 0.0}, 'parent_ids': ['3ed1fa8c-b8ed-45e1-9990-1908251da83a', 'cbecd6ea-f46d-4e02-91c6-f22499ac3a55']}\n",
      "{'event': 'on_chat_model_stream', 'data': {'chunk': AIMessageChunk(content=' particular', additional_kwargs={}, response_metadata={}, id='run--88f6c76a-f8a4-4a3c-ade5-4691ba75912a')}, 'run_id': '88f6c76a-f8a4-4a3c-ade5-4691ba75912a', 'name': 'ChatOpenAI', 'tags': ['seq:step:1'], 'metadata': {'thread_id': '4', 'langgraph_step': 1, 'langgraph_node': 'llm_with_tools', 'langgraph_triggers': ('branch:to:llm_with_tools',), 'langgraph_path': ('__pregel_pull', 'llm_with_tools'), 'langgraph_checkpoint_ns': 'llm_with_tools:77ea0598-52ce-51b8-09b8-fb57999d651e', 'checkpoint_ns': 'llm_with_tools:77ea0598-52ce-51b8-09b8-fb57999d651e', 'ls_provider': 'openai', 'ls_model_name': 'gpt-4.1-mini', 'ls_model_type': 'chat', 'ls_temperature': 0.0}, 'parent_ids': ['3ed1fa8c-b8ed-45e1-9990-1908251da83a', 'cbecd6ea-f46d-4e02-91c6-f22499ac3a55']}\n",
      "{'event': 'on_chat_model_stream', 'data': {'chunk': AIMessageChunk(content=' position', additional_kwargs={}, response_metadata={}, id='run--88f6c76a-f8a4-4a3c-ade5-4691ba75912a')}, 'run_id': '88f6c76a-f8a4-4a3c-ade5-4691ba75912a', 'name': 'ChatOpenAI', 'tags': ['seq:step:1'], 'metadata': {'thread_id': '4', 'langgraph_step': 1, 'langgraph_node': 'llm_with_tools', 'langgraph_triggers': ('branch:to:llm_with_tools',), 'langgraph_path': ('__pregel_pull', 'llm_with_tools'), 'langgraph_checkpoint_ns': 'llm_with_tools:77ea0598-52ce-51b8-09b8-fb57999d651e', 'checkpoint_ns': 'llm_with_tools:77ea0598-52ce-51b8-09b8-fb57999d651e', 'ls_provider': 'openai', 'ls_model_name': 'gpt-4.1-mini', 'ls_model_type': 'chat', 'ls_temperature': 0.0}, 'parent_ids': ['3ed1fa8c-b8ed-45e1-9990-1908251da83a', 'cbecd6ea-f46d-4e02-91c6-f22499ac3a55']}\n",
      "{'event': 'on_chat_model_stream', 'data': {'chunk': AIMessageChunk(content=' or', additional_kwargs={}, response_metadata={}, id='run--88f6c76a-f8a4-4a3c-ade5-4691ba75912a')}, 'run_id': '88f6c76a-f8a4-4a3c-ade5-4691ba75912a', 'name': 'ChatOpenAI', 'tags': ['seq:step:1'], 'metadata': {'thread_id': '4', 'langgraph_step': 1, 'langgraph_node': 'llm_with_tools', 'langgraph_triggers': ('branch:to:llm_with_tools',), 'langgraph_path': ('__pregel_pull', 'llm_with_tools'), 'langgraph_checkpoint_ns': 'llm_with_tools:77ea0598-52ce-51b8-09b8-fb57999d651e', 'checkpoint_ns': 'llm_with_tools:77ea0598-52ce-51b8-09b8-fb57999d651e', 'ls_provider': 'openai', 'ls_model_name': 'gpt-4.1-mini', 'ls_model_type': 'chat', 'ls_temperature': 0.0}, 'parent_ids': ['3ed1fa8c-b8ed-45e1-9990-1908251da83a', 'cbecd6ea-f46d-4e02-91c6-f22499ac3a55']}\n",
      "{'event': 'on_chat_model_stream', 'data': {'chunk': AIMessageChunk(content=' role', additional_kwargs={}, response_metadata={}, id='run--88f6c76a-f8a4-4a3c-ade5-4691ba75912a')}, 'run_id': '88f6c76a-f8a4-4a3c-ade5-4691ba75912a', 'name': 'ChatOpenAI', 'tags': ['seq:step:1'], 'metadata': {'thread_id': '4', 'langgraph_step': 1, 'langgraph_node': 'llm_with_tools', 'langgraph_triggers': ('branch:to:llm_with_tools',), 'langgraph_path': ('__pregel_pull', 'llm_with_tools'), 'langgraph_checkpoint_ns': 'llm_with_tools:77ea0598-52ce-51b8-09b8-fb57999d651e', 'checkpoint_ns': 'llm_with_tools:77ea0598-52ce-51b8-09b8-fb57999d651e', 'ls_provider': 'openai', 'ls_model_name': 'gpt-4.1-mini', 'ls_model_type': 'chat', 'ls_temperature': 0.0}, 'parent_ids': ['3ed1fa8c-b8ed-45e1-9990-1908251da83a', 'cbecd6ea-f46d-4e02-91c6-f22499ac3a55']}\n",
      "{'event': 'on_chat_model_stream', 'data': {'chunk': AIMessageChunk(content=' in', additional_kwargs={}, response_metadata={}, id='run--88f6c76a-f8a4-4a3c-ade5-4691ba75912a')}, 'run_id': '88f6c76a-f8a4-4a3c-ade5-4691ba75912a', 'name': 'ChatOpenAI', 'tags': ['seq:step:1'], 'metadata': {'thread_id': '4', 'langgraph_step': 1, 'langgraph_node': 'llm_with_tools', 'langgraph_triggers': ('branch:to:llm_with_tools',), 'langgraph_path': ('__pregel_pull', 'llm_with_tools'), 'langgraph_checkpoint_ns': 'llm_with_tools:77ea0598-52ce-51b8-09b8-fb57999d651e', 'checkpoint_ns': 'llm_with_tools:77ea0598-52ce-51b8-09b8-fb57999d651e', 'ls_provider': 'openai', 'ls_model_name': 'gpt-4.1-mini', 'ls_model_type': 'chat', 'ls_temperature': 0.0}, 'parent_ids': ['3ed1fa8c-b8ed-45e1-9990-1908251da83a', 'cbecd6ea-f46d-4e02-91c6-f22499ac3a55']}\n",
      "{'event': 'on_chat_model_stream', 'data': {'chunk': AIMessageChunk(content=' the', additional_kwargs={}, response_metadata={}, id='run--88f6c76a-f8a4-4a3c-ade5-4691ba75912a')}, 'run_id': '88f6c76a-f8a4-4a3c-ade5-4691ba75912a', 'name': 'ChatOpenAI', 'tags': ['seq:step:1'], 'metadata': {'thread_id': '4', 'langgraph_step': 1, 'langgraph_node': 'llm_with_tools', 'langgraph_triggers': ('branch:to:llm_with_tools',), 'langgraph_path': ('__pregel_pull', 'llm_with_tools'), 'langgraph_checkpoint_ns': 'llm_with_tools:77ea0598-52ce-51b8-09b8-fb57999d651e', 'checkpoint_ns': 'llm_with_tools:77ea0598-52ce-51b8-09b8-fb57999d651e', 'ls_provider': 'openai', 'ls_model_name': 'gpt-4.1-mini', 'ls_model_type': 'chat', 'ls_temperature': 0.0}, 'parent_ids': ['3ed1fa8c-b8ed-45e1-9990-1908251da83a', 'cbecd6ea-f46d-4e02-91c6-f22499ac3a55']}\n",
      "{'event': 'on_chat_model_stream', 'data': {'chunk': AIMessageChunk(content=' game', additional_kwargs={}, response_metadata={}, id='run--88f6c76a-f8a4-4a3c-ade5-4691ba75912a')}, 'run_id': '88f6c76a-f8a4-4a3c-ade5-4691ba75912a', 'name': 'ChatOpenAI', 'tags': ['seq:step:1'], 'metadata': {'thread_id': '4', 'langgraph_step': 1, 'langgraph_node': 'llm_with_tools', 'langgraph_triggers': ('branch:to:llm_with_tools',), 'langgraph_path': ('__pregel_pull', 'llm_with_tools'), 'langgraph_checkpoint_ns': 'llm_with_tools:77ea0598-52ce-51b8-09b8-fb57999d651e', 'checkpoint_ns': 'llm_with_tools:77ea0598-52ce-51b8-09b8-fb57999d651e', 'ls_provider': 'openai', 'ls_model_name': 'gpt-4.1-mini', 'ls_model_type': 'chat', 'ls_temperature': 0.0}, 'parent_ids': ['3ed1fa8c-b8ed-45e1-9990-1908251da83a', 'cbecd6ea-f46d-4e02-91c6-f22499ac3a55']}\n",
      "{'event': 'on_chat_model_stream', 'data': {'chunk': AIMessageChunk(content='?', additional_kwargs={}, response_metadata={}, id='run--88f6c76a-f8a4-4a3c-ade5-4691ba75912a')}, 'run_id': '88f6c76a-f8a4-4a3c-ade5-4691ba75912a', 'name': 'ChatOpenAI', 'tags': ['seq:step:1'], 'metadata': {'thread_id': '4', 'langgraph_step': 1, 'langgraph_node': 'llm_with_tools', 'langgraph_triggers': ('branch:to:llm_with_tools',), 'langgraph_path': ('__pregel_pull', 'llm_with_tools'), 'langgraph_checkpoint_ns': 'llm_with_tools:77ea0598-52ce-51b8-09b8-fb57999d651e', 'checkpoint_ns': 'llm_with_tools:77ea0598-52ce-51b8-09b8-fb57999d651e', 'ls_provider': 'openai', 'ls_model_name': 'gpt-4.1-mini', 'ls_model_type': 'chat', 'ls_temperature': 0.0}, 'parent_ids': ['3ed1fa8c-b8ed-45e1-9990-1908251da83a', 'cbecd6ea-f46d-4e02-91c6-f22499ac3a55']}\n",
      "{'event': 'on_chat_model_stream', 'data': {'chunk': AIMessageChunk(content='', additional_kwargs={}, response_metadata={'finish_reason': 'stop', 'model_name': 'gpt-4.1-mini-2025-04-14', 'system_fingerprint': 'fp_6f2eabb9a5', 'service_tier': 'default'}, id='run--88f6c76a-f8a4-4a3c-ade5-4691ba75912a')}, 'run_id': '88f6c76a-f8a4-4a3c-ade5-4691ba75912a', 'name': 'ChatOpenAI', 'tags': ['seq:step:1'], 'metadata': {'thread_id': '4', 'langgraph_step': 1, 'langgraph_node': 'llm_with_tools', 'langgraph_triggers': ('branch:to:llm_with_tools',), 'langgraph_path': ('__pregel_pull', 'llm_with_tools'), 'langgraph_checkpoint_ns': 'llm_with_tools:77ea0598-52ce-51b8-09b8-fb57999d651e', 'checkpoint_ns': 'llm_with_tools:77ea0598-52ce-51b8-09b8-fb57999d651e', 'ls_provider': 'openai', 'ls_model_name': 'gpt-4.1-mini', 'ls_model_type': 'chat', 'ls_temperature': 0.0}, 'parent_ids': ['3ed1fa8c-b8ed-45e1-9990-1908251da83a', 'cbecd6ea-f46d-4e02-91c6-f22499ac3a55']}\n",
      "{'event': 'on_chat_model_end', 'data': {'output': AIMessage(content=\"Hi Suman! It's great to meet you. Cricket is a fantastic sport. Do you have a favorite cricket team or player? Or maybe you like a particular position or role in the game?\", additional_kwargs={}, response_metadata={'finish_reason': 'stop', 'model_name': 'gpt-4.1-mini-2025-04-14', 'system_fingerprint': 'fp_6f2eabb9a5', 'service_tier': 'default'}, id='run--88f6c76a-f8a4-4a3c-ade5-4691ba75912a'), 'input': {'messages': [[HumanMessage(content='Hi My name is Suman and I like to play cricket', additional_kwargs={}, response_metadata={}, id='7c205b60-58d9-417f-8b8f-d1d8a4a636ba')]]}}, 'run_id': '88f6c76a-f8a4-4a3c-ade5-4691ba75912a', 'name': 'ChatOpenAI', 'tags': ['seq:step:1'], 'metadata': {'thread_id': '4', 'langgraph_step': 1, 'langgraph_node': 'llm_with_tools', 'langgraph_triggers': ('branch:to:llm_with_tools',), 'langgraph_path': ('__pregel_pull', 'llm_with_tools'), 'langgraph_checkpoint_ns': 'llm_with_tools:77ea0598-52ce-51b8-09b8-fb57999d651e', 'checkpoint_ns': 'llm_with_tools:77ea0598-52ce-51b8-09b8-fb57999d651e', 'ls_provider': 'openai', 'ls_model_name': 'gpt-4.1-mini', 'ls_model_type': 'chat', 'ls_temperature': 0.0, 'LANGSMITH_PROJECT': 'langraph_tutorials', 'LANGSMITH_ENDPOINT': 'https://api.smith.langchain.com', 'revision_id': '5471663'}, 'parent_ids': ['3ed1fa8c-b8ed-45e1-9990-1908251da83a', 'cbecd6ea-f46d-4e02-91c6-f22499ac3a55']}\n",
      "{'event': 'on_chain_start', 'data': {'input': {'messages': [HumanMessage(content='Hi My name is Suman and I like to play cricket', additional_kwargs={}, response_metadata={}, id='7c205b60-58d9-417f-8b8f-d1d8a4a636ba'), AIMessage(content=\"Hi Suman! It's great to meet you. Cricket is a fantastic sport. Do you have a favorite cricket team or player? Or maybe you like a particular position or role in the game?\", additional_kwargs={}, response_metadata={'finish_reason': 'stop', 'model_name': 'gpt-4.1-mini-2025-04-14', 'system_fingerprint': 'fp_6f2eabb9a5', 'service_tier': 'default'}, id='run--88f6c76a-f8a4-4a3c-ade5-4691ba75912a')]}}, 'name': 'tools_condition', 'tags': ['seq:step:3'], 'run_id': '29274f12-249c-420c-adc5-65972463b6b1', 'metadata': {'thread_id': '4', 'langgraph_step': 1, 'langgraph_node': 'llm_with_tools', 'langgraph_triggers': ('branch:to:llm_with_tools',), 'langgraph_path': ('__pregel_pull', 'llm_with_tools'), 'langgraph_checkpoint_ns': 'llm_with_tools:77ea0598-52ce-51b8-09b8-fb57999d651e'}, 'parent_ids': ['3ed1fa8c-b8ed-45e1-9990-1908251da83a', 'cbecd6ea-f46d-4e02-91c6-f22499ac3a55']}\n",
      "{'event': 'on_chain_end', 'data': {'output': '__end__', 'input': {'messages': [HumanMessage(content='Hi My name is Suman and I like to play cricket', additional_kwargs={}, response_metadata={}, id='7c205b60-58d9-417f-8b8f-d1d8a4a636ba'), AIMessage(content=\"Hi Suman! It's great to meet you. Cricket is a fantastic sport. Do you have a favorite cricket team or player? Or maybe you like a particular position or role in the game?\", additional_kwargs={}, response_metadata={'finish_reason': 'stop', 'model_name': 'gpt-4.1-mini-2025-04-14', 'system_fingerprint': 'fp_6f2eabb9a5', 'service_tier': 'default'}, id='run--88f6c76a-f8a4-4a3c-ade5-4691ba75912a')]}}, 'run_id': '29274f12-249c-420c-adc5-65972463b6b1', 'name': 'tools_condition', 'tags': ['seq:step:3'], 'metadata': {'thread_id': '4', 'langgraph_step': 1, 'langgraph_node': 'llm_with_tools', 'langgraph_triggers': ('branch:to:llm_with_tools',), 'langgraph_path': ('__pregel_pull', 'llm_with_tools'), 'langgraph_checkpoint_ns': 'llm_with_tools:77ea0598-52ce-51b8-09b8-fb57999d651e', 'LANGSMITH_PROJECT': 'langraph_tutorials', 'LANGSMITH_ENDPOINT': 'https://api.smith.langchain.com', 'revision_id': '5471663'}, 'parent_ids': ['3ed1fa8c-b8ed-45e1-9990-1908251da83a', 'cbecd6ea-f46d-4e02-91c6-f22499ac3a55']}\n",
      "{'event': 'on_chain_stream', 'run_id': 'cbecd6ea-f46d-4e02-91c6-f22499ac3a55', 'name': 'llm_with_tools', 'tags': ['graph:step:1'], 'metadata': {'thread_id': '4', 'langgraph_step': 1, 'langgraph_node': 'llm_with_tools', 'langgraph_triggers': ('branch:to:llm_with_tools',), 'langgraph_path': ('__pregel_pull', 'llm_with_tools'), 'langgraph_checkpoint_ns': 'llm_with_tools:77ea0598-52ce-51b8-09b8-fb57999d651e'}, 'data': {'chunk': {'messages': [AIMessage(content=\"Hi Suman! It's great to meet you. Cricket is a fantastic sport. Do you have a favorite cricket team or player? Or maybe you like a particular position or role in the game?\", additional_kwargs={}, response_metadata={'finish_reason': 'stop', 'model_name': 'gpt-4.1-mini-2025-04-14', 'system_fingerprint': 'fp_6f2eabb9a5', 'service_tier': 'default'}, id='run--88f6c76a-f8a4-4a3c-ade5-4691ba75912a')]}}, 'parent_ids': ['3ed1fa8c-b8ed-45e1-9990-1908251da83a']}\n",
      "{'event': 'on_chain_end', 'data': {'output': {'messages': [AIMessage(content=\"Hi Suman! It's great to meet you. Cricket is a fantastic sport. Do you have a favorite cricket team or player? Or maybe you like a particular position or role in the game?\", additional_kwargs={}, response_metadata={'finish_reason': 'stop', 'model_name': 'gpt-4.1-mini-2025-04-14', 'system_fingerprint': 'fp_6f2eabb9a5', 'service_tier': 'default'}, id='run--88f6c76a-f8a4-4a3c-ade5-4691ba75912a')]}, 'input': {'messages': [HumanMessage(content='Hi My name is Suman and I like to play cricket', additional_kwargs={}, response_metadata={}, id='7c205b60-58d9-417f-8b8f-d1d8a4a636ba')]}}, 'run_id': 'cbecd6ea-f46d-4e02-91c6-f22499ac3a55', 'name': 'llm_with_tools', 'tags': ['graph:step:1'], 'metadata': {'thread_id': '4', 'langgraph_step': 1, 'langgraph_node': 'llm_with_tools', 'langgraph_triggers': ('branch:to:llm_with_tools',), 'langgraph_path': ('__pregel_pull', 'llm_with_tools'), 'langgraph_checkpoint_ns': 'llm_with_tools:77ea0598-52ce-51b8-09b8-fb57999d651e', 'LANGSMITH_PROJECT': 'langraph_tutorials', 'LANGSMITH_ENDPOINT': 'https://api.smith.langchain.com', 'revision_id': '5471663'}, 'parent_ids': ['3ed1fa8c-b8ed-45e1-9990-1908251da83a']}\n",
      "{'event': 'on_chain_stream', 'run_id': '3ed1fa8c-b8ed-45e1-9990-1908251da83a', 'name': 'LangGraph', 'tags': [], 'metadata': {'thread_id': '4', 'LANGSMITH_PROJECT': 'langraph_tutorials', 'LANGSMITH_ENDPOINT': 'https://api.smith.langchain.com', 'revision_id': '5471663'}, 'data': {'chunk': {'llm_with_tools': {'messages': [AIMessage(content=\"Hi Suman! It's great to meet you. Cricket is a fantastic sport. Do you have a favorite cricket team or player? Or maybe you like a particular position or role in the game?\", additional_kwargs={}, response_metadata={'finish_reason': 'stop', 'model_name': 'gpt-4.1-mini-2025-04-14', 'system_fingerprint': 'fp_6f2eabb9a5', 'service_tier': 'default'}, id='run--88f6c76a-f8a4-4a3c-ade5-4691ba75912a')]}}}, 'parent_ids': []}\n",
      "{'event': 'on_chain_end', 'data': {'output': {'messages': [HumanMessage(content='Hi My name is Suman and I like to play cricket', additional_kwargs={}, response_metadata={}, id='7c205b60-58d9-417f-8b8f-d1d8a4a636ba'), AIMessage(content=\"Hi Suman! It's great to meet you. Cricket is a fantastic sport. Do you have a favorite cricket team or player? Or maybe you like a particular position or role in the game?\", additional_kwargs={}, response_metadata={'finish_reason': 'stop', 'model_name': 'gpt-4.1-mini-2025-04-14', 'system_fingerprint': 'fp_6f2eabb9a5', 'service_tier': 'default'}, id='run--88f6c76a-f8a4-4a3c-ade5-4691ba75912a')]}}, 'run_id': '3ed1fa8c-b8ed-45e1-9990-1908251da83a', 'name': 'LangGraph', 'tags': [], 'metadata': {'thread_id': '4', 'LANGSMITH_PROJECT': 'langraph_tutorials', 'LANGSMITH_ENDPOINT': 'https://api.smith.langchain.com', 'revision_id': '5471663'}, 'parent_ids': []}\n"
     ]
    }
   ],
   "source": [
    "config = {\"configurable\": {\"thread_id\": \"4\"}}\n",
    "\n",
    "async for event in app3.astream_events({\"messages\":[\"Hi My name is Suman and I like to play cricket\"]},config,version=\"v2\"):\n",
    "    print(event)"
   ]
  },
  {
   "cell_type": "markdown",
   "id": "7e42bddf",
   "metadata": {},
   "source": [
    "## Part 6 : Human In the loop"
   ]
  },
  {
   "cell_type": "code",
   "execution_count": 103,
   "id": "b0e2e11e",
   "metadata": {},
   "outputs": [],
   "source": [
    "from typing import Annotated\n",
    "\n",
    "from langchain_tavily import TavilySearch\n",
    "from typing_extensions import TypedDict\n",
    "from langgraph.checkpoint.memory import MemorySaver\n",
    "from langgraph.graph import StateGraph, START, END\n",
    "from langgraph.graph.message import add_messages\n",
    "from langgraph.prebuilt import ToolNode, tools_condition\n",
    "\n",
    "from langchain_core.tools import tool\n",
    "from langgraph.types import Command, interrupt\n",
    "\n",
    "class State(TypedDict):\n",
    "    messages: Annotated[list, add_messages]\n",
    "\n",
    "model = ChatOpenAI(model=\"gpt-4.1-mini\", temperature=0)\n",
    "\n",
    "memory = MemorySaver()\n",
    "\n",
    "@tool\n",
    "def human_assistance(query: str) -> str:\n",
    "    \"\"\"Request assistance from a human.\"\"\"\n",
    "    human_response = interrupt({\"query\": query})\n",
    "    return human_response[\"data\"]\n",
    "\n",
    "search_tool = TavilySearch(max_results=2)\n",
    "tool_list = [search_tool, human_assistance]\n",
    "llm_with_tools = model.bind_tools(tool_list)\n",
    "\n",
    "def tool_calling_llm(state: State):\n",
    "    message = llm_with_tools.invoke(state[\"messages\"])\n",
    "    return {\"messages\": [message]}\n",
    "\n",
    "\n",
    "workflow  = StateGraph(State)\n",
    "workflow.add_node(\"llm_with_tools\", tool_calling_llm)\n",
    "workflow.add_node(\"tools\", ToolNode(tools=tool_list))\n",
    "\n",
    "workflow.add_edge(START, \"llm_with_tools\")\n",
    "workflow.add_conditional_edges(\n",
    "    \"llm_with_tools\",\n",
    "    tools_condition,\n",
    ")\n",
    "workflow.add_edge(\"tools\", \"llm_with_tools\")\n",
    "\n",
    "app_human = workflow.compile(\n",
    "    checkpointer=memory,\n",
    "    interrupt_before=[\"tools\"])"
   ]
  },
  {
   "cell_type": "code",
   "execution_count": 104,
   "id": "fa86e602",
   "metadata": {},
   "outputs": [
    {
     "data": {
      "image/png": "[encoded data removed]",
      "text/plain": [
       "<langgraph.graph.state.CompiledStateGraph object at 0x000001721285C160>"
      ]
     },
     "metadata": {},
     "output_type": "display_data"
    }
   ],
   "source": [
    "display(app_human)"
   ]
  },
  {
   "cell_type": "code",
   "execution_count": 105,
   "id": "9b0b5ff9",
   "metadata": {},
   "outputs": [
    {
     "data": {
      "text/plain": [
       "{'messages': [HumanMessage(content='Hello, I am John', additional_kwargs={}, response_metadata={}, id='25077e5a-3a9d-48e3-a771-44076c20b10a'),\n",
       "  AIMessage(content='Hello John! How can I assist you today?', additional_kwargs={'refusal': None}, response_metadata={'token_usage': {'completion_tokens': 11, 'prompt_tokens': 1294, 'total_tokens': 1305, 'completion_tokens_details': {'accepted_prediction_tokens': 0, 'audio_tokens': 0, 'reasoning_tokens': 0, 'rejected_prediction_tokens': 0}, 'prompt_tokens_details': {'audio_tokens': 0, 'cached_tokens': 1152}}, 'model_name': 'gpt-4.1-mini-2025-04-14', 'system_fingerprint': 'fp_658b958c37', 'id': 'chatcmpl-C01Cn3o7ZKZIs45CD0CtcdeprNt7r', 'service_tier': 'default', 'finish_reason': 'stop', 'logprobs': None}, id='run--3f049198-dc90-46bb-b795-861a6c316d2c-0', usage_metadata={'input_tokens': 1294, 'output_tokens': 11, 'total_tokens': 1305, 'input_token_details': {'audio': 0, 'cache_read': 1152}, 'output_token_details': {'audio': 0, 'reasoning': 0}})]}"
      ]
     },
     "execution_count": 105,
     "metadata": {},
     "output_type": "execute_result"
    }
   ],
   "source": [
    "from langchain_core.messages import HumanMessage\n",
    "\n",
    "config = {\"configurable\": {\"thread_id\": \"1\"}}\n",
    "input_message = HumanMessage(content=\"Hello, I am John\")\n",
    "\n",
    "app_human.invoke({\"messages\": input_message}, config=config)"
   ]
  },
  {
   "cell_type": "code",
   "execution_count": 106,
   "id": "cbafabc9",
   "metadata": {},
   "outputs": [
    {
     "data": {
      "text/plain": [
       "{'messages': [HumanMessage(content='Sorry, did I already introduce myself?', additional_kwargs={}, response_metadata={}, id='1f0f1138-49e1-440d-9369-17f6ede451be'),\n",
       "  AIMessage(content=\"No, you haven't introduced yourself yet. Would you like to introduce yourself now?\", additional_kwargs={'refusal': None}, response_metadata={'token_usage': {'completion_tokens': 17, 'prompt_tokens': 1297, 'total_tokens': 1314, 'completion_tokens_details': {'accepted_prediction_tokens': 0, 'audio_tokens': 0, 'reasoning_tokens': 0, 'rejected_prediction_tokens': 0}, 'prompt_tokens_details': {'audio_tokens': 0, 'cached_tokens': 1280}}, 'model_name': 'gpt-4.1-mini-2025-04-14', 'system_fingerprint': 'fp_658b958c37', 'id': 'chatcmpl-C01Cr2ux0nYND7mk0LsgPaR9knwhn', 'service_tier': 'default', 'finish_reason': 'stop', 'logprobs': None}, id='run--66a43516-0116-4b9d-a453-a4352d5eddc9-0', usage_metadata={'input_tokens': 1297, 'output_tokens': 17, 'total_tokens': 1314, 'input_token_details': {'audio': 0, 'cache_read': 1280}, 'output_token_details': {'audio': 0, 'reasoning': 0}})]}"
      ]
     },
     "execution_count": 106,
     "metadata": {},
     "output_type": "execute_result"
    }
   ],
   "source": [
    "config = {\"configurable\": {\"thread_id\": \"100\"}}\n",
    "input_message = HumanMessage(content=\"Sorry, did I already introduce myself?\")\n",
    "\n",
    "app_human.invoke({\"messages\": input_message}, config=config)"
   ]
  },
  {
   "cell_type": "code",
   "execution_count": 107,
   "id": "a60e51ac",
   "metadata": {},
   "outputs": [
    {
     "data": {
      "text/plain": [
       "{'messages': [HumanMessage(content='Hello, I am John', additional_kwargs={}, response_metadata={}, id='25077e5a-3a9d-48e3-a771-44076c20b10a'),\n",
       "  AIMessage(content='Hello John! How can I assist you today?', additional_kwargs={'refusal': None}, response_metadata={'token_usage': {'completion_tokens': 11, 'prompt_tokens': 1294, 'total_tokens': 1305, 'completion_tokens_details': {'accepted_prediction_tokens': 0, 'audio_tokens': 0, 'reasoning_tokens': 0, 'rejected_prediction_tokens': 0}, 'prompt_tokens_details': {'audio_tokens': 0, 'cached_tokens': 1152}}, 'model_name': 'gpt-4.1-mini-2025-04-14', 'system_fingerprint': 'fp_658b958c37', 'id': 'chatcmpl-C01Cn3o7ZKZIs45CD0CtcdeprNt7r', 'service_tier': 'default', 'finish_reason': 'stop', 'logprobs': None}, id='run--3f049198-dc90-46bb-b795-861a6c316d2c-0', usage_metadata={'input_tokens': 1294, 'output_tokens': 11, 'total_tokens': 1305, 'input_token_details': {'audio': 0, 'cache_read': 1152}, 'output_token_details': {'audio': 0, 'reasoning': 0}}),\n",
       "  HumanMessage(content='Sorry, did I already introduce myself?', additional_kwargs={}, response_metadata={}, id='348bccb5-8102-4cef-b66f-a993042f0ed7'),\n",
       "  AIMessage(content='Yes, you did! You introduced yourself as John. How can I help you today, John?', additional_kwargs={'refusal': None}, response_metadata={'token_usage': {'completion_tokens': 21, 'prompt_tokens': 1320, 'total_tokens': 1341, 'completion_tokens_details': {'accepted_prediction_tokens': 0, 'audio_tokens': 0, 'reasoning_tokens': 0, 'rejected_prediction_tokens': 0}, 'prompt_tokens_details': {'audio_tokens': 0, 'cached_tokens': 1152}}, 'model_name': 'gpt-4.1-mini-2025-04-14', 'system_fingerprint': 'fp_658b958c37', 'id': 'chatcmpl-C01CxZESsq5e7MGiAaTfgsrrWhtGu', 'service_tier': 'default', 'finish_reason': 'stop', 'logprobs': None}, id='run--77ba3f7d-e582-415c-8e65-b323c87c7885-0', usage_metadata={'input_tokens': 1320, 'output_tokens': 21, 'total_tokens': 1341, 'input_token_details': {'audio': 0, 'cache_read': 1152}, 'output_token_details': {'audio': 0, 'reasoning': 0}})]}"
      ]
     },
     "execution_count": 107,
     "metadata": {},
     "output_type": "execute_result"
    }
   ],
   "source": [
    "config = {\"configurable\": {\"thread_id\": \"1\"}}\n",
    "input_message = HumanMessage(content=\"Sorry, did I already introduce myself?\")\n",
    "\n",
    "app_human.invoke({\"messages\": input_message}, config=config)"
   ]
  },
  {
   "cell_type": "code",
   "execution_count": 108,
   "id": "7a7c3cb5",
   "metadata": {},
   "outputs": [
    {
     "data": {
      "text/plain": [
       "{'messages': [HumanMessage(content='Hello, I am John', additional_kwargs={}, response_metadata={}, id='25077e5a-3a9d-48e3-a771-44076c20b10a'),\n",
       "  AIMessage(content='Hello John! How can I assist you today?', additional_kwargs={'refusal': None}, response_metadata={'token_usage': {'completion_tokens': 11, 'prompt_tokens': 1294, 'total_tokens': 1305, 'completion_tokens_details': {'accepted_prediction_tokens': 0, 'audio_tokens': 0, 'reasoning_tokens': 0, 'rejected_prediction_tokens': 0}, 'prompt_tokens_details': {'audio_tokens': 0, 'cached_tokens': 1152}}, 'model_name': 'gpt-4.1-mini-2025-04-14', 'system_fingerprint': 'fp_658b958c37', 'id': 'chatcmpl-C01Cn3o7ZKZIs45CD0CtcdeprNt7r', 'service_tier': 'default', 'finish_reason': 'stop', 'logprobs': None}, id='run--3f049198-dc90-46bb-b795-861a6c316d2c-0', usage_metadata={'input_tokens': 1294, 'output_tokens': 11, 'total_tokens': 1305, 'input_token_details': {'audio': 0, 'cache_read': 1152}, 'output_token_details': {'audio': 0, 'reasoning': 0}}),\n",
       "  HumanMessage(content='Sorry, did I already introduce myself?', additional_kwargs={}, response_metadata={}, id='348bccb5-8102-4cef-b66f-a993042f0ed7'),\n",
       "  AIMessage(content='Yes, you did! You introduced yourself as John. How can I help you today, John?', additional_kwargs={'refusal': None}, response_metadata={'token_usage': {'completion_tokens': 21, 'prompt_tokens': 1320, 'total_tokens': 1341, 'completion_tokens_details': {'accepted_prediction_tokens': 0, 'audio_tokens': 0, 'reasoning_tokens': 0, 'rejected_prediction_tokens': 0}, 'prompt_tokens_details': {'audio_tokens': 0, 'cached_tokens': 1152}}, 'model_name': 'gpt-4.1-mini-2025-04-14', 'system_fingerprint': 'fp_658b958c37', 'id': 'chatcmpl-C01CxZESsq5e7MGiAaTfgsrrWhtGu', 'service_tier': 'default', 'finish_reason': 'stop', 'logprobs': None}, id='run--77ba3f7d-e582-415c-8e65-b323c87c7885-0', usage_metadata={'input_tokens': 1320, 'output_tokens': 21, 'total_tokens': 1341, 'input_token_details': {'audio': 0, 'cache_read': 1152}, 'output_token_details': {'audio': 0, 'reasoning': 0}}),\n",
       "  HumanMessage(content='I want to invest in apple stock. how is the stock price?', additional_kwargs={}, response_metadata={}, id='38044aca-bdba-43ae-8255-0c02dae15f0d'),\n",
       "  AIMessage(content='', additional_kwargs={'tool_calls': [{'id': 'call_nVSWYp8Vuu7FN4O4KzvRn4fG', 'function': {'arguments': '{\"query\":\"Apple stock price\",\"include_domains\":[\"finance.yahoo.com\",\"marketwatch.com\",\"bloomberg.com\"],\"search_depth\":\"basic\"}', 'name': 'tavily_search'}, 'type': 'function'}], 'refusal': None}, response_metadata={'token_usage': {'completion_tokens': 40, 'prompt_tokens': 1362, 'total_tokens': 1402, 'completion_tokens_details': {'accepted_prediction_tokens': 0, 'audio_tokens': 0, 'reasoning_tokens': 0, 'rejected_prediction_tokens': 0}, 'prompt_tokens_details': {'audio_tokens': 0, 'cached_tokens': 1280}}, 'model_name': 'gpt-4.1-mini-2025-04-14', 'system_fingerprint': 'fp_6f2eabb9a5', 'id': 'chatcmpl-C01D6IZdgPKO0S8lidrz64JHfGi56', 'service_tier': 'default', 'finish_reason': 'tool_calls', 'logprobs': None}, id='run--8bc52f43-09ac-495c-aa18-0cdb08ed5d44-0', tool_calls=[{'name': 'tavily_search', 'args': {'query': 'Apple stock price', 'include_domains': ['finance.yahoo.com', 'marketwatch.com', 'bloomberg.com'], 'search_depth': 'basic'}, 'id': 'call_nVSWYp8Vuu7FN4O4KzvRn4fG', 'type': 'tool_call'}], usage_metadata={'input_tokens': 1362, 'output_tokens': 40, 'total_tokens': 1402, 'input_token_details': {'audio': 0, 'cache_read': 1280}, 'output_token_details': {'audio': 0, 'reasoning': 0}})]}"
      ]
     },
     "execution_count": 108,
     "metadata": {},
     "output_type": "execute_result"
    }
   ],
   "source": [
    "\n",
    "from langchain_core.messages import HumanMessage\n",
    "\n",
    "config = {\"configurable\": {\"thread_id\": \"1\"}}\n",
    "input_message = HumanMessage(content=\"I want to invest in apple stock. how is the stock price?\")\n",
    "\n",
    "app_human.invoke({\"messages\": input_message}, config=config)"
   ]
  },
  {
   "cell_type": "code",
   "execution_count": 109,
   "id": "81bd4495",
   "metadata": {},
   "outputs": [
    {
     "data": {
      "text/plain": [
       "('tools',)"
      ]
     },
     "execution_count": 109,
     "metadata": {},
     "output_type": "execute_result"
    }
   ],
   "source": [
    "snapshot = app_human.get_state(config)\n",
    "snapshot.next"
   ]
  },
  {
   "cell_type": "code",
   "execution_count": 110,
   "id": "b427667b",
   "metadata": {},
   "outputs": [
    {
     "data": {
      "text/plain": [
       "{'messages': [HumanMessage(content='Hello, I am John', additional_kwargs={}, response_metadata={}, id='25077e5a-3a9d-48e3-a771-44076c20b10a'),\n",
       "  AIMessage(content='Hello John! How can I assist you today?', additional_kwargs={'refusal': None}, response_metadata={'token_usage': {'completion_tokens': 11, 'prompt_tokens': 1294, 'total_tokens': 1305, 'completion_tokens_details': {'accepted_prediction_tokens': 0, 'audio_tokens': 0, 'reasoning_tokens': 0, 'rejected_prediction_tokens': 0}, 'prompt_tokens_details': {'audio_tokens': 0, 'cached_tokens': 1152}}, 'model_name': 'gpt-4.1-mini-2025-04-14', 'system_fingerprint': 'fp_658b958c37', 'id': 'chatcmpl-C01Cn3o7ZKZIs45CD0CtcdeprNt7r', 'service_tier': 'default', 'finish_reason': 'stop', 'logprobs': None}, id='run--3f049198-dc90-46bb-b795-861a6c316d2c-0', usage_metadata={'input_tokens': 1294, 'output_tokens': 11, 'total_tokens': 1305, 'input_token_details': {'audio': 0, 'cache_read': 1152}, 'output_token_details': {'audio': 0, 'reasoning': 0}}),\n",
       "  HumanMessage(content='Sorry, did I already introduce myself?', additional_kwargs={}, response_metadata={}, id='348bccb5-8102-4cef-b66f-a993042f0ed7'),\n",
       "  AIMessage(content='Yes, you did! You introduced yourself as John. How can I help you today, John?', additional_kwargs={'refusal': None}, response_metadata={'token_usage': {'completion_tokens': 21, 'prompt_tokens': 1320, 'total_tokens': 1341, 'completion_tokens_details': {'accepted_prediction_tokens': 0, 'audio_tokens': 0, 'reasoning_tokens': 0, 'rejected_prediction_tokens': 0}, 'prompt_tokens_details': {'audio_tokens': 0, 'cached_tokens': 1152}}, 'model_name': 'gpt-4.1-mini-2025-04-14', 'system_fingerprint': 'fp_658b958c37', 'id': 'chatcmpl-C01CxZESsq5e7MGiAaTfgsrrWhtGu', 'service_tier': 'default', 'finish_reason': 'stop', 'logprobs': None}, id='run--77ba3f7d-e582-415c-8e65-b323c87c7885-0', usage_metadata={'input_tokens': 1320, 'output_tokens': 21, 'total_tokens': 1341, 'input_token_details': {'audio': 0, 'cache_read': 1152}, 'output_token_details': {'audio': 0, 'reasoning': 0}}),\n",
       "  HumanMessage(content='I want to invest in apple stock. how is the stock price?', additional_kwargs={}, response_metadata={}, id='38044aca-bdba-43ae-8255-0c02dae15f0d'),\n",
       "  AIMessage(content='', additional_kwargs={'tool_calls': [{'id': 'call_nVSWYp8Vuu7FN4O4KzvRn4fG', 'function': {'arguments': '{\"query\":\"Apple stock price\",\"include_domains\":[\"finance.yahoo.com\",\"marketwatch.com\",\"bloomberg.com\"],\"search_depth\":\"basic\"}', 'name': 'tavily_search'}, 'type': 'function'}], 'refusal': None}, response_metadata={'token_usage': {'completion_tokens': 40, 'prompt_tokens': 1362, 'total_tokens': 1402, 'completion_tokens_details': {'accepted_prediction_tokens': 0, 'audio_tokens': 0, 'reasoning_tokens': 0, 'rejected_prediction_tokens': 0}, 'prompt_tokens_details': {'audio_tokens': 0, 'cached_tokens': 1280}}, 'model_name': 'gpt-4.1-mini-2025-04-14', 'system_fingerprint': 'fp_6f2eabb9a5', 'id': 'chatcmpl-C01D6IZdgPKO0S8lidrz64JHfGi56', 'service_tier': 'default', 'finish_reason': 'tool_calls', 'logprobs': None}, id='run--8bc52f43-09ac-495c-aa18-0cdb08ed5d44-0', tool_calls=[{'name': 'tavily_search', 'args': {'query': 'Apple stock price', 'include_domains': ['finance.yahoo.com', 'marketwatch.com', 'bloomberg.com'], 'search_depth': 'basic'}, 'id': 'call_nVSWYp8Vuu7FN4O4KzvRn4fG', 'type': 'tool_call'}], usage_metadata={'input_tokens': 1362, 'output_tokens': 40, 'total_tokens': 1402, 'input_token_details': {'audio': 0, 'cache_read': 1280}, 'output_token_details': {'audio': 0, 'reasoning': 0}}),\n",
       "  ToolMessage(content='{\"query\": \"Apple stock price\", \"follow_up_questions\": null, \"answer\": null, \"images\": [], \"results\": [{\"url\": \"https://sg.finance.yahoo.com/quote/AAPL/history/\", \"title\": \"Apple Inc. (AAPL) stock historical prices and data - Yahoo Finance\", \"content\": \"| Adj CloseAdjusted closing price adjusted for splits and dividend and/or capital gain distributions. | Volume 13 May 2025 | 210.43 | 213.40 | 209.00 | 212.93 | 212.93 | 51,759,900 12 May 2025 | 0.26Dividend 12 May 2025 | 210.97 | 211.27 | 206.75 | 210.79 | 210.79 | 63,775,800 9 May 2025 | 199.00 | 200.54 | 197.54 | 198.53 | 198.27 | 36,453,900 8 May 2025 | 197.72 | 200.05 | 194.68 | 197.49 | 197.23 | 50,478,900 7 May 2025 | 199.17 | 199.44 | 193.25 | 196.25 | 195.99 | 68,536,700 6 May 2025 | 198.21 | 200.65 | 197.02 | 198.51 | 198.25 | 51,216,500 5 May 2025 | 203.10 | 204.10 | 198.21 | 198.89 | 198.63 | 69,018,500 2 May 2025 | 206.09 | 206.99 | 202.16 | 205.35 | 205.08 | 101,010,600 1 May 2025 | 209.08 | 214.56 | 208.90 | 213.32 | 213.04 | 57,365,700 30 Apr 2025 | 209.30 | 213.58 | 206.67 | 212.50 | 212.22 | 52,286,500 29 Apr 2025 | 208.69 | 212.24 | 208.37 | 211.21 | 210.93 | 36,827,600 28 Apr 2025 | 210.00 | 211.50 | 207.46 | 210.14 | 209.86 | 38,743,100 25 Apr 2025 | 206.37 | 209.75 | 206.20 | 209.28 | 209.01 | 38,222,300 24 Apr 2025 | 204.89 | 208.83 | 202.94 | 208.37 | 208.10 | 47,311,000 23 Apr 2025 | 206.00 | 208.00 | 202.80 | 204.60 | 204.33 | 52,929,200 22 Apr 2025 | 196.12 | 201.59 | 195.97 | 199.74 | 199.48 | 52,976,400 21 Apr 2025 | 193.27 | 193.80 | 189.81 | 193.16 | 192.91 | 46,742,500 17 Apr 2025 | 197.20 | 198.83 | 194.42 | 196.98 | 196.72 | 51,334,300 16 Apr 2025 | 198.36 | 200.70 | 192.37 | 194.27 | 194.02 | 59,732,400 15 Apr 2025 | 201.86 | 203.51 | 199.80 | 202.14 | 201.88 | 51,343,900 14 Apr 2025 | 211.44 | 212.94 | 201.16 | 202.52 | 202.25 | 101,352,900 11 Apr 2025 | 186.10 | 199.54 | 186.06 | 198.15 | 197.89 | 87,435,900 10 Apr 2025 | 189.07 | 194.78 | 183.00 | 190.42 | 190.17 | 121,880,000 9 Apr 2025 | 171.95 | 200.61 | 171.89 | 198.85 | 198.59 | 184,395,900 8 Apr 2025 | 186.70 | 190.34 | 169.21 | 172.42 | 172.19 | 120,859,500 7 Apr 2025 | 177.20 | 194.15 | 174.62 | 181.46 | 181.22 | 160,466,300 4 Apr 2025 | 193.89 | 199.88 | 187.34 | 188.38 | 188.13 | 125,910,900 3 Apr 2025 | 205.54 | 207.49 | 201.25 | 203.19 | 202.92 | 103,419,000 2 Apr 2025 | 221.32 | 225.19 | 221.02 | 223.89 | 223.60 | 35,905,900 1 Apr 2025 | 219.81 | 223.68 | 218.90 | 223.19 | 222.90 | 36,412,700 31 Mar 2025 | 217.01 | 225.62 | 216.23 | 222.13 | 221.84 | 65,299,300 28 Mar 2025 | 221.67 | 223.81 | 217.68 | 217.90 | 217.61 | 39,818,600 27 Mar 2025 | 221.39 | 224.99 | 220.56 | 223.85 | 223.56 | 37,094,800 26 Mar 2025 | 223.51 | 225.02 | 220.47 | 221.53 | 221.24 | 34,466,100 25 Mar 2025 | 220.77 | 224.10 | 220.08 | 223.75 | 223.46 | 34,493,600 24 Mar 2025 | 221.00 | 221.48 | 218.58 | 220.73 | 220.44 | 44,299,500 21 Mar 2025 | 211.56 | 218.84 | 211.28 | 218.27 | 217.98 | 94,127,800 20 Mar 2025 | 213.99 | 217.49 | 212.22 | 214.10 | 213.82 | 48,862,900 19 Mar 2025 | 214.22 | 218.76 | 213.75 | 215.24 | 214.96 | 54,385,400 18 Mar 2025 | 214.16 | 215.15 | 211.49 | 212.69 | 212.41 | 42,432,400 17 Mar 2025 | 213.31 | 215.22 | 209.97 | 214.00 | 213.72 | 48,073,400 14 Mar 2025 | 211.25 | 213.95 | 209.58 | 213.49 | 213.21 | 60,107,600 13 Mar 2025 | 215.95 | 216.84 | 208.42 | 209.68 | 209.41 | 61,368,300 12 Mar 2025 | 220.14 | 221.75 | 214.91 | 216.98 | 216.70 | 62,547,500 11 Mar 2025 | 223.81 | 225.84 | 217.45 | 220.84 | 220.55 | 76,137,400 10 Mar 2025 | 235.54 | 236.16 | 224.22 | 227.48 | 227.18 | 72,071,200 7 Mar 2025 | 235.11 | 241.37 | 234.76 | 239.07 | 238.76 | 46,273,600 6 Mar 2025 | 234.44 | 237.86 | 233.16 | 235.33 | 235.02 | 45,170,400 5 Mar 2025 | 235.42 | 236.55 | 229.23 | 235.74 | 235.43 | 47,227,600 4 Mar 2025 | 237.71 | 240.07 | 234.68 | 235.93 | 235.62 | 53,798,100 3 Mar 2025 | 241.79 | 244.03 | 236.11 | 238.03 | 237.72 | 47,184,000 28 Feb 2025 | 236.95 | 242.09 | 230.20 | 241.84 | 241.52 | 56,833,400 27 Feb 2025 | 239.41 | 242.46 | 237.06 | 237.30 | 236.99 | 41,153,600 26 Feb 2025 | 244.33 | 244.98 | 239.13 | 240.36 | 240.05 | 44,433,600 25 Feb 2025 | 248.00 | 250.00 | 244.91 | 247.04 | 246.72 | 48,013,300 24 Feb 2025 | 244.93 | 248.86 | 244.42 | 247.10 | 246.78 | 51,326,400 21 Feb 2025 | 245.95 | 248.69 | 245.22 | 245.55 | 245.23 | 53,197,400 20 Feb 2025 | 244.94 | 246.78 | 244.29 | 245.83 | 245.51 | 32,316,900 19 Feb 2025 | 244.66 | 246.01 | 243.16 | 244.87 | 244.55 | 32,204,200 18 Feb 2025 | 244.15 | 245.18 | 241.84 | 244.47 | 244.15 | 48,822,500 14 Feb 2025 | 241.25 | 245.55 | 240.99 | 244.60 | 244.28 | 40,896,200 13 Feb 2025 | 236.91 | 242.34 | 235.57 | 241.53 | 241.21 | 53,614,100 12 Feb 2025 | 231.20 | 236.96 | 230.68 | 236.87 | 236.56 | 45,243,300 11 Feb 2025 | 228.20 | 235.23 | 228.13 | 232.62 | 232.32 | 53,718,400 10 Feb 2025 | 0.25Dividend 10 Feb 2025 | 229.57 | 230.59 | 227.20 | 227.65 | 227.35 | 33,115,600 7 Feb 2025 | 232.60 | 234.00 | 227.26 | 227.63 | 227.08 | 39,707,200 6 Feb 2025 | 231.29 | 233.80 | 230.43 | 233.22 | 232.66 | 29,925,300 5 Feb 2025 | 228.53 | 232.67 | 228.27 | 232.47 | 231.91 | 39,620,300 4 Feb 2025 | 227.25 | 233.13 | 226.65 | 232.80 | 232.24 | 45,067,300 3 Feb 2025 | 229.99 | 231.83 | 225.70 | 228.01 | 227.46 | 73,063,300 31 Jan 2025 | 247.19 | 247.19 | 233.44 | 236.00 | 235.43 | 101,075,100 30 Jan 2025 | 238.67 | 240.79 | 237.21 | 237.59 | 237.02 | 55,658,300 29 Jan 2025 | 234.12 | 239.86 | 234.01 | 239.36 | 238.78 | 45,486,100 28 Jan 2025 | 230.85 | 240.19 | 230.81 | 238.26 | 237.69 | 75,707,600 27 Jan 2025 | 224.02 | 232.15 | 223.98 | 229.86 | 229.31 | 94,863,400 24 Jan 2025 | 224.78 | 225.63 | 221.41 | 222.78 | 222.24 | 54,697,900 23 Jan 2025 | 224.74 | 227.03 | 222.30 | 223.66 | 223.12 | 60,234,800 22 Jan 2025 | 219.79 | 224.12 | 219.79 | 223.83 | 223.29 | 64,126,500 21 Jan 2025 | 224.00 | 224.42 | 219.38 | 222.64 | 222.10 | 98,070,400 17 Jan 2025 | 232.12 | 232.29 | 228.48 | 229.98 | 229.43 | 68,488,300 16 Jan 2025 | 237.35 | 238.01 | 228.03 | 228.26 | 227.71 | 71,759,100 15 Jan 2025 | 234.64 | 238.96 | 234.43 | 237.87 | 237.30 | 39,832,000 14 Jan 2025 | 234.75 | 236.12 | 232.47 | 233.28 | 232.72 | 39,435,300 13 Jan 2025 | 233.53 | 234.67 | 229.72 | 234.40 | 233.84 | 49,630,700 10 Jan 2025 | 240.01 | 240.16 | 233.00 | 236.85 | 236.28 | 61,710,900 8 Jan 2025 | 241.92 | 243.71 | 240.05 | 242.70 | 242.12 | 37,628,900 7 Jan 2025 | 242.98 | 245.55 | 241.35 | 242.21 | 241.63 | 40,856,000 6 Jan 2025 | 244.31 | 247.33 | 243.20 | 245.00 | 244.41 | 45,045,600 3 Jan 2025 | 243.36 | 244.18 | 241.89 | 243.36 | 242.77 | 40,244,100 2 Jan 2025 | 248.93 | 249.10 | 241.82 | 243.85 | 243.26 | 55,740,700 31 Dec 2024 | 252.44 | 253.28 | 249.43 | 250.42 | 249.82 | 39,480,700 30 Dec 2024 | 252.23 | 253.50 | 250.75 | 252.20 | 251.59 | 35,557,500 27 Dec 2024 | 257.83 | 258.70 | 253.06 | 255.59 | 254.97 | 42,355,300 26 Dec 2024 | 258.19 | 260.10 | 257.63 | 259.02 | 258.40 | 27,237,100 24 Dec 2024 | 255.49 | 258.21 | 255.29 | 258.20 | 257.58 | 23,234,700 23 Dec 2024 | 254.77 | 255.65 | 253.45 | 255.27 | 254.66 | 40,858,800 20 Dec 2024 | 248.04 | 255.00 | 245.69 | 254.49 | 253.88 | 147,495,300 19 Dec 2024 | 247.50 | 252.00 | 247.09 | 249.79 | 249.19 | 60,882,300 18 Dec 2024 | 252.16 | 254.28 | 247.74 | 248.05 | 247.45 | 56,774,100 17 Dec 2024 | 250.08 | 253.83 | 249.78 | 253.48 | 252.87 | 51,356,400 16 Dec 2024 | 247.99 | 251.38 | 247.65 | 251.04 | 250.44 | 51,694,800 13 Dec 2024 | 247.82 | 249.29 | 246.24 | 248.13 | 247.53 | 33,155,300 12 Dec 2024 | 246.89 | 248.74 | 245.68 | 247.96 | 247.36 | 32,777,500 11 Dec 2024 | 247.96 | 250.80 | 246.26 | 246.49 | 245.90 | 45,205,800 10 Dec 2024 | 246.89 | 248.21 | 245.34 | 247.77 | 247.17 | 36,914,800 9 Dec 2024 | 241.83 | 247.24 | 241.75 | 246.75 | 246.16 | 44,649,200 6 Dec 2024 | 242.91 | 244.63 | 242.08 | 242.84 | 242.26 | 36,870,600 5 Dec 2024 | 243.99 | 244.54 | 242.13 | 243.04 | 242.46 | 40,033,900 4 Dec 2024 | 242.87 | 244.11 | 241.25 | 243.01 | 242.43 | 44,383,900 3 Dec 2024 | 239.81 | 242.76 | 238.90 | 242.65 | 242.07 | 38,861,000 2 Dec 2024 | 237.27 | 240.79 | 237.16 | 239.59 | 239.01 | 48,137,100 29 Nov 2024 | 234.81 | 237.81 | 233.97 | 237.33 | 236.76 | 28,481,400 27 Nov 2024 | 234.47 | 235.69 | 233.81 | 234.93 | 234.36 | 33,498,400 26 Nov 2024 | 233.33 | 235.57 | 233.33 | 235.06 | 234.49 | 45,986,200 25 Nov 2024 | 231.46 | 233.25 | 229.74 | 232.87 | 232.31 | 90,152,800 22 Nov 2024 | 228.06 | 230.72 | 228.06 | 229.87 | 229.32 | 38,168,300 21 Nov 2024 | 228.88 | 230.16 | 225.71 | 228.52 | 227.97 | 42,108,300 20 Nov 2024 | 228.06 | 229.93 | 225.89 | 229.00 | 228.45 | 35,169,600 19 Nov 2024 | 226.98 | 230.16 | 226.66 | 228.28 | 227.73 | 36,211,800 18 Nov 2024 | 225.25 | 229.74 | 225.17 | 228.02 | 227.47 | 44,686,000 15 Nov 2024 | 226.40 | 226.92 | 224.27 | 225.00 | 224.46 | 47,923,700 14 Nov 2024 | 225.02 | 228.87 | 225.00 | 228.22 | 227.67 | 44,923,900 13 Nov 2024 | 224.01 | 226.65 | 222.76 | 225.12 | 224.58 | 48,566,200 12 Nov 2024 | 224.55 | 225.59 | 223.36 | 224.23 | 223.69 | 40,398,300 11 Nov 2024 | 225.00 | 225.70 | 221.50 | 224.23 | 223.69 | 42,005,600 8 Nov 2024 | 0.25Dividend 8 Nov 2024 | 227.17 | 228.66 | 226.41 | 226.96 | 226.41 | 38,328,800 7 Nov 2024 | 224.63 | 227.88 | 224.57 | 227.48 | 226.68 | 42,137,700 6 Nov 2024 | 222.61 | 226.07 | 221.19 | 222.72 | 221.94 | 54,561,100 5 Nov 2024 | 221.80 | 223.95 | 221.14 | 223.45 | 222.67 | 28,111,300 4 Nov 2024 | 220.99 | 222.79 | 219.71 | 222.01 | 221.23 | 44,944,500 1 Nov 2024 | 220.97 | 225.35 | 220.27 | 222.91 | 222.13 | 65,276,700 31 Oct 2024 | 229.34 | 229.83 | 225.37 | 225.91 | 225.12 | 64,370,100 30 Oct 2024 | 232.61 | 233.47 | 229.55 | 230.10 | 229.29 | 47,070,900 29 Oct 2024 | 233.10 | 234.33 | 232.32 | 233.67 | 232.85 | 35,417,200 28 Oct 2024 | 233.32 | 234.73 | 232.55 | 233.40 | 232.58 | 36,087,100 25 Oct 2024 | 229.74 | 233.22 | 229.57 | 231.41 | 230.60 | 38,802,300 24 Oct 2024 | 229.98 | 230.82 | 228.41 | 230.57 | 229.76 | 31,109,500 23 Oct 2024 | 234.08 | 235.14 | 227.76 | 230.76 | 229.95 | 52,287,000 22 Oct 2024 | 233.89 | 236.22 | 232.60 | 235.86 | 235.03 | 38,846,600 21 Oct 2024 | 234.45 | 236.85 | 234.45 | 236.48 | 235.65 | 36,254,500 18 Oct 2024 | 236.18 | 236.18 | 234.01 | 235.00 | 234.18 | 46,431,500 17 Oct 2024 | 233.43 | 233.85 | 230.52 | 232.15 | 231.34 | 32,993,800 16 Oct 2024 | 231.60 | 232.12 | 229.84 | 231.78 | 230.97 | 34,082,200 15 Oct 2024 | 233.61 | 237.49 | 232.37 | 233.85 | 233.03 | 64,751,400 14 Oct 2024 | 228.70 | 231.73 | 228.60 | 231.30 | 230.49 | 39,882,100 11 Oct 2024 | 229.30 | 229.41 | 227.34 | 227.55 | 226.75 | 31,759,200 10 Oct 2024 | 227.78 | 229.50 | 227.17 | 229.04 | 228.24 | 28,183,500 9 Oct 2024 | 225.23 | 229.75 | 224.83 | 229.54 | 228.74 | 33,591,100 8 Oct 2024 | 224.30 | 225.98 | 223.25 | 225.77 | 224.98 | 31,855,700 7 Oct 2024 | 224.50 | 225.69 | 221.33 | 221.69 | 220.91 | 39,505,400 4 Oct 2024 | 227.90 | 228.00 | 224.13 | 226.80 | 226.01 | 37,245,100 3 Oct 2024 | 225.14 | 226.81 | 223.32 | 225.67 | 224.88 | 34,044,200 2 Oct 2024 | 225.89 | 227.37 | 223.02 | 226.78 | 225.99 | 32,880,600 1 Oct 2024 | 229.52 | 229.65 | 223.74 | 226.21 | 225.42 | 63,285,000 30 Sept 2024 | 230.04 | 233.00 | 229.65 | 233.00 | 232.18 | 54,541,900 27 Sept 2024 | 228.46 | 229.52 | 227.30 | 227.79 | 226.99 | 34,026,000 26 Sept 2024 | 227.30 | 228.50 | 225.41 | 227.52 | 226.72 | 36,636,700 25 Sept 2024 | 224.93 | 227.29 | 224.02 | 226.37 | 225.58 | 42,308,700 24 Sept 2024 | 228.65 | 229.35 | 225.73 | 227.37 | 226.57 | 43,556,100 23 Sept 2024 | 227.34 | 229.45 | 225.81 | 226.47 | 225.68 | 54,146,000 20 Sept 2024 | 229.97 | 233.09 | 227.62 | 228.20 | 227.40 | 318,679,900 19 Sept 2024 | 224.99 | 229.82 | 224.63 | 228.87 | 228.07 | 66,781,300 18 Sept 2024 | 217.55 | 222.71 | 217.54 | 220.69 | 219.92 | 59,894,900 17 Sept 2024 | 215.75 | 216.90 | 214.50 | 216.79 | 216.03 | 45,519,300 16 Sept 2024 | 216.54 | 217.22 | 213.92 | 216.32 | 215.56 | 59,357,400 13 Sept 2024 | 223.58 | 224.04 | 221.91 | 222.50 | 221.72 | 36,766,600 12 Sept 2024 | 222.50 | 223.55 | 219.82 | 222.77 | 221.99 | 37,498,200 11 Sept 2024 | 221.46 | 223.09 | 217.89 | 222.66 | 221.88 | 44,587,100 10 Sept 2024 | 218.92 | 221.48 | 216.73 | 220.11 | 219.34 | 51,591,000 9 Sept 2024 | 220.82 | 221.27 | 216.71 | 220.91 | 220.14 | 67,180,000 6 Sept 2024 | 223.95 | 225.24 | 219.77 | 220.82 | 220.05 | 48,423,000 5 Sept 2024 | 221.63 | 225.48 | 221.52 | 222.38 | 221.60 | 36,615,400 4 Sept 2024 | 221.66 | 221.78 | 217.48 | 220.85 | 220.08 | 43,840,200 3 Sept 2024 | 228.55 | 229.00 | 221.17 | 222.77 | 221.99 | 50,190,600 30 Aug 2024 | 230.19 | 230.40 | 227.48 | 229.00 | 228.20 | 52,990,800 29 Aug 2024 | 230.10 | 232.92 | 228.88 | 229.79 | 228.99 | 51,906,300 28 Aug 2024 | 227.92 | 229.86 | 225.68 | 226.49 | 225.70 | 38,052,200 27 Aug 2024 | 226.00 | 228.85 | 224.89 | 228.03 | 227.23 | 35,934,600 26 Aug 2024 | 226.76 | 227.28 | 223.89 | 227.18 | 226.38 | 30,602,200 23 Aug 2024 | 225.66 | 228.22 | 224.33 | 226.84 | 226.05 | 38,677,300 22 Aug 2024 | 227.79 | 228.34 | 223.90 | 224.53 | 223.74 | 43,695,300 21 Aug 2024 | 226.52 | 227.98 | 225.05 | 226.40 | 225.61 | 34,765,500 20 Aug 2024 | 225.77 | 227.17 | 225.45 | 226.51 | 225.72 | 30,299,000 19 Aug 2024 | 225.72 | 225.99 | 223.04 | 225.89 | 225.10 | 40,687,800 16 Aug 2024 | 223.92 | 226.83 | 223.65 | 226.05 | 225.26 | 44,340,200 15 Aug 2024 | 224.60 | 225.35 | 222.76 | 224.72 | 223.93 | 46,414,000 14 Aug 2024 | 220.57 | 223.03 | 219.70 | 221.72 | 220.94 | 41,960,600 13 Aug 2024 | 219.01 | 221.89 | 219.01 | 221.27 | 220.49 | 44,155,300 12 Aug 2024 | 0.25Dividend 12 Aug 2024 | 216.07 | 219.51 | 215.60 | 217.53 | 216.77 | 38,028,100 9 Aug 2024 | 212.10 | 216.78 | 211.97 | 216.24 | 215.23 | 42,201,600 8 Aug 2024 | 213.11 | 214.20 | 208.83 | 213.31 | 212.32 | 47,161,100 7 Aug 2024 | 206.90 | 213.64 | 206.39 | 209.82 | 208.84 | 63,516,400 6 Aug 2024 | 205.30 | 209.99 | 201.07 | 207.23 | 206.27 | 69,660,500 5 Aug 2024 | 199.09 | 213.50 | 196.00 | 209.27 | 208.30 | 119,548,600 2 Aug 2024 | 219.15 | 225.60 | 217.71 | 219.86 | 218.84 | 105,568,600 1 Aug 2024 | 224.37 | 224.48 | 217.02 | 218.36 | 217.34 | 62,501,000 31 Jul 2024 | 221.44 | 223.82 | 220.63 | 222.08 | 221.05 | 50,036,300 30 Jul 2024 | 219.19 | 220.33 | 216.12 | 218.80 | 217.78 | 41,643,800 29 Jul 2024 | 216.96 | 219.30 | 215.75 | 218.24 | 217.22 | 36,311,800 26 Jul 2024 | 218.70 | 219.49 | 216.01 | 217.96 | 216.95 | 41,601,300 25 Jul 2024 | 218.93 | 220.85 | 214.62 | 217.49 | 216.48 | 51,391,200 24 Jul 2024 | 224.00 | 224.80 | 217.13 | 218.54 | 217.52 | 61,777,600 23 Jul 2024 | 224.37 | 226.94 | 222.68 | 225.01 | 223.96 | 39,960,300 22 Jul 2024 | 227.01 | 227.78 | 223.09 | 223.96 | 222.92 | 48,201,800 19 Jul 2024 | 224.82 | 226.80 | 223.28 | 224.31 | 223.27 | 49,151,500 18 Jul 2024 | 230.28 | 230.44 | 222.27 | 224.18 | 223.14 | 66,034,600 17 Jul 2024 | 229.45 | 231.46 | 226.64 | 228.88 | 227.81 | 57,345,900 16 Jul 2024 | 235.00 | 236.27 | 232.33 | 234.82 | 233.73 | 43,234,300 15 Jul 2024 | 236.48 | 237.23 | 233.09 | 234.40 | 233.31 | 62,631,300 12 Jul 2024 | 228.92 | 232.64 | 228.68 | 230.54 | 229.47 | 53,046,500 11 Jul 2024 | 231.39 | 232.39 | 225.77 | 227.57 | 226.51 | 64,710,600 10 Jul 2024 | 229.30 | 233.08 | 229.25 | 232.98 | 231.90 | 62,627,700 9 Jul 2024 | 227.93 | 229.40 | 226.37 | 228.68 | 227.62 | 48,076,100 8 Jul 2024 | 227.09 | 227.85 | 223.25 | 227.82 | 226.76 | 59,085,900 5 Jul 2024 | 221.65 | 226.45 | 221.65 | 226.34 | 225.29 | 60,412,400 3 Jul 2024 | 220.00 | 221.55 | 219.03 | 221.55 | 220.52 | 37,369,800 2 Jul 2024 | 216.15 | 220.38 | 215.10 | 220.27 | 219.24 | 58,046,200 1 Jul 2024 | 212.09 | 217.51 | 211.92 | 216.75 | 215.74 | 60,402,900 28 Jun 2024 | 215.77 | 216.07 | 210.30 | 210.62 | 209.64 | 82,542,700 27 Jun 2024 | 214.69 | 215.74 | 212.35 | 214.10 | 213.10 | 49,772,700 26 Jun 2024 | 211.50 | 214.86 | 210.64 | 213.25 | 212.26 | 66,213,200 25 Jun 2024 | 209.15 | 211.38 | 208.61 | 209.07 | 208.10 | 56,713,900 24 Jun 2024 | 207.72 | 212.70 | 206.59 | 208.14 | 207.17 | 80,727,000 21 Jun 2024 | 210.39 | 211.89 | 207.11 | 207.49 | 206.52 | 246,421,400 20 Jun 2024 | 213.93 | 214.24 | 208.85 | 209.68 | 208.70 | 86,172,500 18 Jun 2024 | 217.59 | 218.63 | 213.00 | 214.29 | 213.29 | 79,943,300 17 Jun 2024 | 213.37 | 218.95 | 212.72 | 216.67 | 215.66 | 93,728,300 14 Jun 2024 | 213.85 | 215.17 | 211.30 | 212.49 | 211.50 | 70,122,700 13 Jun 2024 | 214.74 | 216.75 | 211.60 | 214.24 | 213.24 | 97,862,700 12 Jun 2024 | 207.37 | 220.20 | 206.90 | 213.07 | 212.08 | 198,134,300 11 Jun 2024 | 193.65 | 207.16 | 193.63 | 207.15 | 206.19 | 172,373,300 10 Jun 2024 | 196.90 | 197.30 | 192.15 | 193.12 | 192.22 | 97,262,100 7 Jun 2024 | 194.65 | 196.94 | 194.14 | 196.89 | 195.97 | 53,103,900 6 Jun 2024 | 195.69 | 196.50 | 194.17 | 194.48 | 193.57 | 41,181,800 5 Jun 2024 | 195.40 | 196.90 | 194.87 | 195.87 | 194.96 | 54,156,800 4 Jun 2024 | 194.64 | 195.32 | 193.03 | 194.35 | 193.45 | 47,471,400 3 Jun 2024 | 192.90 | 194.99 | 192.52 | 194.03 | 193.13 | 50,080,500 31 May 2024 | 191.44 | 192.57 | 189.91 | 192.25 | 191.36 | 75,158,300 30 May 2024 | 190.76 | 192.18 | 190.63 | 191.29 | 190.40 | 49,947,900 29 May 2024 | 189.61 | 192.25 | 189.51 | 190.29 | 189.40 | 53,068,000 28 May 2024 | 191.51 | 193.00 | 189.10 | 189.99 | 189.11 | 52,280,100 24 May 2024 | 188.82 | 190.58 | 188.04 | 189.98 | 189.10 | 36,294,600 23 May 2024 | 190.98 | 191.00 | 186.63 | 186.88 | 186.01 | 51,005,900 22 May 2024 | 192.27 | 192.82 | 190.27 | 190.90 | 190.01 | 34,648,500 21 May 2024 | 191.09 | 192.73 | 190.92 | 192.35 | 191.45 | 42,309,400 20 May 2024 | 189.33 | 191.92 | 189.01 | 191.04 | 190.15 | 44,361,300 17 May 2024 | 189.51 | 190.81 | 189.18 | 189.87 | 188.99 | 41,282,900 16 May 2024 | 190.47 | 191.10 | 189.66 | 189.84 | 188.96 | 52,845,200 15 May 2024 | 187.91 | 190.65 | 187.37 | 189.72 | 188.84 | 70,400,000 14 May 2024 | 187.51 | 188.30 | 186.29 | 187.43 | 186.56 | 52,393,600 Related tickers Sign in to access your portfolio\", \"score\": 0.8259413, \"raw_content\": null}, {\"url\": \"https://finance.yahoo.com/quote/AAPL.BA/\", \"title\": \"Apple Inc. (AAPL.BA) Stock Price, News, Quote & History\", \"content\": \"3.   [Breaking News • 4 hours ago Stock futures jump as US trade court blocks Trump\\'s global tariffs](https://finance.yahoo.com/news/live/stock-market-today-dow-sp-500-nasdaq-futures-jump-as-court-blocks-trump-tariffs-nvidia-earnings-impress-234801294.html?.tsrc=fin-notif) [Breaking News • 14 hours ago Dow, S&P 500, Nasdaq move higher with all eyes on Nvidia earnings](https://finance.yahoo.com/news/live/stock-market-today-dow-sp-500-nasdaq-futures-stall-with-all-eyes-on-nvidia-earnings-233141257.html?.tsrc=fin-notif) [Breaking News • yesterday The Dow gained 740 points and the S&P 500 soared 2% as Trump eased EU trade tensions, and consumer confidence jumped](https://finance.yahoo.com/news/live/stock-market-today-dow-sp-500-nasdaq-soar-as-trump-pauses-eu-tariff-hikes-for-fast-tracked-talks-133348369.html?.tsrc=fin-notif) [Breaking News • 5 days ago Stocks end the week in the red as Trump\\'s tariff threats roar back and US deficit anxiety deepens](https://finance.yahoo.com/news/live/stock-market-today-dow-sp-500-nasdaq-fall-as-trump-tariff-threats-roar-back-us-deficit-anxiety-deepens-200055672.html?.tsrc=fin-notif) [Breaking News • 5 days ago Dow falls over 400 points, Nasdaq sinks 1.6% as Trump reignites trade war with broadsides at Apple, EU](https://finance.yahoo.com/news/live/stock-market-today-dow-sp-500-nasdaq-sink-as-trump-threatens-apple-eu-with-new-tariffs-133029628.html?.tsrc=fin-notif) [Breaking News • 5 days ago Dow futures sink 650 points after Trump threatens new tariffs on Apple and the EU](https://finance.yahoo.com/news/live/stock-market-today-dow-sp-500-nasdaq-futures-slide-as-trump-threatens-apple-eu-with-new-tariffs-234705035.html?.tsrc=fin-notif)\", \"score\": 0.68723184, \"raw_content\": null}], \"response_time\": 1.17}', name='tavily_search', id='a37e0218-e7ad-4b38-b509-d632f871a05f', tool_call_id='call_nVSWYp8Vuu7FN4O4KzvRn4fG'),\n",
       "  AIMessage(content='The latest available data shows that Apple Inc. (AAPL) stock price is around $210 to $213 per share as of mid-May 2025. For example, on May 13, 2025, the closing price was approximately $212.93.\\n\\nIf you want more detailed or real-time information, I recommend checking a financial website like Yahoo Finance or MarketWatch. Would you like me to help you with anything else related to Apple stock or investing?', additional_kwargs={'refusal': None}, response_metadata={'token_usage': {'completion_tokens': 95, 'prompt_tokens': 11616, 'total_tokens': 11711, 'completion_tokens_details': {'accepted_prediction_tokens': 0, 'audio_tokens': 0, 'reasoning_tokens': 0, 'rejected_prediction_tokens': 0}, 'prompt_tokens_details': {'audio_tokens': 0, 'cached_tokens': 1280}}, 'model_name': 'gpt-4.1-mini-2025-04-14', 'system_fingerprint': 'fp_658b958c37', 'id': 'chatcmpl-C01DgcmkVMlmkwnwOWKh8rItHMsxS', 'service_tier': 'default', 'finish_reason': 'stop', 'logprobs': None}, id='run--6d9d6d63-4f03-4dfc-915c-b6e06c6fee29-0', usage_metadata={'input_tokens': 11616, 'output_tokens': 95, 'total_tokens': 11711, 'input_token_details': {'audio': 0, 'cache_read': 1280}, 'output_token_details': {'audio': 0, 'reasoning': 0}})]}"
      ]
     },
     "execution_count": 110,
     "metadata": {},
     "output_type": "execute_result"
    }
   ],
   "source": [
    "app_human.invoke(None, config=config)"
   ]
  },
  {
   "cell_type": "code",
   "execution_count": null,
   "id": "8d5fc1e6",
   "metadata": {},
   "outputs": [],
   "source": [
    "#extra"
   ]
  },
  {
   "cell_type": "code",
   "execution_count": 111,
   "id": "aff9417e",
   "metadata": {},
   "outputs": [
    {
     "name": "stdout",
     "output_type": "stream",
     "text": [
      "================================\u001b[1m Human Message \u001b[0m=================================\n",
      "\n",
      "I need some expert guidance and assistance for building an AI agent\n",
      "==================================\u001b[1m Ai Message \u001b[0m==================================\n",
      "\n",
      "Building an AI agent can be an exciting and complex project! To provide you with the best guidance and assistance, could you please share more details about your AI agent? For example:\n",
      "\n",
      "1. What is the primary purpose or function of the AI agent?\n",
      "2. What kind of data or inputs will it work with?\n",
      "3. Are you looking to build it from scratch or use existing frameworks or platforms?\n",
      "4. What is your level of experience with AI, machine learning, and programming?\n",
      "5. Do you have any specific technologies or programming languages in mind?\n",
      "\n",
      "With this information, I can offer tailored advice, resources, and next steps. If you want, I can also connect you with human experts for more specialized help.\n"
     ]
    }
   ],
   "source": [
    "config = {\"configurable\": {\"thread_id\": \"1\"}}\n",
    "user_input = \"I need some expert guidance and assistance for building an AI agent\"\n",
    "\n",
    "for chunk in app_human.stream({'messages':user_input},config,stream_mode=\"values\"):\n",
    "    if \"messages\" in chunk:\n",
    "        chunk[\"messages\"][-1].pretty_print()\n"
   ]
  },
  {
   "cell_type": "code",
   "execution_count": 112,
   "id": "763a6806",
   "metadata": {},
   "outputs": [
    {
     "name": "stdout",
     "output_type": "stream",
     "text": [
      "{'messages': [HumanMessage(content='Hello, I am John', additional_kwargs={}, response_metadata={}, id='25077e5a-3a9d-48e3-a771-44076c20b10a'), AIMessage(content='Hello John! How can I assist you today?', additional_kwargs={'refusal': None}, response_metadata={'token_usage': {'completion_tokens': 11, 'prompt_tokens': 1294, 'total_tokens': 1305, 'completion_tokens_details': {'accepted_prediction_tokens': 0, 'audio_tokens': 0, 'reasoning_tokens': 0, 'rejected_prediction_tokens': 0}, 'prompt_tokens_details': {'audio_tokens': 0, 'cached_tokens': 1152}}, 'model_name': 'gpt-4.1-mini-2025-04-14', 'system_fingerprint': 'fp_658b958c37', 'id': 'chatcmpl-C01Cn3o7ZKZIs45CD0CtcdeprNt7r', 'service_tier': 'default', 'finish_reason': 'stop', 'logprobs': None}, id='run--3f049198-dc90-46bb-b795-861a6c316d2c-0', usage_metadata={'input_tokens': 1294, 'output_tokens': 11, 'total_tokens': 1305, 'input_token_details': {'audio': 0, 'cache_read': 1152}, 'output_token_details': {'audio': 0, 'reasoning': 0}}), HumanMessage(content='Sorry, did I already introduce myself?', additional_kwargs={}, response_metadata={}, id='348bccb5-8102-4cef-b66f-a993042f0ed7'), AIMessage(content='Yes, you did! You introduced yourself as John. How can I help you today, John?', additional_kwargs={'refusal': None}, response_metadata={'token_usage': {'completion_tokens': 21, 'prompt_tokens': 1320, 'total_tokens': 1341, 'completion_tokens_details': {'accepted_prediction_tokens': 0, 'audio_tokens': 0, 'reasoning_tokens': 0, 'rejected_prediction_tokens': 0}, 'prompt_tokens_details': {'audio_tokens': 0, 'cached_tokens': 1152}}, 'model_name': 'gpt-4.1-mini-2025-04-14', 'system_fingerprint': 'fp_658b958c37', 'id': 'chatcmpl-C01CxZESsq5e7MGiAaTfgsrrWhtGu', 'service_tier': 'default', 'finish_reason': 'stop', 'logprobs': None}, id='run--77ba3f7d-e582-415c-8e65-b323c87c7885-0', usage_metadata={'input_tokens': 1320, 'output_tokens': 21, 'total_tokens': 1341, 'input_token_details': {'audio': 0, 'cache_read': 1152}, 'output_token_details': {'audio': 0, 'reasoning': 0}}), HumanMessage(content='I want to invest in apple stock. how is the stock price?', additional_kwargs={}, response_metadata={}, id='38044aca-bdba-43ae-8255-0c02dae15f0d'), AIMessage(content='', additional_kwargs={'tool_calls': [{'id': 'call_nVSWYp8Vuu7FN4O4KzvRn4fG', 'function': {'arguments': '{\"query\":\"Apple stock price\",\"include_domains\":[\"finance.yahoo.com\",\"marketwatch.com\",\"bloomberg.com\"],\"search_depth\":\"basic\"}', 'name': 'tavily_search'}, 'type': 'function'}], 'refusal': None}, response_metadata={'token_usage': {'completion_tokens': 40, 'prompt_tokens': 1362, 'total_tokens': 1402, 'completion_tokens_details': {'accepted_prediction_tokens': 0, 'audio_tokens': 0, 'reasoning_tokens': 0, 'rejected_prediction_tokens': 0}, 'prompt_tokens_details': {'audio_tokens': 0, 'cached_tokens': 1280}}, 'model_name': 'gpt-4.1-mini-2025-04-14', 'system_fingerprint': 'fp_6f2eabb9a5', 'id': 'chatcmpl-C01D6IZdgPKO0S8lidrz64JHfGi56', 'service_tier': 'default', 'finish_reason': 'tool_calls', 'logprobs': None}, id='run--8bc52f43-09ac-495c-aa18-0cdb08ed5d44-0', tool_calls=[{'name': 'tavily_search', 'args': {'query': 'Apple stock price', 'include_domains': ['finance.yahoo.com', 'marketwatch.com', 'bloomberg.com'], 'search_depth': 'basic'}, 'id': 'call_nVSWYp8Vuu7FN4O4KzvRn4fG', 'type': 'tool_call'}], usage_metadata={'input_tokens': 1362, 'output_tokens': 40, 'total_tokens': 1402, 'input_token_details': {'audio': 0, 'cache_read': 1280}, 'output_token_details': {'audio': 0, 'reasoning': 0}}), ToolMessage(content='{\"query\": \"Apple stock price\", \"follow_up_questions\": null, \"answer\": null, \"images\": [], \"results\": [{\"url\": \"https://sg.finance.yahoo.com/quote/AAPL/history/\", \"title\": \"Apple Inc. (AAPL) stock historical prices and data - Yahoo Finance\", \"content\": \"| Adj CloseAdjusted closing price adjusted for splits and dividend and/or capital gain distributions. | Volume 13 May 2025 | 210.43 | 213.40 | 209.00 | 212.93 | 212.93 | 51,759,900 12 May 2025 | 0.26Dividend 12 May 2025 | 210.97 | 211.27 | 206.75 | 210.79 | 210.79 | 63,775,800 9 May 2025 | 199.00 | 200.54 | 197.54 | 198.53 | 198.27 | 36,453,900 8 May 2025 | 197.72 | 200.05 | 194.68 | 197.49 | 197.23 | 50,478,900 7 May 2025 | 199.17 | 199.44 | 193.25 | 196.25 | 195.99 | 68,536,700 6 May 2025 | 198.21 | 200.65 | 197.02 | 198.51 | 198.25 | 51,216,500 5 May 2025 | 203.10 | 204.10 | 198.21 | 198.89 | 198.63 | 69,018,500 2 May 2025 | 206.09 | 206.99 | 202.16 | 205.35 | 205.08 | 101,010,600 1 May 2025 | 209.08 | 214.56 | 208.90 | 213.32 | 213.04 | 57,365,700 30 Apr 2025 | 209.30 | 213.58 | 206.67 | 212.50 | 212.22 | 52,286,500 29 Apr 2025 | 208.69 | 212.24 | 208.37 | 211.21 | 210.93 | 36,827,600 28 Apr 2025 | 210.00 | 211.50 | 207.46 | 210.14 | 209.86 | 38,743,100 25 Apr 2025 | 206.37 | 209.75 | 206.20 | 209.28 | 209.01 | 38,222,300 24 Apr 2025 | 204.89 | 208.83 | 202.94 | 208.37 | 208.10 | 47,311,000 23 Apr 2025 | 206.00 | 208.00 | 202.80 | 204.60 | 204.33 | 52,929,200 22 Apr 2025 | 196.12 | 201.59 | 195.97 | 199.74 | 199.48 | 52,976,400 21 Apr 2025 | 193.27 | 193.80 | 189.81 | 193.16 | 192.91 | 46,742,500 17 Apr 2025 | 197.20 | 198.83 | 194.42 | 196.98 | 196.72 | 51,334,300 16 Apr 2025 | 198.36 | 200.70 | 192.37 | 194.27 | 194.02 | 59,732,400 15 Apr 2025 | 201.86 | 203.51 | 199.80 | 202.14 | 201.88 | 51,343,900 14 Apr 2025 | 211.44 | 212.94 | 201.16 | 202.52 | 202.25 | 101,352,900 11 Apr 2025 | 186.10 | 199.54 | 186.06 | 198.15 | 197.89 | 87,435,900 10 Apr 2025 | 189.07 | 194.78 | 183.00 | 190.42 | 190.17 | 121,880,000 9 Apr 2025 | 171.95 | 200.61 | 171.89 | 198.85 | 198.59 | 184,395,900 8 Apr 2025 | 186.70 | 190.34 | 169.21 | 172.42 | 172.19 | 120,859,500 7 Apr 2025 | 177.20 | 194.15 | 174.62 | 181.46 | 181.22 | 160,466,300 4 Apr 2025 | 193.89 | 199.88 | 187.34 | 188.38 | 188.13 | 125,910,900 3 Apr 2025 | 205.54 | 207.49 | 201.25 | 203.19 | 202.92 | 103,419,000 2 Apr 2025 | 221.32 | 225.19 | 221.02 | 223.89 | 223.60 | 35,905,900 1 Apr 2025 | 219.81 | 223.68 | 218.90 | 223.19 | 222.90 | 36,412,700 31 Mar 2025 | 217.01 | 225.62 | 216.23 | 222.13 | 221.84 | 65,299,300 28 Mar 2025 | 221.67 | 223.81 | 217.68 | 217.90 | 217.61 | 39,818,600 27 Mar 2025 | 221.39 | 224.99 | 220.56 | 223.85 | 223.56 | 37,094,800 26 Mar 2025 | 223.51 | 225.02 | 220.47 | 221.53 | 221.24 | 34,466,100 25 Mar 2025 | 220.77 | 224.10 | 220.08 | 223.75 | 223.46 | 34,493,600 24 Mar 2025 | 221.00 | 221.48 | 218.58 | 220.73 | 220.44 | 44,299,500 21 Mar 2025 | 211.56 | 218.84 | 211.28 | 218.27 | 217.98 | 94,127,800 20 Mar 2025 | 213.99 | 217.49 | 212.22 | 214.10 | 213.82 | 48,862,900 19 Mar 2025 | 214.22 | 218.76 | 213.75 | 215.24 | 214.96 | 54,385,400 18 Mar 2025 | 214.16 | 215.15 | 211.49 | 212.69 | 212.41 | 42,432,400 17 Mar 2025 | 213.31 | 215.22 | 209.97 | 214.00 | 213.72 | 48,073,400 14 Mar 2025 | 211.25 | 213.95 | 209.58 | 213.49 | 213.21 | 60,107,600 13 Mar 2025 | 215.95 | 216.84 | 208.42 | 209.68 | 209.41 | 61,368,300 12 Mar 2025 | 220.14 | 221.75 | 214.91 | 216.98 | 216.70 | 62,547,500 11 Mar 2025 | 223.81 | 225.84 | 217.45 | 220.84 | 220.55 | 76,137,400 10 Mar 2025 | 235.54 | 236.16 | 224.22 | 227.48 | 227.18 | 72,071,200 7 Mar 2025 | 235.11 | 241.37 | 234.76 | 239.07 | 238.76 | 46,273,600 6 Mar 2025 | 234.44 | 237.86 | 233.16 | 235.33 | 235.02 | 45,170,400 5 Mar 2025 | 235.42 | 236.55 | 229.23 | 235.74 | 235.43 | 47,227,600 4 Mar 2025 | 237.71 | 240.07 | 234.68 | 235.93 | 235.62 | 53,798,100 3 Mar 2025 | 241.79 | 244.03 | 236.11 | 238.03 | 237.72 | 47,184,000 28 Feb 2025 | 236.95 | 242.09 | 230.20 | 241.84 | 241.52 | 56,833,400 27 Feb 2025 | 239.41 | 242.46 | 237.06 | 237.30 | 236.99 | 41,153,600 26 Feb 2025 | 244.33 | 244.98 | 239.13 | 240.36 | 240.05 | 44,433,600 25 Feb 2025 | 248.00 | 250.00 | 244.91 | 247.04 | 246.72 | 48,013,300 24 Feb 2025 | 244.93 | 248.86 | 244.42 | 247.10 | 246.78 | 51,326,400 21 Feb 2025 | 245.95 | 248.69 | 245.22 | 245.55 | 245.23 | 53,197,400 20 Feb 2025 | 244.94 | 246.78 | 244.29 | 245.83 | 245.51 | 32,316,900 19 Feb 2025 | 244.66 | 246.01 | 243.16 | 244.87 | 244.55 | 32,204,200 18 Feb 2025 | 244.15 | 245.18 | 241.84 | 244.47 | 244.15 | 48,822,500 14 Feb 2025 | 241.25 | 245.55 | 240.99 | 244.60 | 244.28 | 40,896,200 13 Feb 2025 | 236.91 | 242.34 | 235.57 | 241.53 | 241.21 | 53,614,100 12 Feb 2025 | 231.20 | 236.96 | 230.68 | 236.87 | 236.56 | 45,243,300 11 Feb 2025 | 228.20 | 235.23 | 228.13 | 232.62 | 232.32 | 53,718,400 10 Feb 2025 | 0.25Dividend 10 Feb 2025 | 229.57 | 230.59 | 227.20 | 227.65 | 227.35 | 33,115,600 7 Feb 2025 | 232.60 | 234.00 | 227.26 | 227.63 | 227.08 | 39,707,200 6 Feb 2025 | 231.29 | 233.80 | 230.43 | 233.22 | 232.66 | 29,925,300 5 Feb 2025 | 228.53 | 232.67 | 228.27 | 232.47 | 231.91 | 39,620,300 4 Feb 2025 | 227.25 | 233.13 | 226.65 | 232.80 | 232.24 | 45,067,300 3 Feb 2025 | 229.99 | 231.83 | 225.70 | 228.01 | 227.46 | 73,063,300 31 Jan 2025 | 247.19 | 247.19 | 233.44 | 236.00 | 235.43 | 101,075,100 30 Jan 2025 | 238.67 | 240.79 | 237.21 | 237.59 | 237.02 | 55,658,300 29 Jan 2025 | 234.12 | 239.86 | 234.01 | 239.36 | 238.78 | 45,486,100 28 Jan 2025 | 230.85 | 240.19 | 230.81 | 238.26 | 237.69 | 75,707,600 27 Jan 2025 | 224.02 | 232.15 | 223.98 | 229.86 | 229.31 | 94,863,400 24 Jan 2025 | 224.78 | 225.63 | 221.41 | 222.78 | 222.24 | 54,697,900 23 Jan 2025 | 224.74 | 227.03 | 222.30 | 223.66 | 223.12 | 60,234,800 22 Jan 2025 | 219.79 | 224.12 | 219.79 | 223.83 | 223.29 | 64,126,500 21 Jan 2025 | 224.00 | 224.42 | 219.38 | 222.64 | 222.10 | 98,070,400 17 Jan 2025 | 232.12 | 232.29 | 228.48 | 229.98 | 229.43 | 68,488,300 16 Jan 2025 | 237.35 | 238.01 | 228.03 | 228.26 | 227.71 | 71,759,100 15 Jan 2025 | 234.64 | 238.96 | 234.43 | 237.87 | 237.30 | 39,832,000 14 Jan 2025 | 234.75 | 236.12 | 232.47 | 233.28 | 232.72 | 39,435,300 13 Jan 2025 | 233.53 | 234.67 | 229.72 | 234.40 | 233.84 | 49,630,700 10 Jan 2025 | 240.01 | 240.16 | 233.00 | 236.85 | 236.28 | 61,710,900 8 Jan 2025 | 241.92 | 243.71 | 240.05 | 242.70 | 242.12 | 37,628,900 7 Jan 2025 | 242.98 | 245.55 | 241.35 | 242.21 | 241.63 | 40,856,000 6 Jan 2025 | 244.31 | 247.33 | 243.20 | 245.00 | 244.41 | 45,045,600 3 Jan 2025 | 243.36 | 244.18 | 241.89 | 243.36 | 242.77 | 40,244,100 2 Jan 2025 | 248.93 | 249.10 | 241.82 | 243.85 | 243.26 | 55,740,700 31 Dec 2024 | 252.44 | 253.28 | 249.43 | 250.42 | 249.82 | 39,480,700 30 Dec 2024 | 252.23 | 253.50 | 250.75 | 252.20 | 251.59 | 35,557,500 27 Dec 2024 | 257.83 | 258.70 | 253.06 | 255.59 | 254.97 | 42,355,300 26 Dec 2024 | 258.19 | 260.10 | 257.63 | 259.02 | 258.40 | 27,237,100 24 Dec 2024 | 255.49 | 258.21 | 255.29 | 258.20 | 257.58 | 23,234,700 23 Dec 2024 | 254.77 | 255.65 | 253.45 | 255.27 | 254.66 | 40,858,800 20 Dec 2024 | 248.04 | 255.00 | 245.69 | 254.49 | 253.88 | 147,495,300 19 Dec 2024 | 247.50 | 252.00 | 247.09 | 249.79 | 249.19 | 60,882,300 18 Dec 2024 | 252.16 | 254.28 | 247.74 | 248.05 | 247.45 | 56,774,100 17 Dec 2024 | 250.08 | 253.83 | 249.78 | 253.48 | 252.87 | 51,356,400 16 Dec 2024 | 247.99 | 251.38 | 247.65 | 251.04 | 250.44 | 51,694,800 13 Dec 2024 | 247.82 | 249.29 | 246.24 | 248.13 | 247.53 | 33,155,300 12 Dec 2024 | 246.89 | 248.74 | 245.68 | 247.96 | 247.36 | 32,777,500 11 Dec 2024 | 247.96 | 250.80 | 246.26 | 246.49 | 245.90 | 45,205,800 10 Dec 2024 | 246.89 | 248.21 | 245.34 | 247.77 | 247.17 | 36,914,800 9 Dec 2024 | 241.83 | 247.24 | 241.75 | 246.75 | 246.16 | 44,649,200 6 Dec 2024 | 242.91 | 244.63 | 242.08 | 242.84 | 242.26 | 36,870,600 5 Dec 2024 | 243.99 | 244.54 | 242.13 | 243.04 | 242.46 | 40,033,900 4 Dec 2024 | 242.87 | 244.11 | 241.25 | 243.01 | 242.43 | 44,383,900 3 Dec 2024 | 239.81 | 242.76 | 238.90 | 242.65 | 242.07 | 38,861,000 2 Dec 2024 | 237.27 | 240.79 | 237.16 | 239.59 | 239.01 | 48,137,100 29 Nov 2024 | 234.81 | 237.81 | 233.97 | 237.33 | 236.76 | 28,481,400 27 Nov 2024 | 234.47 | 235.69 | 233.81 | 234.93 | 234.36 | 33,498,400 26 Nov 2024 | 233.33 | 235.57 | 233.33 | 235.06 | 234.49 | 45,986,200 25 Nov 2024 | 231.46 | 233.25 | 229.74 | 232.87 | 232.31 | 90,152,800 22 Nov 2024 | 228.06 | 230.72 | 228.06 | 229.87 | 229.32 | 38,168,300 21 Nov 2024 | 228.88 | 230.16 | 225.71 | 228.52 | 227.97 | 42,108,300 20 Nov 2024 | 228.06 | 229.93 | 225.89 | 229.00 | 228.45 | 35,169,600 19 Nov 2024 | 226.98 | 230.16 | 226.66 | 228.28 | 227.73 | 36,211,800 18 Nov 2024 | 225.25 | 229.74 | 225.17 | 228.02 | 227.47 | 44,686,000 15 Nov 2024 | 226.40 | 226.92 | 224.27 | 225.00 | 224.46 | 47,923,700 14 Nov 2024 | 225.02 | 228.87 | 225.00 | 228.22 | 227.67 | 44,923,900 13 Nov 2024 | 224.01 | 226.65 | 222.76 | 225.12 | 224.58 | 48,566,200 12 Nov 2024 | 224.55 | 225.59 | 223.36 | 224.23 | 223.69 | 40,398,300 11 Nov 2024 | 225.00 | 225.70 | 221.50 | 224.23 | 223.69 | 42,005,600 8 Nov 2024 | 0.25Dividend 8 Nov 2024 | 227.17 | 228.66 | 226.41 | 226.96 | 226.41 | 38,328,800 7 Nov 2024 | 224.63 | 227.88 | 224.57 | 227.48 | 226.68 | 42,137,700 6 Nov 2024 | 222.61 | 226.07 | 221.19 | 222.72 | 221.94 | 54,561,100 5 Nov 2024 | 221.80 | 223.95 | 221.14 | 223.45 | 222.67 | 28,111,300 4 Nov 2024 | 220.99 | 222.79 | 219.71 | 222.01 | 221.23 | 44,944,500 1 Nov 2024 | 220.97 | 225.35 | 220.27 | 222.91 | 222.13 | 65,276,700 31 Oct 2024 | 229.34 | 229.83 | 225.37 | 225.91 | 225.12 | 64,370,100 30 Oct 2024 | 232.61 | 233.47 | 229.55 | 230.10 | 229.29 | 47,070,900 29 Oct 2024 | 233.10 | 234.33 | 232.32 | 233.67 | 232.85 | 35,417,200 28 Oct 2024 | 233.32 | 234.73 | 232.55 | 233.40 | 232.58 | 36,087,100 25 Oct 2024 | 229.74 | 233.22 | 229.57 | 231.41 | 230.60 | 38,802,300 24 Oct 2024 | 229.98 | 230.82 | 228.41 | 230.57 | 229.76 | 31,109,500 23 Oct 2024 | 234.08 | 235.14 | 227.76 | 230.76 | 229.95 | 52,287,000 22 Oct 2024 | 233.89 | 236.22 | 232.60 | 235.86 | 235.03 | 38,846,600 21 Oct 2024 | 234.45 | 236.85 | 234.45 | 236.48 | 235.65 | 36,254,500 18 Oct 2024 | 236.18 | 236.18 | 234.01 | 235.00 | 234.18 | 46,431,500 17 Oct 2024 | 233.43 | 233.85 | 230.52 | 232.15 | 231.34 | 32,993,800 16 Oct 2024 | 231.60 | 232.12 | 229.84 | 231.78 | 230.97 | 34,082,200 15 Oct 2024 | 233.61 | 237.49 | 232.37 | 233.85 | 233.03 | 64,751,400 14 Oct 2024 | 228.70 | 231.73 | 228.60 | 231.30 | 230.49 | 39,882,100 11 Oct 2024 | 229.30 | 229.41 | 227.34 | 227.55 | 226.75 | 31,759,200 10 Oct 2024 | 227.78 | 229.50 | 227.17 | 229.04 | 228.24 | 28,183,500 9 Oct 2024 | 225.23 | 229.75 | 224.83 | 229.54 | 228.74 | 33,591,100 8 Oct 2024 | 224.30 | 225.98 | 223.25 | 225.77 | 224.98 | 31,855,700 7 Oct 2024 | 224.50 | 225.69 | 221.33 | 221.69 | 220.91 | 39,505,400 4 Oct 2024 | 227.90 | 228.00 | 224.13 | 226.80 | 226.01 | 37,245,100 3 Oct 2024 | 225.14 | 226.81 | 223.32 | 225.67 | 224.88 | 34,044,200 2 Oct 2024 | 225.89 | 227.37 | 223.02 | 226.78 | 225.99 | 32,880,600 1 Oct 2024 | 229.52 | 229.65 | 223.74 | 226.21 | 225.42 | 63,285,000 30 Sept 2024 | 230.04 | 233.00 | 229.65 | 233.00 | 232.18 | 54,541,900 27 Sept 2024 | 228.46 | 229.52 | 227.30 | 227.79 | 226.99 | 34,026,000 26 Sept 2024 | 227.30 | 228.50 | 225.41 | 227.52 | 226.72 | 36,636,700 25 Sept 2024 | 224.93 | 227.29 | 224.02 | 226.37 | 225.58 | 42,308,700 24 Sept 2024 | 228.65 | 229.35 | 225.73 | 227.37 | 226.57 | 43,556,100 23 Sept 2024 | 227.34 | 229.45 | 225.81 | 226.47 | 225.68 | 54,146,000 20 Sept 2024 | 229.97 | 233.09 | 227.62 | 228.20 | 227.40 | 318,679,900 19 Sept 2024 | 224.99 | 229.82 | 224.63 | 228.87 | 228.07 | 66,781,300 18 Sept 2024 | 217.55 | 222.71 | 217.54 | 220.69 | 219.92 | 59,894,900 17 Sept 2024 | 215.75 | 216.90 | 214.50 | 216.79 | 216.03 | 45,519,300 16 Sept 2024 | 216.54 | 217.22 | 213.92 | 216.32 | 215.56 | 59,357,400 13 Sept 2024 | 223.58 | 224.04 | 221.91 | 222.50 | 221.72 | 36,766,600 12 Sept 2024 | 222.50 | 223.55 | 219.82 | 222.77 | 221.99 | 37,498,200 11 Sept 2024 | 221.46 | 223.09 | 217.89 | 222.66 | 221.88 | 44,587,100 10 Sept 2024 | 218.92 | 221.48 | 216.73 | 220.11 | 219.34 | 51,591,000 9 Sept 2024 | 220.82 | 221.27 | 216.71 | 220.91 | 220.14 | 67,180,000 6 Sept 2024 | 223.95 | 225.24 | 219.77 | 220.82 | 220.05 | 48,423,000 5 Sept 2024 | 221.63 | 225.48 | 221.52 | 222.38 | 221.60 | 36,615,400 4 Sept 2024 | 221.66 | 221.78 | 217.48 | 220.85 | 220.08 | 43,840,200 3 Sept 2024 | 228.55 | 229.00 | 221.17 | 222.77 | 221.99 | 50,190,600 30 Aug 2024 | 230.19 | 230.40 | 227.48 | 229.00 | 228.20 | 52,990,800 29 Aug 2024 | 230.10 | 232.92 | 228.88 | 229.79 | 228.99 | 51,906,300 28 Aug 2024 | 227.92 | 229.86 | 225.68 | 226.49 | 225.70 | 38,052,200 27 Aug 2024 | 226.00 | 228.85 | 224.89 | 228.03 | 227.23 | 35,934,600 26 Aug 2024 | 226.76 | 227.28 | 223.89 | 227.18 | 226.38 | 30,602,200 23 Aug 2024 | 225.66 | 228.22 | 224.33 | 226.84 | 226.05 | 38,677,300 22 Aug 2024 | 227.79 | 228.34 | 223.90 | 224.53 | 223.74 | 43,695,300 21 Aug 2024 | 226.52 | 227.98 | 225.05 | 226.40 | 225.61 | 34,765,500 20 Aug 2024 | 225.77 | 227.17 | 225.45 | 226.51 | 225.72 | 30,299,000 19 Aug 2024 | 225.72 | 225.99 | 223.04 | 225.89 | 225.10 | 40,687,800 16 Aug 2024 | 223.92 | 226.83 | 223.65 | 226.05 | 225.26 | 44,340,200 15 Aug 2024 | 224.60 | 225.35 | 222.76 | 224.72 | 223.93 | 46,414,000 14 Aug 2024 | 220.57 | 223.03 | 219.70 | 221.72 | 220.94 | 41,960,600 13 Aug 2024 | 219.01 | 221.89 | 219.01 | 221.27 | 220.49 | 44,155,300 12 Aug 2024 | 0.25Dividend 12 Aug 2024 | 216.07 | 219.51 | 215.60 | 217.53 | 216.77 | 38,028,100 9 Aug 2024 | 212.10 | 216.78 | 211.97 | 216.24 | 215.23 | 42,201,600 8 Aug 2024 | 213.11 | 214.20 | 208.83 | 213.31 | 212.32 | 47,161,100 7 Aug 2024 | 206.90 | 213.64 | 206.39 | 209.82 | 208.84 | 63,516,400 6 Aug 2024 | 205.30 | 209.99 | 201.07 | 207.23 | 206.27 | 69,660,500 5 Aug 2024 | 199.09 | 213.50 | 196.00 | 209.27 | 208.30 | 119,548,600 2 Aug 2024 | 219.15 | 225.60 | 217.71 | 219.86 | 218.84 | 105,568,600 1 Aug 2024 | 224.37 | 224.48 | 217.02 | 218.36 | 217.34 | 62,501,000 31 Jul 2024 | 221.44 | 223.82 | 220.63 | 222.08 | 221.05 | 50,036,300 30 Jul 2024 | 219.19 | 220.33 | 216.12 | 218.80 | 217.78 | 41,643,800 29 Jul 2024 | 216.96 | 219.30 | 215.75 | 218.24 | 217.22 | 36,311,800 26 Jul 2024 | 218.70 | 219.49 | 216.01 | 217.96 | 216.95 | 41,601,300 25 Jul 2024 | 218.93 | 220.85 | 214.62 | 217.49 | 216.48 | 51,391,200 24 Jul 2024 | 224.00 | 224.80 | 217.13 | 218.54 | 217.52 | 61,777,600 23 Jul 2024 | 224.37 | 226.94 | 222.68 | 225.01 | 223.96 | 39,960,300 22 Jul 2024 | 227.01 | 227.78 | 223.09 | 223.96 | 222.92 | 48,201,800 19 Jul 2024 | 224.82 | 226.80 | 223.28 | 224.31 | 223.27 | 49,151,500 18 Jul 2024 | 230.28 | 230.44 | 222.27 | 224.18 | 223.14 | 66,034,600 17 Jul 2024 | 229.45 | 231.46 | 226.64 | 228.88 | 227.81 | 57,345,900 16 Jul 2024 | 235.00 | 236.27 | 232.33 | 234.82 | 233.73 | 43,234,300 15 Jul 2024 | 236.48 | 237.23 | 233.09 | 234.40 | 233.31 | 62,631,300 12 Jul 2024 | 228.92 | 232.64 | 228.68 | 230.54 | 229.47 | 53,046,500 11 Jul 2024 | 231.39 | 232.39 | 225.77 | 227.57 | 226.51 | 64,710,600 10 Jul 2024 | 229.30 | 233.08 | 229.25 | 232.98 | 231.90 | 62,627,700 9 Jul 2024 | 227.93 | 229.40 | 226.37 | 228.68 | 227.62 | 48,076,100 8 Jul 2024 | 227.09 | 227.85 | 223.25 | 227.82 | 226.76 | 59,085,900 5 Jul 2024 | 221.65 | 226.45 | 221.65 | 226.34 | 225.29 | 60,412,400 3 Jul 2024 | 220.00 | 221.55 | 219.03 | 221.55 | 220.52 | 37,369,800 2 Jul 2024 | 216.15 | 220.38 | 215.10 | 220.27 | 219.24 | 58,046,200 1 Jul 2024 | 212.09 | 217.51 | 211.92 | 216.75 | 215.74 | 60,402,900 28 Jun 2024 | 215.77 | 216.07 | 210.30 | 210.62 | 209.64 | 82,542,700 27 Jun 2024 | 214.69 | 215.74 | 212.35 | 214.10 | 213.10 | 49,772,700 26 Jun 2024 | 211.50 | 214.86 | 210.64 | 213.25 | 212.26 | 66,213,200 25 Jun 2024 | 209.15 | 211.38 | 208.61 | 209.07 | 208.10 | 56,713,900 24 Jun 2024 | 207.72 | 212.70 | 206.59 | 208.14 | 207.17 | 80,727,000 21 Jun 2024 | 210.39 | 211.89 | 207.11 | 207.49 | 206.52 | 246,421,400 20 Jun 2024 | 213.93 | 214.24 | 208.85 | 209.68 | 208.70 | 86,172,500 18 Jun 2024 | 217.59 | 218.63 | 213.00 | 214.29 | 213.29 | 79,943,300 17 Jun 2024 | 213.37 | 218.95 | 212.72 | 216.67 | 215.66 | 93,728,300 14 Jun 2024 | 213.85 | 215.17 | 211.30 | 212.49 | 211.50 | 70,122,700 13 Jun 2024 | 214.74 | 216.75 | 211.60 | 214.24 | 213.24 | 97,862,700 12 Jun 2024 | 207.37 | 220.20 | 206.90 | 213.07 | 212.08 | 198,134,300 11 Jun 2024 | 193.65 | 207.16 | 193.63 | 207.15 | 206.19 | 172,373,300 10 Jun 2024 | 196.90 | 197.30 | 192.15 | 193.12 | 192.22 | 97,262,100 7 Jun 2024 | 194.65 | 196.94 | 194.14 | 196.89 | 195.97 | 53,103,900 6 Jun 2024 | 195.69 | 196.50 | 194.17 | 194.48 | 193.57 | 41,181,800 5 Jun 2024 | 195.40 | 196.90 | 194.87 | 195.87 | 194.96 | 54,156,800 4 Jun 2024 | 194.64 | 195.32 | 193.03 | 194.35 | 193.45 | 47,471,400 3 Jun 2024 | 192.90 | 194.99 | 192.52 | 194.03 | 193.13 | 50,080,500 31 May 2024 | 191.44 | 192.57 | 189.91 | 192.25 | 191.36 | 75,158,300 30 May 2024 | 190.76 | 192.18 | 190.63 | 191.29 | 190.40 | 49,947,900 29 May 2024 | 189.61 | 192.25 | 189.51 | 190.29 | 189.40 | 53,068,000 28 May 2024 | 191.51 | 193.00 | 189.10 | 189.99 | 189.11 | 52,280,100 24 May 2024 | 188.82 | 190.58 | 188.04 | 189.98 | 189.10 | 36,294,600 23 May 2024 | 190.98 | 191.00 | 186.63 | 186.88 | 186.01 | 51,005,900 22 May 2024 | 192.27 | 192.82 | 190.27 | 190.90 | 190.01 | 34,648,500 21 May 2024 | 191.09 | 192.73 | 190.92 | 192.35 | 191.45 | 42,309,400 20 May 2024 | 189.33 | 191.92 | 189.01 | 191.04 | 190.15 | 44,361,300 17 May 2024 | 189.51 | 190.81 | 189.18 | 189.87 | 188.99 | 41,282,900 16 May 2024 | 190.47 | 191.10 | 189.66 | 189.84 | 188.96 | 52,845,200 15 May 2024 | 187.91 | 190.65 | 187.37 | 189.72 | 188.84 | 70,400,000 14 May 2024 | 187.51 | 188.30 | 186.29 | 187.43 | 186.56 | 52,393,600 Related tickers Sign in to access your portfolio\", \"score\": 0.8259413, \"raw_content\": null}, {\"url\": \"https://finance.yahoo.com/quote/AAPL.BA/\", \"title\": \"Apple Inc. (AAPL.BA) Stock Price, News, Quote & History\", \"content\": \"3.   [Breaking News • 4 hours ago Stock futures jump as US trade court blocks Trump\\'s global tariffs](https://finance.yahoo.com/news/live/stock-market-today-dow-sp-500-nasdaq-futures-jump-as-court-blocks-trump-tariffs-nvidia-earnings-impress-234801294.html?.tsrc=fin-notif) [Breaking News • 14 hours ago Dow, S&P 500, Nasdaq move higher with all eyes on Nvidia earnings](https://finance.yahoo.com/news/live/stock-market-today-dow-sp-500-nasdaq-futures-stall-with-all-eyes-on-nvidia-earnings-233141257.html?.tsrc=fin-notif) [Breaking News • yesterday The Dow gained 740 points and the S&P 500 soared 2% as Trump eased EU trade tensions, and consumer confidence jumped](https://finance.yahoo.com/news/live/stock-market-today-dow-sp-500-nasdaq-soar-as-trump-pauses-eu-tariff-hikes-for-fast-tracked-talks-133348369.html?.tsrc=fin-notif) [Breaking News • 5 days ago Stocks end the week in the red as Trump\\'s tariff threats roar back and US deficit anxiety deepens](https://finance.yahoo.com/news/live/stock-market-today-dow-sp-500-nasdaq-fall-as-trump-tariff-threats-roar-back-us-deficit-anxiety-deepens-200055672.html?.tsrc=fin-notif) [Breaking News • 5 days ago Dow falls over 400 points, Nasdaq sinks 1.6% as Trump reignites trade war with broadsides at Apple, EU](https://finance.yahoo.com/news/live/stock-market-today-dow-sp-500-nasdaq-sink-as-trump-threatens-apple-eu-with-new-tariffs-133029628.html?.tsrc=fin-notif) [Breaking News • 5 days ago Dow futures sink 650 points after Trump threatens new tariffs on Apple and the EU](https://finance.yahoo.com/news/live/stock-market-today-dow-sp-500-nasdaq-futures-slide-as-trump-threatens-apple-eu-with-new-tariffs-234705035.html?.tsrc=fin-notif)\", \"score\": 0.68723184, \"raw_content\": null}], \"response_time\": 1.17}', name='tavily_search', id='a37e0218-e7ad-4b38-b509-d632f871a05f', tool_call_id='call_nVSWYp8Vuu7FN4O4KzvRn4fG'), AIMessage(content='The latest available data shows that Apple Inc. (AAPL) stock price is around $210 to $213 per share as of mid-May 2025. For example, on May 13, 2025, the closing price was approximately $212.93.\\n\\nIf you want more detailed or real-time information, I recommend checking a financial website like Yahoo Finance or MarketWatch. Would you like me to help you with anything else related to Apple stock or investing?', additional_kwargs={'refusal': None}, response_metadata={'token_usage': {'completion_tokens': 95, 'prompt_tokens': 11616, 'total_tokens': 11711, 'completion_tokens_details': {'accepted_prediction_tokens': 0, 'audio_tokens': 0, 'reasoning_tokens': 0, 'rejected_prediction_tokens': 0}, 'prompt_tokens_details': {'audio_tokens': 0, 'cached_tokens': 1280}}, 'model_name': 'gpt-4.1-mini-2025-04-14', 'system_fingerprint': 'fp_658b958c37', 'id': 'chatcmpl-C01DgcmkVMlmkwnwOWKh8rItHMsxS', 'service_tier': 'default', 'finish_reason': 'stop', 'logprobs': None}, id='run--6d9d6d63-4f03-4dfc-915c-b6e06c6fee29-0', usage_metadata={'input_tokens': 11616, 'output_tokens': 95, 'total_tokens': 11711, 'input_token_details': {'audio': 0, 'cache_read': 1280}, 'output_token_details': {'audio': 0, 'reasoning': 0}}), HumanMessage(content='I need some expert guidance and assistance for building an AI agent', additional_kwargs={}, response_metadata={}, id='876a6228-09b2-4327-bce4-2c591ac490c7'), AIMessage(content='Building an AI agent can be an exciting and complex project! To provide you with the best guidance and assistance, could you please share more details about your AI agent? For example:\\n\\n1. What is the primary purpose or function of the AI agent?\\n2. What kind of data or inputs will it work with?\\n3. Are you looking to build it from scratch or use existing frameworks or platforms?\\n4. What is your level of experience with AI, machine learning, and programming?\\n5. Do you have any specific technologies or programming languages in mind?\\n\\nWith this information, I can offer tailored advice, resources, and next steps. If you want, I can also connect you with human experts for more specialized help.', additional_kwargs={'refusal': None}, response_metadata={'token_usage': {'completion_tokens': 145, 'prompt_tokens': 11730, 'total_tokens': 11875, 'completion_tokens_details': {'accepted_prediction_tokens': 0, 'audio_tokens': 0, 'reasoning_tokens': 0, 'rejected_prediction_tokens': 0}, 'prompt_tokens_details': {'audio_tokens': 0, 'cached_tokens': 11648}}, 'model_name': 'gpt-4.1-mini-2025-04-14', 'system_fingerprint': 'fp_658b958c37', 'id': 'chatcmpl-C01DvXu85slWwMBTe60JlWoMo9MbL', 'service_tier': 'default', 'finish_reason': 'stop', 'logprobs': None}, id='run--dca17ef0-3ba8-4b96-bbf3-e0e83a4883bf-0', usage_metadata={'input_tokens': 11730, 'output_tokens': 145, 'total_tokens': 11875, 'input_token_details': {'audio': 0, 'cache_read': 11648}, 'output_token_details': {'audio': 0, 'reasoning': 0}})]}\n"
     ]
    }
   ],
   "source": [
    "human_response = (\n",
    "    \"We, the experts are here to help! We'd recommend you check out LangGraph to build your agent.\"\n",
    "    \" It's much more reliable and extensible than simple autonomous agents.\"\n",
    ")\n",
    "\n",
    "human_command = Command(resume={\"data\": human_response})\n",
    "\n",
    "events = app_human.stream(human_command, config, stream_mode=\"values\")\n",
    "for event in events:\n",
    "    print(event)"
   ]
  },
  {
   "cell_type": "code",
   "execution_count": 113,
   "id": "3bc65078",
   "metadata": {},
   "outputs": [],
   "source": [
    "## good tutorial \n",
    "# https://github.com/Coding-Crashkurse/LangGraph-Tutorial/blob/main/human_in_loop.ipynb"
   ]
  },
  {
   "cell_type": "code",
   "execution_count": null,
   "id": "91e6b07a",
   "metadata": {},
   "outputs": [],
   "source": []
  },
  {
   "cell_type": "code",
   "execution_count": null,
   "id": "e8121ad5",
   "metadata": {},
   "outputs": [],
   "source": []
  }
 ],
 "metadata": {
  "kernelspec": {
   "display_name": "Sahaj_Devday (3.13.5)",
   "language": "python",
   "name": "python3"
  },
  "language_info": {
   "codemirror_mode": {
    "name": "ipython",
    "version": 3
   },
   "file_extension": ".py",
   "mimetype": "text/x-python",
   "name": "python",
   "nbconvert_exporter": "python",
   "pygments_lexer": "ipython3",
   "version": "3.13.5"
  }
 },
 "nbformat": 4,
 "nbformat_minor": 5
}
