{
 "cells": [
  {
   "cell_type": "markdown",
   "id": "391a69df",
   "metadata": {},
   "source": [
    "### Task\n",
    "- Create a script that does the Follwing:\n",
    "\n",
    "1. Detect the Intnet of Message (question,feedback , help.compilant)\n",
    "2. Give an appopirate response"
   ]
  },
  {
   "cell_type": "code",
   "execution_count": 6,
   "id": "b122f914",
   "metadata": {},
   "outputs": [
    {
     "data": {
      "text/plain": [
       "True"
      ]
     },
     "execution_count": 6,
     "metadata": {},
     "output_type": "execute_result"
    }
   ],
   "source": [
    "from langchain_openai import ChatOpenAI\n",
    "from langchain_core.messages import SystemMessage, HumanMessage, AIMessage\n",
    "from dotenv import load_dotenv\n",
    "\n",
    "load_dotenv()\n"
   ]
  },
  {
   "cell_type": "code",
   "execution_count": 7,
   "id": "04a7757e",
   "metadata": {},
   "outputs": [],
   "source": [
    "from langchain_google_genai import ChatGoogleGenerativeAI\n",
    "model = ChatGoogleGenerativeAI(model=\"gemini-2.5-pro\", temperature=0)"
   ]
  },
  {
   "cell_type": "code",
   "execution_count": 8,
   "id": "48eca117",
   "metadata": {},
   "outputs": [],
   "source": [
    "from dotenv import load_dotenv\n",
    "from langchain.prompts import ChatPromptTemplate\n",
    "from langchain_openai import ChatOpenAI\n",
    "from IPython.display import Image, display\n",
    "\n",
    "from langgraph.graph import StateGraph , START , END , MessageGraph \n",
    "from langchain_core.messages import HumanMessage , AIMessage , SystemMessage\n",
    "from typing import TypedDict"
   ]
  },
  {
   "cell_type": "code",
   "execution_count": 9,
   "id": "2735ffcc",
   "metadata": {},
   "outputs": [
    {
     "data": {
      "text/plain": [
       "AIMessage(content=\"Hello! Thanks for asking. As an AI, I don't have feelings, but I'm functioning perfectly and I'm ready to help.\\n\\nHow can I assist you today?\", additional_kwargs={}, response_metadata={'prompt_feedback': {'block_reason': 0, 'safety_ratings': []}, 'finish_reason': 'STOP', 'model_name': 'gemini-2.5-pro', 'safety_ratings': []}, id='run--1894252a-192e-4ba2-8cc9-62e86c1a5b14-0', usage_metadata={'input_tokens': 7, 'output_tokens': 1352, 'total_tokens': 1359, 'input_token_details': {'cache_read': 0}, 'output_token_details': {'reasoning': 1313}})"
      ]
     },
     "execution_count": 9,
     "metadata": {},
     "output_type": "execute_result"
    }
   ],
   "source": [
    "model.invoke(\"Hello, how are you?\")"
   ]
  },
  {
   "cell_type": "code",
   "execution_count": 10,
   "id": "338f659f",
   "metadata": {},
   "outputs": [],
   "source": [
    "# define the state\n",
    "from typing import Annotated\n",
    "from langgraph.graph.message import add_messages\n",
    "\n",
    "class State(TypedDict):\n",
    "    messages:Annotated[list,add_messages]\n",
    "    feedback:Annotated[list, add_messages]\n",
    "    help:Annotated[list, add_messages]\n",
    "    complaint:Annotated[list, add_messages]"
   ]
  },
  {
   "cell_type": "code",
   "execution_count": 11,
   "id": "ba2cc932",
   "metadata": {},
   "outputs": [],
   "source": [
    "def query_function(state:State):\n",
    "    \"\"\"\n",
    "    This function will classify the sentiment of the message\n",
    "    \"\"\"\n",
    "    user_input = state[\"messages\"][0].content\n",
    "    prompt = f\"\"\"\n",
    "    You are the Expert AI Assitant, how will take the user input and answer to his question,\n",
    "    before answering to the question , you need to understnad the question througly and give the feedback and give reply of that particluar message needed help \n",
    "    and take down compilaint if the user had given , and also you need to be smart and reply it politely. \n",
    "    \"\"\"\n",
    "    final_message = user_input + prompt\n",
    "    response = model.invoke(final_message).content\n",
    "    return {\"messages\": [response]}\n"
   ]
  },
  {
   "cell_type": "code",
   "execution_count": 12,
   "id": "4b7e21a2",
   "metadata": {},
   "outputs": [],
   "source": [
    "def feedback_function(state:State):\n",
    "    \"\"\"\n",
    "    This function will classify the sentiment of the message\n",
    "    \"\"\"\n",
    "    user_input = state[\"messages\"][0].content\n",
    "    prompt = f\"\"\"\n",
    "    You are the Expert AI Assitant, Understnad the User topic and give the feedback to the user and also you need to be smart and reply it politely. \n",
    "    \"\"\"\n",
    "    final_message = user_input + prompt\n",
    "    response = model.invoke(final_message).content\n",
    "    return {\"messages\": [response]}\n"
   ]
  },
  {
   "cell_type": "code",
   "execution_count": 13,
   "id": "92b5bc8a",
   "metadata": {},
   "outputs": [],
   "source": [
    "def complaint_function(state:State):\n",
    "    \"\"\"\n",
    "    This function will classify the sentiment of the message\n",
    "    \"\"\"\n",
    "    user_input = state[\"messages\"][0].content\n",
    "    prompt = f\"\"\"\n",
    "  You are the Expert in Understnading user Complaint , Understnad the User topic and \n",
    "  note his compliant and give reply with politely and give the suggestion\n",
    "    \"\"\"\n",
    "    final_message = user_input + prompt\n",
    "    response = model.invoke(final_message).content\n",
    "    return {\"messages\": [response]}\n"
   ]
  },
  {
   "cell_type": "code",
   "execution_count": 14,
   "id": "26741bf2",
   "metadata": {},
   "outputs": [],
   "source": [
    "workflow = StateGraph(State)\n",
    "workflow.add_node(\"User Query\" , query_function)\n",
    "workflow.add_node(\"Take Compliant\" , complaint_function)\n",
    "workflow.add_node(\"Feedback\" ,feedback_function)\n",
    "workflow.add_edge(START , \"User Query\")\n",
    "workflow.add_edge(\"User Query\" , \"Take Compliant\")\n",
    "workflow.add_edge(\"Take Compliant\" , \"Feedback\")\n",
    "workflow.add_edge(\"Feedback\" , END)\n",
    "app = workflow.compile()"
   ]
  },
  {
   "cell_type": "code",
   "execution_count": 15,
   "id": "c5825c10",
   "metadata": {},
   "outputs": [
    {
     "data": {
      "image/png": "[encoded data removed]",
      "text/plain": [
       "<langgraph.graph.state.CompiledStateGraph object at 0x000001CF3CB58050>"
      ]
     },
     "execution_count": 15,
     "metadata": {},
     "output_type": "execute_result"
    }
   ],
   "source": [
    "app "
   ]
  },
  {
   "cell_type": "code",
   "execution_count": null,
   "id": "754b2b28",
   "metadata": {},
   "outputs": [],
   "source": []
  },
  {
   "cell_type": "code",
   "execution_count": null,
   "id": "ec4a9b95",
   "metadata": {},
   "outputs": [],
   "source": []
  },
  {
   "cell_type": "code",
   "execution_count": null,
   "id": "8b550ab1",
   "metadata": {},
   "outputs": [],
   "source": []
  }
 ],
 "metadata": {
  "kernelspec": {
   "display_name": "Sahaj_Devday (3.13.5)",
   "language": "python",
   "name": "python3"
  },
  "language_info": {
   "codemirror_mode": {
    "name": "ipython",
    "version": 3
   },
   "file_extension": ".py",
   "mimetype": "text/x-python",
   "name": "python",
   "nbconvert_exporter": "python",
   "pygments_lexer": "ipython3",
   "version": "3.13.5"
  }
 },
 "nbformat": 4,
 "nbformat_minor": 5
}
